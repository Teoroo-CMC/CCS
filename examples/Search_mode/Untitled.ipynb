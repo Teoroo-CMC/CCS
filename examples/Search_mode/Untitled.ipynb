{
 "cells": [
  {
   "cell_type": "code",
   "execution_count": 16,
   "id": "a5c97c09-8f08-4c77-bdc7-52a11d100061",
   "metadata": {},
   "outputs": [],
   "source": [
    "from ase import Atoms\n",
    "from ase.calculators.lj import LennardJones\n",
    "\n",
    "LJ = Atoms('NaCl', positions=[(0, 0, 0), (0, 0, 2.5)], cell=[[5.0,0,0],[0,5.0,0],[0,0,5.0]], pbc=[True,True,True])\n",
    "LJ=LJ*[2,2,2]\n",
    "calc = LennardJones()\n",
    "LJ.calc = calc"
   ]
  },
  {
   "cell_type": "code",
   "execution_count": 17,
   "id": "4e6a6588-0970-4210-ac1c-72bd2f6c6ceb",
   "metadata": {},
   "outputs": [
    {
     "data": {
      "text/plain": [
       "-0.17339919026817963"
      ]
     },
     "execution_count": 17,
     "metadata": {},
     "output_type": "execute_result"
    }
   ],
   "source": [
    "LJ.get_potential_energy()"
   ]
  },
  {
   "cell_type": "code",
   "execution_count": 18,
   "id": "d454a153-9d13-4af8-841c-a55476780f8c",
   "metadata": {},
   "outputs": [
    {
     "name": "stdout",
     "output_type": "stream",
     "text": [
      "['__abstractmethods__', '__annotations__', '__class__', '__delattr__', '__dict__', '__dir__', '__doc__', '__eq__', '__format__', '__ge__', '__getattribute__', '__gt__', '__hash__', '__init__', '__init_subclass__', '__le__', '__lt__', '__module__', '__ne__', '__new__', '__reduce__', '__reduce_ex__', '__repr__', '__setattr__', '__sizeof__', '__slots__', '__str__', '__subclasshook__', '__weakref__', '_abc_impl', '_deprecated', '_deprecated_get_spin_polarized', '_directory', 'atoms', 'band_structure', 'calculate', 'calculate_numerical_forces', 'calculate_numerical_stress', 'calculate_properties', 'calculation_required', 'check_state', 'default_parameters', 'directory', 'discard_results_on_any_change', 'export_properties', 'get_atoms', 'get_charges', 'get_default_parameters', 'get_dipole_moment', 'get_forces', 'get_magnetic_moment', 'get_magnetic_moments', 'get_potential_energies', 'get_potential_energy', 'get_property', 'get_spin_polarized', 'get_stress', 'get_stresses', 'ignored_changes', 'implemented_properties', 'label', 'name', 'nl', 'nolabel', 'parameters', 'prefix', 'read', 'read_atoms', 'reset', 'results', 'set', 'set_label', 'todict']\n"
     ]
    }
   ],
   "source": [
    "print(dir(calc))"
   ]
  },
  {
   "cell_type": "code",
   "execution_count": 19,
   "id": "0dc01873-cce7-432d-a0dd-71f435928b04",
   "metadata": {},
   "outputs": [
    {
     "name": "stdout",
     "output_type": "stream",
     "text": [
      "{'epsilon': 1.0, 'sigma': 1.0, 'rc': 3.0, 'ro': 1.98, 'smooth': False}\n"
     ]
    }
   ],
   "source": [
    "print(calc.parameters)"
   ]
  },
  {
   "cell_type": "code",
   "execution_count": null,
   "id": "d7c81cb0-96ab-41a8-abbe-cda2d73cd95f",
   "metadata": {},
   "outputs": [],
   "source": []
  }
 ],
 "metadata": {
  "kernelspec": {
   "display_name": "CCS_fit_search_mode",
   "language": "python",
   "name": "ccs_fit_search_mode"
  },
  "language_info": {
   "codemirror_mode": {
    "name": "ipython",
    "version": 3
   },
   "file_extension": ".py",
   "mimetype": "text/x-python",
   "name": "python",
   "nbconvert_exporter": "python",
   "pygments_lexer": "ipython3",
   "version": "3.9.15"
  }
 },
 "nbformat": 4,
 "nbformat_minor": 5
}
