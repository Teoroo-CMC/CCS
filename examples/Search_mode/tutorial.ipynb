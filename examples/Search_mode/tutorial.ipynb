{
 "cells": [
  {
   "cell_type": "markdown",
   "id": "74f144dd",
   "metadata": {},
   "source": [
    "# A simple, yet complete, tutorial on how use the CCS_fit module to fit two-body interactions"
   ]
  },
  {
   "cell_type": "code",
   "execution_count": 1,
   "id": "d88f1c57-aa71-4a19-9b6b-e9ada91bb1e6",
   "metadata": {},
   "outputs": [],
   "source": [
    "from ase.io import read,write\n",
    "import numpy as np\n",
    "import ase.db as db\n",
    "from ase.visualize import view\n",
    "from ase import Atoms\n",
    "from ase.calculators.lj import LennardJones\n",
    "\n",
    "LJ = Atoms('NaCl', positions=[(0, 0, 0), (0, 0, 2.5)], cell=[[5.0,0,0],[0,5.0,0],[0,0,5.0]], pbc=[True,True,True])\n",
    "LJ=LJ*[2,2,2]\n",
    "calc = LennardJones()\n",
    "LJ.calc = calc\n",
    "\n",
    "Fit_on_forces=True  #Enable/disable option for fitting CCS potential to atomic forces. "
   ]
  },
  {
   "cell_type": "markdown",
   "id": "16cf8943-479f-4215-b40e-863f22c69e1e",
   "metadata": {},
   "source": [
    "### Generate training data\n",
    "Curvature Constrained Splines can be fitted to a reference data-set with energies (and optionally forces) of pre-calculated structures. In this example we generate the reference data-set using a Lennard-Jones potential. We use a LJ bulk structure that we randomly rattle and scale. \n"
   ]
  },
  {
   "cell_type": "code",
   "execution_count": 2,
   "id": "08462efc-3e68-413a-8f15-08d51af53223",
   "metadata": {},
   "outputs": [],
   "source": [
    "# CHECK THE RATTLE FUNCTION TO MAKE SURE THAT WE DO NOT GET THE SAME RATTLES EVERY TIME\n",
    "\n",
    "orig_cell = LJ.get_cell()\n",
    "orig_struc = LJ.copy()\n",
    "\n",
    "displacement_magnitude=0.02  # 0.02 and disp_steps 5 leads to decieving results!\n",
    "disp_steps=7\n",
    "rounds=1\n",
    "\n",
    "trainset_list=\"file_list\" # List of strucutres to include in the data-base (see below)\n",
    "f = open(trainset_list, \"w\")\n",
    "counter=1\n",
    "for round in range(rounds):\n",
    "    for scale in np.linspace(0.9, 1.1, 21):\n",
    "        new_cell = orig_cell*scale\n",
    "        new_struc = orig_struc.copy()\n",
    "        new_struc.set_cell(new_cell)\n",
    "        new_struc.calc = calc\n",
    "        nrg = new_struc.get_potential_energy()\n",
    "        for i in range(disp_steps):\n",
    "            rattle_struc = new_struc.copy()\n",
    "            rattle_struc.rattle(displacement_magnitude*i, seed=2+round)\n",
    "            rattle_struc.calc = calc\n",
    "            nrg = rattle_struc.get_potential_energy()\n",
    "            if nrg < 0:\n",
    "                xyz_file=f\"CALCULATED_DATA/S{counter}.xyz\"\n",
    "                write(xyz_file,rattle_struc)\n",
    "                print(xyz_file,file=f)\n",
    "                counter += 1\n",
    "\n",
    "f.close()"
   ]
  },
  {
   "cell_type": "markdown",
   "id": "641b2db0-8ed2-475f-ad5d-b50e36411117",
   "metadata": {},
   "source": [
    "### BUILD REFERENCE DATA-BASE\n",
    "\n",
    "After generating the data, we collect it in an ASE database file. The ``file_list`` is a file containing a list of files to be collected into the data base.\n",
    "\n",
    "Example of a ``file_list`` file:\n",
    "\n",
    "    CALCULATED_DATA/S2.xyz\n",
    "    CALCULATED_DATA/S3.xyz\n",
    "    CALCULATED_DATA/S4.xyz\n",
    "    CALCULATED_DATA/S5.xyz\n",
    "    CALCULATED_DATA/S6.xyz\n",
    "    CALCULATED_DATA/S7.xyz\n",
    "    CALCULATED_DATA/S8.xyz\n",
    "    CALCULATED_DATA/S9.xyz\n",
    "\n"
   ]
  },
  {
   "cell_type": "code",
   "execution_count": 3,
   "id": "387f54e1-dac6-4fc1-a0a9-b9ba8c045ec0",
   "metadata": {},
   "outputs": [
    {
     "name": "stderr",
     "output_type": "stream",
     "text": [
      "    Building data-bases: 100%|██████████████████████████████████████████████████████████████| 147/147 [00:00<00:00, 272.39it/s]\n"
     ]
    }
   ],
   "source": [
    "from ccs_fit.scripts.ccs_build_db import ccs_build_db\n",
    "\n",
    "ccs_build_db(mode=\"CCS\",DFT_DB=\"LJ.db\",file_list=\"file_list\",overwrite=True)"
   ]
  },
  {
   "cell_type": "markdown",
   "id": "bdb9cdef",
   "metadata": {},
   "source": [
    "### Generate the CCS_fit input file; structures.json\n",
    "The next commands fetch the training-set data from the ASE database containing the LJ structures and the corresponding energies. The reference data is called ``DFT_DB`` since the most common source of reference data is DFT."
   ]
  },
  {
   "cell_type": "code",
   "execution_count": 4,
   "id": "e096b5f0",
   "metadata": {},
   "outputs": [
    {
     "name": "stderr",
     "output_type": "stream",
     "text": [
      "    Fetching data: 100%|\u001b[38;2;0;128;128m████████████████████████████████████████████████████████████████████\u001b[0m| 147/147 [00:00<00:00, 627.19it/s]\u001b[0m\n"
     ]
    }
   ],
   "source": [
    "from ccs_fit.scripts.ccs_fetch import ccs_fetch\n",
    "\n",
    "ccs_fetch(mode=\"CCS\",DFT_DB=\"LJ.db\",include_forces=Fit_on_forces)"
   ]
  },
  {
   "cell_type": "markdown",
   "id": "59be3faa",
   "metadata": {},
   "source": [
    "### Fit training data to Curvature Constrained Splines\n",
    "Finally, the splines are fitted to the target defined in the structures.json input file. The splines can be restricted to be fully repulsive (\"rep\"), or have a turning point/switch (\"sw\"), which is defined by the \"Swtype\" key.\n"
   ]
  },
  {
   "cell_type": "code",
   "execution_count": 5,
   "id": "8c3ac0c1",
   "metadata": {},
   "outputs": [],
   "source": [
    "### Generate input.json file\n",
    "import json\n",
    "\n",
    "input={\n",
    "    \"General\": {\n",
    "        \"interface\": \"CCS\",\n",
    "        \"merging\"  : \"True\",\n",
    "        \"search_mode\": \"taper\",\n",
    "    },\n",
    "    \"Twobody\": {\n",
    "                \"Xx-Xx\": {\n",
    "                        \"Rcut\": 6.0,\n",
    "                        \"Resolution\": 0.05,\n",
    "                        \"Swtype\": \"sw\",\n",
    "                        \"const_type\" : \"Mono\",\n",
    "                        \"search_mode\": \"full\",\n",
    "                },\n",
    "                # \"Na-Cl\": {\n",
    "                #         \"Rcut\": 6.0,\n",
    "                #         \"Resolution\": 0.05,\n",
    "                #         \"Swtype\": \"sw\",\n",
    "                #         \"const_type\" : \"Mono\",\n",
    "                #         \"search_mode\": \"range\",\n",
    "                #         \"range_center\": 1.5,\n",
    "                #         \"range_width\": 1.0 # Å\n",
    "                # }\n",
    "        }\n",
    "}\n",
    "#SAVE TO FILE\n",
    "with open('CCS_input.json', 'w') as f:\n",
    "    json.dump(input, f, indent=8)"
   ]
  },
  {
   "cell_type": "code",
   "execution_count": 6,
   "id": "df1f9f0f",
   "metadata": {},
   "outputs": [
    {
     "name": "stdout",
     "output_type": "stream",
     "text": [
      "    Generating one-body information from training-set.\n",
      "        Added elements:  ['Cl', 'Na']\n",
      "    Generating two-body potentials from one-body information.\n",
      "    Adding pair: Cl-Cl\n",
      "    Adding pair: Cl-Na\n",
      "    Adding pair: Na-Na\n",
      "    Applying monotonous constraints for pair:  Cl-Cl\n",
      "    Applying monotonous constraints for pair:  Cl-Na\n",
      "    Applying monotonous constraints for pair:  Na-Na\n",
      "    Merging intervall for pair Cl-Cl. Number of knots reduced from 49 to 49. \n",
      "    Merging intervall for pair Cl-Na. Number of knots reduced from 103 to 95. \n",
      "    Merging intervall for pair Na-Na. Number of knots reduced from 45 to 45. \n",
      "    There is linear dependence in stochiometry matrix!\n",
      "    Removing onebody term: Na\n",
      "    Condition number is: 5.368574618009616e+22 ( 189 58244.52699193245 0.0)\n"
     ]
    },
    {
     "name": "stderr",
     "output_type": "stream",
     "text": [
      "    Finding optimum switch:  13%|\u001b[38;2;128;0;128m███████                                              \u001b[0m| 27867/209475 [15:52<1:43:25, 29.27it/s]\u001b[0m\n"
     ]
    },
    {
     "ename": "KeyboardInterrupt",
     "evalue": "",
     "output_type": "error",
     "traceback": [
      "\u001b[0;31m---------------------------------------------------------------------------\u001b[0m",
      "\u001b[0;31mKeyboardInterrupt\u001b[0m                         Traceback (most recent call last)",
      "Cell \u001b[0;32mIn[6], line 4\u001b[0m\n\u001b[1;32m      1\u001b[0m \u001b[38;5;66;03m#RUN FIT\u001b[39;00m\n\u001b[1;32m      2\u001b[0m \u001b[38;5;28;01mfrom\u001b[39;00m \u001b[38;5;21;01mccs_fit\u001b[39;00m \u001b[38;5;28;01mimport\u001b[39;00m ccs_fit\n\u001b[0;32m----> 4\u001b[0m \u001b[43mccs_fit\u001b[49m\u001b[43m(\u001b[49m\u001b[38;5;124;43m\"\u001b[39;49m\u001b[38;5;124;43mCCS_input.json\u001b[39;49m\u001b[38;5;124;43m\"\u001b[39;49m\u001b[43m)\u001b[49m\n",
      "File \u001b[0;32m~/Documents/repos/CCS_fit/src/ccs_fit/fitting/main.py:394\u001b[0m, in \u001b[0;36mtwp_fit\u001b[0;34m(filename)\u001b[0m\n\u001b[1;32m    382\u001b[0m nn \u001b[38;5;241m=\u001b[39m Objective(\n\u001b[1;32m    383\u001b[0m     atom_pairs,\n\u001b[1;32m    384\u001b[0m     atom_onebodies,\n\u001b[0;32m   (...)\u001b[0m\n\u001b[1;32m    390\u001b[0m     force_ewald\u001b[38;5;241m=\u001b[39mewald_forces,\n\u001b[1;32m    391\u001b[0m )\n\u001b[1;32m    393\u001b[0m \u001b[38;5;66;03m# Solve QP problem\u001b[39;00m\n\u001b[0;32m--> 394\u001b[0m predicted_energies, mse, xx_unfolded \u001b[38;5;241m=\u001b[39m \u001b[43mnn\u001b[49m\u001b[38;5;241;43m.\u001b[39;49m\u001b[43msolution\u001b[49m\u001b[43m(\u001b[49m\u001b[43m)\u001b[49m\n",
      "File \u001b[0;32m~/Documents/repos/CCS_fit/src/ccs_fit/fitting/objective.py:164\u001b[0m, in \u001b[0;36mObjective.solution\u001b[0;34m(self)\u001b[0m\n\u001b[1;32m    161\u001b[0m     bb \u001b[38;5;241m=\u001b[39m np\u001b[38;5;241m.\u001b[39mzeros(aa\u001b[38;5;241m.\u001b[39mshape[\u001b[38;5;241m0\u001b[39m])\n\u001b[1;32m    162\u001b[0m     sol \u001b[38;5;241m=\u001b[39m \u001b[38;5;28mself\u001b[39m\u001b[38;5;241m.\u001b[39msolver(pp, qq, matrix(gg), matrix(hh),\n\u001b[1;32m    163\u001b[0m                       matrix(aa), matrix(bb))\n\u001b[0;32m--> 164\u001b[0m     obj\u001b[38;5;241m.\u001b[39mappend(\u001b[38;5;28mfloat\u001b[39m(\u001b[38;5;28;43mself\u001b[39;49m\u001b[38;5;241;43m.\u001b[39;49m\u001b[43meval_obj\u001b[49m\u001b[43m(\u001b[49m\u001b[43msol\u001b[49m\u001b[43m[\u001b[49m\u001b[38;5;124;43m\"\u001b[39;49m\u001b[38;5;124;43mx\u001b[39;49m\u001b[38;5;124;43m\"\u001b[39;49m\u001b[43m]\u001b[49m\u001b[43m)\u001b[49m))\n\u001b[1;32m    166\u001b[0m obj \u001b[38;5;241m=\u001b[39m np\u001b[38;5;241m.\u001b[39masarray(obj)\n\u001b[1;32m    167\u001b[0m mse \u001b[38;5;241m=\u001b[39m np\u001b[38;5;241m.\u001b[39mmin(obj)\n",
      "File \u001b[0;32m~/Documents/repos/CCS_fit/src/ccs_fit/fitting/objective.py:310\u001b[0m, in \u001b[0;36mObjective.eval_obj\u001b[0;34m(self, xx)\u001b[0m\n\u001b[1;32m    296\u001b[0m \u001b[38;5;28;01mdef\u001b[39;00m \u001b[38;5;21meval_obj\u001b[39m(\u001b[38;5;28mself\u001b[39m, xx):\n\u001b[1;32m    297\u001b[0m \u001b[38;5;250m    \u001b[39m\u001b[38;5;124;03m\"\"\"Mean squared error function.\u001b[39;00m\n\u001b[1;32m    298\u001b[0m \n\u001b[1;32m    299\u001b[0m \u001b[38;5;124;03m    Args:\u001b[39;00m\n\u001b[0;32m   (...)\u001b[0m\n\u001b[1;32m    306\u001b[0m \n\u001b[1;32m    307\u001b[0m \u001b[38;5;124;03m    \"\"\"\u001b[39;00m\n\u001b[1;32m    309\u001b[0m     \u001b[38;5;28;01mreturn\u001b[39;00m np\u001b[38;5;241m.\u001b[39mformat_float_scientific(\n\u001b[0;32m--> 310\u001b[0m         np\u001b[38;5;241m.\u001b[39msum((\u001b[38;5;28mself\u001b[39m\u001b[38;5;241m.\u001b[39mref \u001b[38;5;241m-\u001b[39m (np\u001b[38;5;241m.\u001b[39mravel(\u001b[38;5;28;43mself\u001b[39;49m\u001b[38;5;241;43m.\u001b[39;49m\u001b[43mmm\u001b[49m\u001b[38;5;241;43m.\u001b[39;49m\u001b[43mdot\u001b[49m\u001b[43m(\u001b[49m\u001b[43mxx\u001b[49m\u001b[43m)\u001b[49m))) \u001b[38;5;241m*\u001b[39m\u001b[38;5;241m*\u001b[39m \u001b[38;5;241m2\u001b[39m) \u001b[38;5;241m/\u001b[39m \u001b[38;5;28mself\u001b[39m\u001b[38;5;241m.\u001b[39mns, precision\u001b[38;5;241m=\u001b[39m\u001b[38;5;241m4\u001b[39m\n\u001b[1;32m    311\u001b[0m     )\n",
      "\u001b[0;31mKeyboardInterrupt\u001b[0m: "
     ]
    }
   ],
   "source": [
    "#RUN FIT\n",
    "from ccs_fit import ccs_fit\n",
    "\n",
    "ccs_fit(\"CCS_input.json\")"
   ]
  },
  {
   "cell_type": "code",
   "execution_count": null,
   "id": "9e63d635",
   "metadata": {},
   "outputs": [],
   "source": [
    "import matplotlib.pyplot as plt\n",
    "\n",
    "with open(\"CCS_params.json\", \"r\") as f:\n",
    "    CCS_params = json.load(f)\n",
    "\n",
    "with open(\"structures.json\", \"r\") as f:\n",
    "    training_set = json.load(f)\n",
    "\n",
    "r=np.array(CCS_params[\"Two_body\"][\"Na-Cl\"][\"r\"])\n",
    "e=CCS_params[\"Two_body\"][\"Na-Cl\"][\"spl_a\"]\n",
    "\n",
    "try:\n",
    "    err=np.loadtxt(\"CCS_error.out\")\n",
    "    plt.xlabel('Reference energy (eV)')\n",
    "    plt.ylabel('Fitted energy (eV)')\n",
    "    plt.plot( [min(err[:,0]),max(err[:,0])],[min(err[:,0]),max(err[:,0])],'--',color='black'  )\n",
    "    plt.scatter(err[:,0],err[:,1],facecolors='none', edgecolors='red')\n",
    "    plt.show()\n",
    "    plt.xlabel('Reference energy (eV)')\n",
    "    plt.ylabel('Error in fit (eV)')\n",
    "    plt.scatter(err[:,0],err[:,2],facecolors='none', edgecolors='red')\n",
    "    plt.show()\n",
    "except:\n",
    "    pass\n",
    "\n",
    "try:\n",
    "    err_F=np.loadtxt(\"CCS_error_forces.out\")\n",
    "    plt.xlabel('Reference force (eV/Å)')\n",
    "    plt.ylabel('Fitted force (eV/Å)')\n",
    "    plt.plot( [min(err_F[:,0]),max(err_F[:,0])],[min(err_F[:,0]),max(err_F[:,0])],'--',color='black')\n",
    "    plt.scatter(err_F[:,0],err_F[:,1],facecolors='none', edgecolors='red',alpha=0.1 )\n",
    "    plt.show()\n",
    "except:\n",
    "    pass\n",
    "\n",
    "e_LJ= 4 * ((1 / r) ** 12 - (1 / r) ** 6)\n",
    "plt.xlim(0.5,3)\n",
    "plt.ylim(-1.5,1)\n",
    "plt.xlabel('Distance (Å)')\n",
    "plt.ylabel('Potential (eV)')\n",
    "plt.plot(r,e_LJ,color='black',label=\"Ref. Lennard-Jones potential\")\n",
    "plt.plot(r,e,'--',color='red',label=\"Fitted potential\")\n",
    "plt.legend()\n",
    "plt.show()\n",
    "\n",
    "d=[]\n",
    "for t in training_set[\"energies\"]:\n",
    "    d.extend(training_set[\"energies\"][t][\"Na-Cl\"])\n",
    "\n",
    "plt.hist(d)\n",
    "plt.show()\n"
   ]
  },
  {
   "cell_type": "markdown",
   "id": "2ce06ae5",
   "metadata": {},
   "source": [
    "### Validate your potential\n",
    "Make sure your potential (at least) reproduce the data points in your training-set. Performin further tests on strucutres not included in the training-set is recomended but not included in the tutorial."
   ]
  },
  {
   "cell_type": "code",
   "execution_count": null,
   "id": "7e429885",
   "metadata": {},
   "outputs": [],
   "source": [
    "from ccs_fit.scripts.ccs_validate import ccs_validate\n",
    "ccs_validate(mode=\"CCS\",CCS_params=\"CCS_params.json\",DFT_DB=\"LJ.db\")"
   ]
  },
  {
   "cell_type": "code",
   "execution_count": null,
   "id": "2ee0f44c",
   "metadata": {},
   "outputs": [],
   "source": [
    "try:\n",
    "    err=np.loadtxt(\"CCS_validate.dat\")\n",
    "    plt.xlabel('Reference energy (eV)')\n",
    "    plt.ylabel('Validation energy (eV)')\n",
    "    plt.plot( [min(err[:,0]),max(err[:,0])],[min(err[:,0]),max(err[:,0])],'--',color='black'  )\n",
    "    plt.scatter(err[:,0],err[:,1],facecolors='none', edgecolors='red')\n",
    "    plt.show()\n",
    "    plt.xlabel('Reference energy (eV)')\n",
    "    plt.ylabel('Error in fit (eV)')\n",
    "    plt.scatter(err[:,0],err[:,2],facecolors='none', edgecolors='red')\n",
    "    plt.show()\n",
    "except:\n",
    "    pass"
   ]
  },
  {
   "cell_type": "markdown",
   "id": "c9da5afa",
   "metadata": {},
   "source": [
    "### Geometry optimization + Equation of state"
   ]
  },
  {
   "cell_type": "code",
   "execution_count": null,
   "id": "acc79b18",
   "metadata": {},
   "outputs": [],
   "source": []
  },
  {
   "cell_type": "markdown",
   "id": "783d2438",
   "metadata": {},
   "source": [
    "### Phonon spectra"
   ]
  },
  {
   "cell_type": "code",
   "execution_count": null,
   "id": "4393168c",
   "metadata": {},
   "outputs": [],
   "source": []
  },
  {
   "cell_type": "markdown",
   "id": "34edf9a9",
   "metadata": {},
   "source": [
    "### Cleaning up"
   ]
  },
  {
   "cell_type": "code",
   "execution_count": null,
   "id": "6b63718b",
   "metadata": {},
   "outputs": [],
   "source": [
    "import glob\n",
    "import os\n",
    "\n",
    "def rm(file):\n",
    "    try:\n",
    "        os.remove(file)\n",
    "    except OSError:\n",
    "        pass\n",
    "\n",
    "\n",
    "list=glob.glob(\"CALCULATED_DATA/*\")\n",
    "for file in list:\n",
    "    rm(file)\n",
    "list=glob.glob(\"CCS_*\")\n",
    "for file in list:\n",
    "    rm(file)\n",
    "rm(\"structures.json\")\n",
    "rm(\"file_list\")\n",
    "rm(\"LJ.db\")\n",
    "rm(\"ccs.spl\")"
   ]
  }
 ],
 "metadata": {
  "kernelspec": {
   "display_name": "CCS_fit_search_mode",
   "language": "python",
   "name": "ccs_fit_search_mode"
  },
  "language_info": {
   "codemirror_mode": {
    "name": "ipython",
    "version": 3
   },
   "file_extension": ".py",
   "mimetype": "text/x-python",
   "name": "python",
   "nbconvert_exporter": "python",
   "pygments_lexer": "ipython3",
   "version": "3.9.15"
  },
  "vscode": {
   "interpreter": {
    "hash": "f9cf24ff20edf0aae28141210fc773ab63efd2a56eb4d7d08651373a5d8a7dcd"
   }
  }
 },
 "nbformat": 4,
 "nbformat_minor": 5
}
