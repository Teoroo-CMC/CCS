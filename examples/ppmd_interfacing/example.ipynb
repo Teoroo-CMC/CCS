{
 "cells": [
  {
   "cell_type": "code",
   "execution_count": 1,
   "metadata": {},
   "outputs": [],
   "source": [
    "from ase.io import Trajectory,read, write\n",
    "import json\n",
    "from ccs.ppmd_interface import ccs_ppmd\n",
    "from ppmd.state import State\n"
   ]
  },
  {
   "cell_type": "code",
   "execution_count": 2,
   "metadata": {},
   "outputs": [
    {
     "name": "stdout",
     "output_type": "stream",
     "text": [
      "RUNNING THE L-BFGS-B CODE\n",
      "\n",
      "           * * *\n",
      "\n",
      "Machine precision = 2.220D-16\n",
      " N =       665280     M =           10\n",
      "\n",
      "At X0         0 variables are exactly at the bounds\n",
      "\n",
      "At iterate    0    f= -1.66983D+06    |proj g|=  2.68131D+00\n"
     ]
    },
    {
     "name": "stderr",
     "output_type": "stream",
     "text": [
      " This problem is unconstrained.\n"
     ]
    },
    {
     "name": "stdout",
     "output_type": "stream",
     "text": [
      "\n",
      "At iterate    1    f= -1.67233D+06    |proj g|=  1.68202D+00\n",
      "\n",
      "At iterate    2    f= -1.67490D+06    |proj g|=  7.73469D-01\n",
      "\n",
      "           * * *\n",
      "\n",
      "Tit   = total number of iterations\n",
      "Tnf   = total number of function evaluations\n",
      "Tnint = total number of segments explored during Cauchy searches\n",
      "Skip  = number of BFGS updates skipped\n",
      "Nact  = number of active bounds at final generalized Cauchy point\n",
      "Projg = norm of the final projected gradient\n",
      "F     = final function value\n",
      "\n",
      "           * * *\n",
      "\n",
      "   N    Tit     Tnf  Tnint  Skip  Nact     Projg        F\n",
      "*****      2      4      1     0     0   7.735D-01  -1.675D+06\n",
      "  F =  -1674899.3679469060     \n",
      "\n",
      "CONVERGENCE: NORM_OF_PROJECTED_GRADIENT_<=_PGTOL            \n",
      "------------------------------- OPTIMIZATION COMPLETE -------------------------------\n",
      "    Total time for opimization:  169.9214870929718  s, Max force: 0.8107824401114542 ev/Å\n"
     ]
    }
   ],
   "source": [
    "#NOTE THAT THE ATOMIC STATE, A, NEEDS TO BE DEFINED FIRST!\n",
    "A = State()\n",
    "atoms=read(\"POSCAR\")\n",
    "\n",
    "############################\n",
    "### SET UP THE CCS CLASS ###\n",
    "q={\"Ti\":4.0,\"O\":-2.0,\"Al\":3.0}\n",
    "CCS = ccs_ppmd.CCS(A,atoms,q=q,CCS_params='CCS_params.json')\n",
    "atoms_out= ccs_ppmd.optimize(A,atoms,CCS,Fmax=1.0)\n",
    "\n"
   ]
  },
  {
   "cell_type": "code",
   "execution_count": 3,
   "metadata": {},
   "outputs": [
    {
     "data": {
      "text/plain": [
       "<subprocess.Popen at 0x7fa0983212e0>"
      ]
     },
     "execution_count": 3,
     "metadata": {},
     "output_type": "execute_result"
    }
   ],
   "source": [
    "from ase.visualize import view\n",
    "view(atoms_out)"
   ]
  },
  {
   "cell_type": "code",
   "execution_count": null,
   "metadata": {},
   "outputs": [],
   "source": []
  }
 ],
 "metadata": {
  "interpreter": {
   "hash": "31f2aee4e71d21fbe5cf8b01ff0e069b9275f58929596ceb00d14d90e3e16cd6"
  },
  "kernelspec": {
   "display_name": "Python 3.8.10 64-bit",
   "language": "python",
   "name": "python3"
  },
  "language_info": {
   "codemirror_mode": {
    "name": "ipython",
    "version": 3
   },
   "file_extension": ".py",
   "mimetype": "text/x-python",
   "name": "python",
   "nbconvert_exporter": "python",
   "pygments_lexer": "ipython3",
   "version": "3.8.10"
  },
  "orig_nbformat": 4
 },
 "nbformat": 4,
 "nbformat_minor": 2
}
