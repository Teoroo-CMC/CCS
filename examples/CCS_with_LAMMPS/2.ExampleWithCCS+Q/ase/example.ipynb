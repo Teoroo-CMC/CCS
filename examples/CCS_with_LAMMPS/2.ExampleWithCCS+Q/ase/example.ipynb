{
 "cells": [
  {
   "cell_type": "markdown",
   "metadata": {},
   "source": [
    "# CCS+Q potentials with LAMMPS "
   ]
  },
  {
   "cell_type": "markdown",
   "metadata": {},
   "source": [
    "In the previous example, we have  shown the usage of CCS potential with pair_style table command with LAMMPS. This example demostrates the usage of CCS+Q potentials with LAMMPS. Here, we make use of the pair_style hybrid/overlay (https://docs.lammps.org/pair_hybrid.html). The goal is to use the efficient electrostatic implementation in LAMMPS to save computational time. In the original implementation of CCS+Q potential, the electrostatic contributions to the energy and forces are taken into account via ewald summation as implemented in PYMATGEN package.  \n",
    "\n",
    "If consistent settings are not used there could be discrepancy between ewald energies computed via LAMMPS and PYMATGEN. Nevertheless, it is indeed possible for the user to construct a training-set with ewald energies computed by LAMMPS. However, this feature is not yet included in the current version of the code CCS code.  Additionally, one needs to be careful when using Ewald summation for surfaces ( surface corrections should be used) and non-periodic systems (direct method should be used not Ewald). \n",
    "\n",
    "In this example we  only consider bulk  ZnO systems for training CCS+Q potential. The ewald energies in the training set are computed via PYMATGEN as implemeneted in CCS code. Firstly, we check the consistency between ewald energies  obtained by LAMMPS and PYMATGEN. Therafter, we check the optimization of structure with CCS calculator as implemented in ASE and CCS tabular potential in LAMMPS.   \n",
    "\n",
    "\n",
    "**Note:** \n",
    "* The LAMMPS must be complied with KSPACE package (https://docs.lammps.org/kspace_style.html) for ewald summation.\n",
    "* Due to constraints in LAMMPS, real space cut-off in ewald summation should equal the table cut-off for short range."
   ]
  },
  {
   "cell_type": "markdown",
   "metadata": {},
   "source": [
    "# 1. Test for ewald energy from PYMATGEN and LAMMPS"
   ]
  },
  {
   "cell_type": "code",
   "execution_count": null,
   "metadata": {},
   "outputs": [],
   "source": [
    "import json\n",
    "import copy\n",
    "import numpy as np\n",
    "import ase.db as db\n",
    "\n",
    "from ase import Atoms\n",
    "from pymatgen.core import Lattice, Structure\n",
    "from pymatgen.analysis import ewald\n",
    "from ase.calculators.lammpsrun import LAMMPS\n",
    "from sklearn.metrics import mean_squared_error\n",
    "from ase.io import read\n",
    "from ase.io.trajectory import Trajectory\n",
    "from ase.optimize import BFGS\n",
    "from tqdm import tqdm\n",
    "\n",
    "from ccs.ase_calculator.ccs_ase_calculator import ew, CCS\n",
    "from ccs.scripts.jsonTotable import asecalcTotable\n",
    "from ccs.fitting.main import twp_fit as ccs_fit\n"
   ]
  },
  {
   "cell_type": "code",
   "execution_count": null,
   "metadata": {},
   "outputs": [],
   "source": [
    "\n",
    "q={\"Zn\":2.0,\"O\":-2.0}  # intial charges \n",
    "\n",
    "data = db.connect('DFT.db')\n",
    "\n",
    "structures= list(data.select(limit=5))  # select 5 structures\n",
    "\n",
    "pymat_ene=[]\n",
    "pymat_force=[]\n",
    "\n",
    "\n",
    "for config in tqdm(structures):\n",
    "    struct = config.toatoms()\n",
    "    ewald = ew(struct,q)\n",
    "    pymat_ene.append(ewald.total_energy)\n",
    "    pymat_force.append(np.ravel(ewald.forces))\n",
    "    \n",
    "print(\" Ewald energy from PYMATGEN:{}\".format(pymat_ene))"
   ]
  },
  {
   "cell_type": "code",
   "execution_count": null,
   "metadata": {},
   "outputs": [],
   "source": [
    "# Parameters for LAMMPS \n",
    "parameters = {\n",
    "              \n",
    "              'atom_style': 'charge',                      # atomic system with charges so atom_style: charge     \n",
    "              'pair_style': 'coul/long 5.99',              # Real space cut-off for ewald (close to PYMATGEN value but not exact)\n",
    "              'pair_coeff': ['* *'],\n",
    "              'kspace_style': 'ewald 0.000001'             # Precision for ewald calculation\n",
    "\n",
    "\n",
    "}\n",
    "\n",
    "\n",
    "lammps_ene=[]\n",
    "lammps_force=[]\n",
    "\n",
    "lammps = LAMMPS(parameters=parameters,keep_tmp_files=False)\n",
    "\n",
    "\n",
    "for config in structures:\n",
    "    struct = config.toatoms()\n",
    "    atomic_charges=[]\n",
    "    for a in struct.get_chemical_symbols():                          \n",
    "        atomic_charges.append(q[a])\n",
    "    struct.set_initial_charges(atomic_charges)\n",
    "    struct.calc = lammps   \n",
    "    lammps_ene.append(struct.get_potential_energy())\n",
    "    lammps_force.append(np.ravel(struct.get_forces()))\n",
    "    \n",
    "    \n",
    "print(\" Ewald energy from PYMATGEN:{}\".format(pymat_ene))\n",
    "print(\" Ewald energy from LAMMPS:{}\".format(lammps_ene))\n",
    "print(\"MSE on ewald energies between PYMATGEN and LAMMPS: {}\".format(mean_squared_error(np.array(lammps_ene),np.array(pymat_ene))))\n",
    "print(\"MSE on ewald forces between PYMATGEN and LAMMPS:  {}\".format(mean_squared_error(np.array(lammps_force),np.array(pymat_force))))"
   ]
  },
  {
   "cell_type": "markdown",
   "metadata": {},
   "source": [
    "# 2. Fit CCS+Q potential to trainset\n"
   ]
  },
  {
   "cell_type": "code",
   "execution_count": null,
   "metadata": {},
   "outputs": [],
   "source": [
    "\n",
    "\n",
    "input ={\n",
    "        \"General\": {\n",
    "                \"interface\": \"CCS+Q\"\n",
    "        },\n",
    "        \"Twobody\": {\n",
    "                \"O-Zn\": {\n",
    "                        \"Rcut\": 6.0,\n",
    "                        \"Resolution\": 0.05,\n",
    "\t\t\t\t\t\t\"Swtype\":\"sw\"\n",
    "                },\n",
    "\t\t\t\t\"O-O\": {\n",
    "                        \"Rcut\": 6.0,\n",
    "                        \"Resolution\": 0.1,\n",
    "\t\t\t\t\t\t\"Swtype\":\"rep\"\n",
    "                },\n",
    "\t\t\t\t\"Zn-Zn\": {\n",
    "                        \"Rcut\": 6.0,\n",
    "                        \"Resolution\": 0.1,\n",
    "\t\t\t\t\t\t\"Swtype\":\"rep\"\n",
    "                }\n",
    "        }\n",
    "}\n",
    "\n",
    "#SAVE TO FILE\n",
    "with open('CCS_input.json', 'w') as f:\n",
    "    json.dump(input, f, indent=8)\n",
    "\n",
    "#RUN FIT\n",
    "ccs_fit(\"CCS_input.json\")"
   ]
  },
  {
   "cell_type": "code",
   "execution_count": null,
   "metadata": {},
   "outputs": [],
   "source": [
    "# Generate spline table for LAMMPS from json file\n",
    "tags=asecalcTotable(\"CCS_params.json\",scale=10)  # Controls the resolution of the gridsize; gridsize=dr/scale.\n",
    "tags"
   ]
  },
  {
   "cell_type": "markdown",
   "metadata": {},
   "source": [
    "# 3.Define the calculators"
   ]
  },
  {
   "cell_type": "code",
   "execution_count": null,
   "metadata": {},
   "outputs": [],
   "source": [
    "# Optimize structure using CCS+Q ase caclulator\n",
    "\n",
    "charges={\"Zn\":2.0,\"O\":-2.0}     # intial charges\n",
    "\n",
    "with open ('CCS_params.json','r') as f:\n",
    "    CCS_params=json.load(f)\n",
    "\n",
    "CCS_params['One_body']['O']=0.0                           # Explicitly set the reference energies to 0.0\n",
    "CCS_params['One_body']['Zn']=0.0 \n",
    "\n",
    "#  CCS calculator\n",
    "ccs= CCS(CCS_params,charge=True,q=charges,charge_scaling=True)\n",
    "\n",
    "#  lAMMPS calculator\n",
    "scaled_q={\"Zn\":2.0*CCS_params[\"Charge scaling factor\"],\"O\":-2.0*CCS_params[\"Charge scaling factor\"]}\n",
    "\n",
    "parameters = {\n",
    "              'atom_style': 'charge',\n",
    "              'pair_style': 'hybrid/overlay table spline 1000  ewald coul/long 5.99',   \n",
    "              'pair_coeff': ['* * coul/long',\n",
    "                             '1 1  table CCS.table O-O 5.99',\n",
    "                             '1 2  table CCS.table O-Zn 5.99',\n",
    "                             '2 2  table CCS.table Zn-Zn 5.99'],\n",
    "              'kspace_style': 'ewald 0.000001' \n",
    "                \n",
    "}\n",
    "lammps = LAMMPS(parameters=parameters,keep_tmp_files=False)\n",
    "\n",
    "\n",
    "\n"
   ]
  },
  {
   "cell_type": "markdown",
   "metadata": {},
   "source": [
    "# 4. Single point calculation"
   ]
  },
  {
   "cell_type": "code",
   "execution_count": null,
   "metadata": {},
   "outputs": [],
   "source": [
    "struct=read('POSCAR')\n",
    "struct_ccs=copy.deepcopy(struct)\n",
    "\n",
    "struct_ccs.calc=ccs\n",
    "struct.calc=lammps\n",
    "\n",
    "# Set charges \n",
    "atomic_charges=[]\n",
    "for a in struct.get_chemical_symbols():                          \n",
    "    atomic_charges.append(scaled_q[a])\n",
    "    \n",
    "struct.set_initial_charges(atomic_charges)\n",
    "\n",
    "print(\"Energy from LAMMPS  pre optmization: \", struct.get_potential_energy())\n",
    "print(\"Energy from CCS calculator pre optmization:\", struct_ccs.get_potential_energy())\n",
    "\n",
    "print (\"MSE on energy between ase calc and LAMMPS: {}\".format((struct_ccs.get_potential_energy()-struct.get_potential_energy())**2))\n",
    "print (\"MSE on forces between ase calc and LAMMPS: {}\".format(mean_squared_error(struct.get_forces(),struct_ccs.get_forces())))\n"
   ]
  },
  {
   "cell_type": "markdown",
   "metadata": {},
   "source": [
    "# 5. Optimization\n"
   ]
  },
  {
   "cell_type": "code",
   "execution_count": null,
   "metadata": {},
   "outputs": [],
   "source": [
    "traj = Trajectory('LAMMPS.traj', 'w', struct_ccs)\n",
    "dyn=BFGS(struct_ccs)\n",
    "dyn.attach(traj)\n",
    "dyn.run(fmax=0.05)\n",
    "print(\"Energy from CCS calculator after optimization: \", struct_ccs.get_potential_energy())\n",
    "\n",
    "\n",
    "traj = Trajectory('CCS.traj', 'w', struct)\n",
    "dyn=BFGS(struct)\n",
    "dyn.attach(traj)\n",
    "dyn.run(fmax=0.05)\n",
    "print(\"Energy from LAMMPS calculator after optimization:\", struct.get_potential_energy())\n",
    "\n",
    "print (\"MSE on energy between CCS and LAMMPS calculator: {}\".format((struct_ccs.get_potential_energy()-struct.get_potential_energy())**2))\n",
    "print (\"MSE on forces between CCS  and LAMMPS calculator: {}\".format(mean_squared_error(struct.get_forces(),struct_ccs.get_forces())))\n"
   ]
  },
  {
   "cell_type": "markdown",
   "metadata": {},
   "source": [
    "**Things to consider**:\n",
    "* It is not possible to get exact same ewald energies in LAMMPS and PYMATGEN due to the differneces in cut-offs and other hyper parameters used. \n",
    "* If LAMMPS needs to be used, its **advisable** that the training-set contains ewald energy contributions calculated from LAMMPS and not PYMATGEN. But, in certain cases the error might be negligible.\n",
    "* **In LAMMPS, the real space cut-off for ewald and cut-off for short ranged spline potential should match.** "
   ]
  },
  {
   "cell_type": "code",
   "execution_count": null,
   "metadata": {},
   "outputs": [],
   "source": []
  }
 ],
 "metadata": {
  "kernelspec": {
   "display_name": "Python 3 (ipykernel)",
   "language": "python",
   "name": "python3"
  },
  "language_info": {
   "codemirror_mode": {
    "name": "ipython",
    "version": 3
   },
   "file_extension": ".py",
   "mimetype": "text/x-python",
   "name": "python",
   "nbconvert_exporter": "python",
   "pygments_lexer": "ipython3",
   "version": "3.8.10"
  },
  "vscode": {
   "interpreter": {
    "hash": "e7370f93d1d0cde622a1f8e1c04877d8463912d04d973331ad4851f04de6915a"
   }
  }
 },
 "nbformat": 4,
 "nbformat_minor": 2
}
