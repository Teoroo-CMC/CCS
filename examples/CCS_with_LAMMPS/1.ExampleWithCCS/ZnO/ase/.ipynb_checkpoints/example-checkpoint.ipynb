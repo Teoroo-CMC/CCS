{
 "cells": [
  {
   "cell_type": "markdown",
   "id": "69f03dfb",
   "metadata": {},
   "source": [
    "# CCS potential with LAMMPS  for ZnO"
   ]
  },
  {
   "cell_type": "markdown",
   "id": "52758eb7",
   "metadata": {},
   "source": [
    "In this example, we will run CCS potentials with LAMMPS for multicomponent systems. ZnO  CCS potential is used for this illustration. Note that the exponential head part in **CCS_params.json** is ignored when LAMMPS spline tables are created. The exponential part is avoided because LAMMPS performs a pre-interpolation on the tabular data, and often pre-interpolation done with exponential head gives worse results. In general, a higher resolution should be used while generating spline table for LAMMPS. By default, the gridsize used for CCS is divided by 10.  "
   ]
  },
  {
   "cell_type": "code",
   "execution_count": null,
   "id": "5e948b49",
   "metadata": {},
   "outputs": [],
   "source": [
    "# Generates CCS.table file readable by LAMMPS\n",
    "from ccs.scripts.jsonTotable import asecalcTotable\n",
    "tags=asecalcTotable(\"CCS_params.json\",scale=10)  # Controls the resolution of the gridsize; gridsize=dr/scale.\n",
    "tags"
   ]
  },
  {
   "cell_type": "code",
   "execution_count": null,
   "id": "2bc44b91",
   "metadata": {},
   "outputs": [],
   "source": [
    "!head CCS.table"
   ]
  },
  {
   "cell_type": "code",
   "execution_count": null,
   "id": "cfa76efd",
   "metadata": {},
   "outputs": [],
   "source": [
    "import json\n",
    "import copy\n",
    "import matplotlib.pyplot as plt\n",
    "\n",
    "from ase import Atoms\n",
    "from ase.calculators.lammpsrun import LAMMPS\n",
    "from ccs.ase_calculator.ccs_ase_calculator import CCS\n",
    "from ase.io import read,write\n",
    "from ase.io.trajectory import Trajectory\n",
    "from ase.optimize import BFGS\n",
    "from sklearn.metrics import mean_squared_error\n",
    "\n",
    "\n",
    "with open ('CCS_params.json','r') as f:\n",
    "    CCS_params=json.load(f)\n",
    "\n",
    "\n",
    "# Parameters for LAMMPS \n",
    "parameters = {\n",
    "              'pair_style': 'table spline 1000',   # The number of elements chosen taken for pre-interpolation\n",
    "              'pair_coeff': ['1 1  CCS.table O-O 5.9999990640749274', # Specify Rcut for each pair\n",
    "                             '1 2  CCS.table O-Zn 5.9999991089416',\n",
    "                             '2 2  CCS.table Zn-Zn 5.999995708965134'],\n",
    "#              'pair_write': ['1 2 500 r  1.2999991089415996 5.9999991089416 table.txt table']\n",
    "}\n",
    "\n"
   ]
  },
  {
   "cell_type": "markdown",
   "id": "a9139c56",
   "metadata": {},
   "source": [
    "# Single point evaluation"
   ]
  },
  {
   "cell_type": "code",
   "execution_count": null,
   "id": "14cd32ac",
   "metadata": {},
   "outputs": [],
   "source": [
    "struct=read('POSCAR')\n",
    "lammps = LAMMPS(parameters=parameters,keep_tmp_files=False)\n",
    "ccs= CCS(CCS_params)\n",
    "\n",
    "\n",
    "struct_ase=copy.deepcopy(struct)\n",
    "\n",
    "struct.calc = lammps\n",
    "print(\"Energy from LAMMPS  pre optmization: \", struct.get_potential_energy())\n",
    "struct_ase.calc=ccs\n",
    "print(\"Energy from CCS calculator pre optmization:\", struct_ase.get_potential_energy())\n",
    "\n",
    "print (\"MSE on energy between ase calc and LAMMPS: {}\".format((struct_ase.get_potential_energy()-struct.get_potential_energy())**2))\n",
    "print (\"MSE on forces between ase calc and LAMMPS: {}\".format(mean_squared_error(struct.get_forces(),struct_ase.get_forces())))\n",
    "\n",
    "\n"
   ]
  },
  {
   "cell_type": "markdown",
   "id": "d9b50704",
   "metadata": {},
   "source": [
    "# Optimization"
   ]
  },
  {
   "cell_type": "code",
   "execution_count": null,
   "id": "448d58e6",
   "metadata": {},
   "outputs": [],
   "source": [
    "traj = Trajectory('LAMMPS.traj', 'w', struct)\n",
    "dyn=BFGS(struct)\n",
    "dyn.attach(traj)\n",
    "dyn.run(fmax=0.05)\n",
    "print(\"Energy from LAMMPS after optimization: \", struct.get_potential_energy())\n",
    "\n",
    "\n",
    "traj = Trajectory('CCS.traj', 'w', struct_ase)\n",
    "dyn=BFGS(struct_ase)\n",
    "dyn.attach(traj)\n",
    "dyn.run(fmax=0.05)\n",
    "print(\"Energy from CCS calculator after optimization:\", struct_ase.get_potential_energy())\n",
    "\n",
    "print (\"MSE on energy between ase calc and LAMMPS: {}\".format((struct_ase.get_potential_energy()-struct.get_potential_energy())**2))\n",
    "print (\"MSE on forces between ase calc and LAMMPS: {}\".format(mean_squared_error(struct.get_forces(),struct_ase.get_forces())))\n",
    "\n"
   ]
  },
  {
   "cell_type": "markdown",
   "id": "6a5d8533",
   "metadata": {},
   "source": [
    "**Note** : \n",
    "* Onebody energy contributons in CCS_params file was set to 0 for easy comparison"
   ]
  },
  {
   "cell_type": "code",
   "execution_count": null,
   "id": "f107b1a3",
   "metadata": {},
   "outputs": [],
   "source": []
  }
 ],
 "metadata": {
  "kernelspec": {
   "display_name": "Python 3 (ipykernel)",
   "language": "python",
   "name": "python3"
  },
  "language_info": {
   "codemirror_mode": {
    "name": "ipython",
    "version": 3
   },
   "file_extension": ".py",
   "mimetype": "text/x-python",
   "name": "python",
   "nbconvert_exporter": "python",
   "pygments_lexer": "ipython3",
   "version": "3.8.10"
  },
  "vscode": {
   "interpreter": {
    "hash": "e7370f93d1d0cde622a1f8e1c04877d8463912d04d973331ad4851f04de6915a"
   }
  }
 },
 "nbformat": 4,
 "nbformat_minor": 5
}
