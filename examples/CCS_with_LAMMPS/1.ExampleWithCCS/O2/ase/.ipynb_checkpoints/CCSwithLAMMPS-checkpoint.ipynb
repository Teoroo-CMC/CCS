{
 "cells": [
  {
   "cell_type": "markdown",
   "id": "2a465c19",
   "metadata": {},
   "source": [
    "# CCS potentials with LAMMPS software"
   ]
  },
  {
   "cell_type": "markdown",
   "id": "2719061b",
   "metadata": {},
   "source": [
    "This example demostrates the usage of CCS spline potential  with LAMMPS. The spline potential is used via the pair_style table command in LAMMPS. The details on the  pair_style table command can be found on https://docs.lammps.org/pair_table.html. The LAMMPS interface provided by ASE(https://wiki.fysik.dtu.dk/ase/ase/calculators/lammps.html) is used to compare with the CCS calculator. \n",
    "\n",
    "**Note**:\n",
    "* The exponential head part of CCS potential is neglected.\n",
    "* LAMMPS doesn't support one-body energy contibution (so onebody contributions  are set to 0). \n",
    "* LAMMPS spline table should have a smaller grid size than that used for CCS."
   ]
  },
  {
   "cell_type": "markdown",
   "id": "5db85e45",
   "metadata": {},
   "source": [
    "Firstly, we have to generate the LAMMPS readable spline table from CCS parameters. This is done as follows:"
   ]
  },
  {
   "cell_type": "code",
   "execution_count": 17,
   "id": "ad37fa76",
   "metadata": {},
   "outputs": [],
   "source": [
    "# Generates CCS.table file readable by LAMMPS\n",
    "from ccs.scripts.jsonTotable import asecalcTotable\n",
    "tags=asecalcTotable(\"CCS_params.json\",scale=10)  # dr = dr/scale "
   ]
  },
  {
   "cell_type": "markdown",
   "id": "172d418c",
   "metadata": {},
   "source": [
    "The above command generates **CCS.table** file in LAMMPS readable format."
   ]
  },
  {
   "cell_type": "code",
   "execution_count": 18,
   "id": "96e66660",
   "metadata": {},
   "outputs": [
    {
     "name": "stdout",
     "output_type": "stream",
     "text": [
      "\r\n",
      " O-O\r\n",
      " N 141 R 0.9799999999999999 2.38 \r\n",
      "\r\n",
      " 1 0.9799999999999999 -2.2748396233964714 49.30165626523697\r\n",
      " 2 0.9899999999999999 -2.7489776599871574 45.555863640001974\r\n",
      " 3 0.9999999999999999 -3.1865551479385488 41.98954653737815\r\n",
      " 4 1.0099999999999998 -3.589366842476754 38.60270495736555\r\n",
      " 5 1.02 -3.959207498827901 35.39533889996402\r\n",
      " 6 1.0299999999999998 -4.2978718722180735 32.36744836517381\r\n"
     ]
    }
   ],
   "source": [
    "!head CCS.table"
   ]
  },
  {
   "cell_type": "code",
   "execution_count": 19,
   "id": "d6ee3535",
   "metadata": {},
   "outputs": [],
   "source": [
    "# import necessary modules\n",
    "import json\n",
    "import copy\n",
    "\n",
    "from ase import Atoms\n",
    "from ase.calculators.lammpsrun import LAMMPS\n",
    "from ccs.ase_calculator.ccs_ase_calculator import CCS\n",
    "from ase.io import read,write\n",
    "from ase.visualize import view\n",
    "from ase.io.trajectory import Trajectory\n",
    "import ase.units as units\n",
    "from ase.optimize import BFGS"
   ]
  },
  {
   "cell_type": "markdown",
   "id": "47aef7ad",
   "metadata": {},
   "source": [
    "# Define parameters for LAMMPS and CCS calculator"
   ]
  },
  {
   "cell_type": "code",
   "execution_count": 20,
   "id": "ec9be790",
   "metadata": {},
   "outputs": [],
   "source": [
    "with open ('CCS_params.json','r') as f:\n",
    "    CCS_params=json.load(f)\n",
    "\n",
    "CCS_params['One_body']['O']=0.0                           # Explicitly set the reference energies to 0.0\n",
    "\n",
    "# Parameters for LAMMPS \n",
    "parameters = {\n",
    "              'pair_style': 'table spline 1000',          #  1000 represents the number of points chosen for pre-interpolation by LAMMPS\n",
    "              'pair_coeff': ['1 1  CCS.table O-O 2.38 ']  # 2.38 is the Rcut value\n",
    "}\n"
   ]
  },
  {
   "cell_type": "markdown",
   "id": "0378d216",
   "metadata": {},
   "source": [
    "# Optimization of O2 molecule"
   ]
  },
  {
   "cell_type": "code",
   "execution_count": 21,
   "id": "889974d3",
   "metadata": {},
   "outputs": [
    {
     "name": "stdout",
     "output_type": "stream",
     "text": [
      "Energy from LAMMPS  pre optmization:  -1.691692137414474\n",
      "      Step     Time          Energy         fmax\n",
      "BFGS:    0 23:05:50       -1.691692        5.9855\n",
      "BFGS:    1 23:05:50       -2.809430        7.0864\n",
      "BFGS:    2 23:05:50       -5.951668        7.2622\n",
      "BFGS:    3 23:05:50       -4.264915       32.6662\n",
      "BFGS:    4 23:05:50       -6.431440        5.7687\n",
      "BFGS:    5 23:05:50       -6.675708        4.0740\n",
      "BFGS:    6 23:05:50       -6.765814        3.7175\n",
      "BFGS:    7 23:05:50       -6.837344        0.8919\n",
      "BFGS:    8 23:05:50       -6.842994        0.1341\n",
      "BFGS:    9 23:05:50       -6.843117        0.0067\n",
      "Energy from LAMMPS after optimization:  -6.843116848586797\n",
      "Energy from CCS calculator pre optmization: -1.691692137414658\n",
      "      Step     Time          Energy         fmax\n",
      "BFGS:    0 23:05:50       -1.691692        5.9855\n",
      "BFGS:    1 23:05:50       -2.809430        7.0864\n",
      "BFGS:    2 23:05:50       -5.951668        7.2622\n",
      "BFGS:    3 23:05:50       -4.264915       32.6662\n",
      "BFGS:    4 23:05:50       -6.431440        5.7688\n",
      "BFGS:    5 23:05:50       -6.675708        4.0740\n",
      "BFGS:    6 23:05:50       -6.765830        3.7173\n",
      "BFGS:    7 23:05:50       -6.837343        0.8919\n",
      "BFGS:    8 23:05:50       -6.842994        0.1341\n",
      "BFGS:    9 23:05:50       -6.843117        0.0067\n",
      "Energy from CCS calculator after optimization: -6.8431168475054776\n"
     ]
    }
   ],
   "source": [
    "# Read data\n",
    "struct=read('O2.POSCAR')\n",
    "\n",
    "# Set up calculators\n",
    "lammps = LAMMPS(parameters=parameters,keep_tmp_files=False)\n",
    "ccs= CCS(CCS_params)\n",
    "\n",
    "# Copy the structure for ccs calculation\n",
    "struct_ccs=copy.deepcopy(struct)\n",
    "\n",
    "# LAMMPS optimization\n",
    "struct.calc = lammps\n",
    "print(\"Energy from LAMMPS  pre optmization: \", struct.get_potential_energy())\n",
    "traj = Trajectory('LAMMPS.traj', 'w', struct)\n",
    "dyn=BFGS(struct)\n",
    "dyn.attach(traj)\n",
    "dyn.run(fmax=0.05)\n",
    "print(\"Energy from LAMMPS after optimization: \", struct.get_potential_energy())\n",
    "\n",
    "# CCS optimization\n",
    "struct_ccs.calc=ccs\n",
    "print(\"Energy from CCS calculator pre optmization:\", struct_ccs.get_potential_energy())\n",
    "traj = Trajectory('CCS.traj', 'w', struct_ccs)\n",
    "dyn=BFGS(struct_ccs)\n",
    "dyn.attach(traj)\n",
    "dyn.run(fmax=0.05)\n",
    "print(\"Energy from CCS calculator after optimization:\", struct_ccs.get_potential_energy())\n",
    "\n",
    "\n",
    "\n",
    "\n"
   ]
  },
  {
   "cell_type": "code",
   "execution_count": 22,
   "id": "186ed9f3",
   "metadata": {},
   "outputs": [
    {
     "name": "stdout",
     "output_type": "stream",
     "text": [
      "Mean square error in energy after optimization between CCS and LAMMPS calculator:1.169250853967286e-18\n"
     ]
    }
   ],
   "source": [
    "print (\"Mean square error in energy after optimization between CCS and LAMMPS calculator:{}\".format((struct.get_potential_energy()-struct_ccs.get_potential_energy())**2))\n"
   ]
  },
  {
   "cell_type": "code",
   "execution_count": null,
   "id": "6b8519fd",
   "metadata": {},
   "outputs": [],
   "source": []
  }
 ],
 "metadata": {
  "kernelspec": {
   "display_name": "Python 3 (ipykernel)",
   "language": "python",
   "name": "python3"
  },
  "language_info": {
   "codemirror_mode": {
    "name": "ipython",
    "version": 3
   },
   "file_extension": ".py",
   "mimetype": "text/x-python",
   "name": "python",
   "nbconvert_exporter": "python",
   "pygments_lexer": "ipython3",
   "version": "3.8.10"
  }
 },
 "nbformat": 4,
 "nbformat_minor": 5
}
