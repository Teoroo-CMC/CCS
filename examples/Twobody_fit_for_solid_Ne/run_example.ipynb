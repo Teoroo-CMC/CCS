{
 "cells": [
  {
   "cell_type": "code",
   "execution_count": 1,
   "id": "2c518a1e-7d8b-4850-936b-64c9b4876fd9",
   "metadata": {},
   "outputs": [],
   "source": [
    "import ccs"
   ]
  },
  {
   "cell_type": "code",
   "execution_count": 2,
   "id": "7b1a4aa0-1a09-426d-a1b9-108c0793e9f6",
   "metadata": {},
   "outputs": [
    {
     "data": {
      "text/plain": [
       "'0.1.0'"
      ]
     },
     "execution_count": 2,
     "metadata": {},
     "output_type": "execute_result"
    }
   ],
   "source": [
    "ccs.__version__"
   ]
  },
  {
   "cell_type": "code",
   "execution_count": 4,
   "id": "39fb8be4-e35a-4f63-a115-6eacbff78c18",
   "metadata": {},
   "outputs": [
    {
     "data": {
      "text/plain": [
       "['CCS',\n",
       " '__builtins__',\n",
       " '__cached__',\n",
       " '__doc__',\n",
       " '__file__',\n",
       " '__loader__',\n",
       " '__name__',\n",
       " '__package__',\n",
       " '__path__',\n",
       " '__spec__',\n",
       " '__version__',\n",
       " 'ase_calculator',\n",
       " 'ccs_build_db',\n",
       " 'ccs_export_sktable',\n",
       " 'ccs_fetch',\n",
       " 'ccs_fit',\n",
       " 'ccs_validate',\n",
       " 'data',\n",
       " 'debugging_tools',\n",
       " 'fitting',\n",
       " 'scripts',\n",
       " 'version']"
      ]
     },
     "execution_count": 4,
     "metadata": {},
     "output_type": "execute_result"
    }
   ],
   "source": [
    "dir(ccs)"
   ]
  },
  {
   "cell_type": "code",
   "execution_count": null,
   "id": "36624501-3db0-41b7-ad8a-e8e673a8bacd",
   "metadata": {},
   "outputs": [],
   "source": []
  }
 ],
 "metadata": {
  "kernelspec": {
   "display_name": "Python 3 (ipykernel)",
   "language": "python",
   "name": "python3"
  },
  "language_info": {
   "codemirror_mode": {
    "name": "ipython",
    "version": 3
   },
   "file_extension": ".py",
   "mimetype": "text/x-python",
   "name": "python",
   "nbconvert_exporter": "python",
   "pygments_lexer": "ipython3",
   "version": "3.9.13"
  }
 },
 "nbformat": 4,
 "nbformat_minor": 5
}
