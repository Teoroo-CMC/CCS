{
 "cells": [
  {
   "cell_type": "markdown",
   "metadata": {},
   "source": [
    "# JUPYTER NOTEBOOK EXAMPLE: REPULSIVE FITTING FOR DFTB USING TWO ASE-DATABASES\n",
    "## 1. Import modules\n",
    "Import the modules needed to complete the fitting task."
   ]
  },
  {
   "cell_type": "code",
   "execution_count": 1,
   "metadata": {},
   "outputs": [],
   "source": [
    "from ccs.scripts.ccs_fetch import ccs_fetch as ccs_fetch\n",
    "from ccs.fitting.main import twp_fit as ccs_fit\n",
    "import json\n",
    "import numpy as np\n",
    "import matplotlib.pyplot as plt"
   ]
  },
  {
   "cell_type": "markdown",
   "metadata": {},
   "source": [
    "## 2. Fetch the data\n",
    "The next commands fetch the training-set data from two ase-databases, 'DFT.db'  and 'DFTB.db'. The databeses contains forces and energies from a set of DFT and DFTB calculations. The example \"XYZ\" show an example of how to build such databases from a set of calculations."
   ]
  },
  {
   "cell_type": "code",
   "execution_count": 2,
   "metadata": {},
   "outputs": [
    {
     "name": "stderr",
     "output_type": "stream",
     "text": [
      "100%|\u001b[38;2;0;128;128m██████████\u001b[0m| 75/75 [00:01<00:00, 70.41it/s]\n"
     ]
    }
   ],
   "source": [
    "ccs_fetch(mode='DFTB', R_c= 6.0, Ns='all', DFT_DB='DFT.db', DFTB_DB='DFTB.db')"
   ]
  },
  {
   "cell_type": "markdown",
   "metadata": {},
   "source": [
    "## 3. Perform fitting"
   ]
  },
  {
   "cell_type": "code",
   "execution_count": 4,
   "metadata": {},
   "outputs": [
    {
     "name": "stdout",
     "output_type": "stream",
     "text": [
      "Generating one-body information from training-set.\n",
      "    Added elements:  Ce O\n",
      "    Adding pair: Ce-Ce\n",
      "    Failed adding pair: Ce-Ce\n",
      "    Adding pair: O-O\n",
      "    Failed adding pair: O-O\n",
      "There is linear dependence in stochiometry matrix!\n",
      "    removing onebody term: O\n"
     ]
    },
    {
     "name": "stderr",
     "output_type": "stream",
     "text": [
      "Finding optimum switch: 100%|\u001b[38;2;128;0;128m██████████\u001b[0m| 1/1 [00:00<00:00, 11.83it/s]\n"
     ]
    }
   ],
   "source": [
    "#DEFINE INPUT\n",
    "\n",
    "input={\n",
    "        \"General\": {\n",
    "                \"interface\": \"DFTB\"\n",
    "        },\n",
    "        \"Twobody\": {\n",
    "                \"Ce-O\": {\n",
    "                        \"Rcut\": 6.0,\n",
    "                        \"Resolution\": 0.05,\n",
    "                        \"Swtype\": \"rep\"\n",
    "                }\n",
    "        }\n",
    "}\n",
    "\n",
    "#SAVE TO FILE\n",
    "with open('CCS_input.json', 'w') as f:\n",
    "    json.dump(input, f, indent=8)\n",
    "\n",
    "#RUN FIT\n",
    "ccs_fit(\"CCS_input.json\")"
   ]
  },
  {
   "cell_type": "markdown",
   "metadata": {},
   "source": [
    "## 4. Plot the results"
   ]
  },
  {
   "cell_type": "code",
   "execution_count": 6,
   "metadata": {},
   "outputs": [
    {
     "data": {
      "image/png": "[encoded data removed]",
      "text/plain": [
       "<Figure size 432x288 with 1 Axes>"
      ]
     },
     "metadata": {
      "needs_background": "light"
     },
     "output_type": "display_data"
    }
   ],
   "source": [
    "#READ IN THE CCS FITTING ERROR OUTPUT FILE\n",
    "error=np.loadtxt(\"CCS_error.out\")\n",
    "\n",
    "#MAKE THE PLOT\n",
    "EDFT=error[:,0]/ error[:,3]\n",
    "EDFTB=error[:,1]/ error[:,3]\n",
    "x_line=[min(EDFT), max(EDFT)]\n",
    "plt.plot(x_line,x_line,'-')\n",
    "plt.xlim(x_line)\n",
    "plt.ylim(x_line)\n",
    "plt.xlabel('Target repulsive energy (eV)')\n",
    "plt.ylabel('Predicted repulsive energy (eV)')\n",
    "plt.scatter(EDFT,EDFTB)\n",
    "plt.show()"
   ]
  },
  {
   "cell_type": "code",
   "execution_count": 7,
   "metadata": {},
   "outputs": [
    {
     "data": {
      "text/plain": [
       "[<matplotlib.lines.Line2D at 0x7f6094b091d0>]"
      ]
     },
     "execution_count": 7,
     "metadata": {},
     "output_type": "execute_result"
    },
    {
     "data": {
      "image/png": "[encoded data removed]",
      "text/plain": [
       "<Figure size 432x288 with 1 Axes>"
      ]
     },
     "metadata": {
      "needs_background": "light"
     },
     "output_type": "display_data"
    }
   ],
   "source": [
    "import json\n",
    "with open(\"CCS_params.json\", 'r') as f:\n",
    "    CCS_params = json.load(f)\n",
    "\n",
    "x=CCS_params[\"Two_body\"][\"Ce-O\"][\"r\"][1:-1]\n",
    "y=CCS_params[\"Two_body\"][\"Ce-O\"][\"spl_a\"][1:-1]\n",
    "\n",
    "plt.plot(x,y,'-')"
   ]
  },
  {
   "cell_type": "markdown",
   "metadata": {},
   "source": [
    "# Reset the noteboob"
   ]
  },
  {
   "cell_type": "code",
   "execution_count": 9,
   "metadata": {},
   "outputs": [
    {
     "name": "stdout",
     "output_type": "stream",
     "text": [
      "rm: cannot remove '*.json': No such file or directory\n"
     ]
    }
   ],
   "source": [
    "rm *.json CCS_error.out "
   ]
  },
  {
   "cell_type": "code",
   "execution_count": null,
   "metadata": {},
   "outputs": [],
   "source": []
  }
 ],
 "metadata": {
  "interpreter": {
   "hash": "31f2aee4e71d21fbe5cf8b01ff0e069b9275f58929596ceb00d14d90e3e16cd6"
  },
  "kernelspec": {
   "display_name": "Python 3.6.9 64-bit",
   "language": "python",
   "name": "python3"
  },
  "language_info": {
   "codemirror_mode": {
    "name": "ipython",
    "version": 3
   },
   "file_extension": ".py",
   "mimetype": "text/x-python",
   "name": "python",
   "nbconvert_exporter": "python",
   "pygments_lexer": "ipython3",
   "version": "3.6.9"
  },
  "orig_nbformat": 4
 },
 "nbformat": 4,
 "nbformat_minor": 2
}
