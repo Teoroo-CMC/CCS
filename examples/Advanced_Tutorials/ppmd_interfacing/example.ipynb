{
 "cells": [
  {
   "cell_type": "markdown",
   "metadata": {},
   "source": [
    "# Interaction with PPMD\n",
    "For more info on ppmd, and its installation, see https://github.com/ppmd/ppmd"
   ]
  },
  {
   "cell_type": "code",
   "execution_count": null,
   "metadata": {},
   "outputs": [],
   "source": [
    "from ase.io import Trajectory,read, write\n",
    "import json\n",
    "from ccs_fit.ppmd_interface import ccs_ppmd\n",
    "from ppmd.state import State"
   ]
  },
  {
   "cell_type": "code",
   "execution_count": null,
   "metadata": {},
   "outputs": [],
   "source": [
    "#NOTE THAT THE ATOMIC STATE, A, NEEDS TO BE DEFINED FIRST!\n",
    "A = State()\n",
    "atoms=read(\"POSCAR\")\n",
    "\n",
    "############################\n",
    "### SET UP THE CCS CLASS ###\n",
    "q={\"Ti\":4.0,\"O\":-2.0,\"Al\":3.0}\n",
    "CCS = ccs_ppmd.CCS(A,atoms,q=q,CCS_params='CCS_params.json')\n",
    "atoms_out= ccs_ppmd.optimize(A,atoms,CCS,Fmax=0.05)"
   ]
  },
  {
   "cell_type": "code",
   "execution_count": null,
   "metadata": {},
   "outputs": [],
   "source": [
    "from ase.visualize import view\n",
    "!view(atoms_out)"
   ]
  },
  {
   "cell_type": "code",
   "execution_count": null,
   "metadata": {},
   "outputs": [],
   "source": []
  }
 ],
 "metadata": {
  "interpreter": {
   "hash": "31f2aee4e71d21fbe5cf8b01ff0e069b9275f58929596ceb00d14d90e3e16cd6"
  },
  "kernelspec": {
   "display_name": "Python 3 (ipykernel)",
   "language": "python",
   "name": "python3"
  },
  "language_info": {
   "codemirror_mode": {
    "name": "ipython",
    "version": 3
   },
   "file_extension": ".py",
   "mimetype": "text/x-python",
   "name": "python",
   "nbconvert_exporter": "python",
   "pygments_lexer": "ipython3",
   "version": "3.9.15"
  }
 },
 "nbformat": 4,
 "nbformat_minor": 4
}
