{
 "cells": [
  {
   "cell_type": "markdown",
   "id": "69f03dfb",
   "metadata": {},
   "source": [
    "# CCS potential with LAMMPS  for ZnO"
   ]
  },
  {
   "cell_type": "markdown",
   "id": "52758eb7",
   "metadata": {},
   "source": [
    "In this example, we will run CCS potentials with LAMMPS for multicomponent systems. ZnO  CCS potential is used for this illustration. Note that the exponential head part in **CCS_params.json** is ignored when LAMMPS spline tables are created. The exponential part is avoided because LAMMPS performs a pre-interpolation on the tabular data, and often pre-interpolation done with exponential head gives worse results. In general, a higher resolution should be used while generating spline table for LAMMPS. By default, the gridsize used for CCS is divided by 10.\n",
    "\n",
    "**Note:** \n",
    "* Install scikit-learn if it's not installed yet; \n",
    "https://scikit-learn.org/stable/install.html"
   ]
  },
  {
   "cell_type": "code",
   "execution_count": 1,
   "id": "5e948b49",
   "metadata": {},
   "outputs": [
    {
     "data": {
      "text/plain": [
       "{'O-Zn': {'Rmin': 1.2999991089415996,\n",
       "  'Rcut': 5.9999991089416,\n",
       "  'dr': 0.005,\n",
       "  'N': 941},\n",
       " 'O-O': {'Rmin': 2.0999990640749275,\n",
       "  'Rcut': 5.9999990640749274,\n",
       "  'dr': 0.01,\n",
       "  'N': 391},\n",
       " 'Zn-Zn': {'Rmin': 1.9999957089651335,\n",
       "  'Rcut': 5.999995708965134,\n",
       "  'dr': 0.01,\n",
       "  'N': 401}}"
      ]
     },
     "execution_count": 1,
     "metadata": {},
     "output_type": "execute_result"
    }
   ],
   "source": [
    "# Generates CCS.table file readable by LAMMPS\n",
    "from ccs_fit.scripts.jsonTotable import asecalcTotable\n",
    "tags=asecalcTotable(\"CCS_params.json\",scale=10)  # Controls the resolution of the gridsize; gridsize=dr/scale.\n",
    "tags"
   ]
  },
  {
   "cell_type": "code",
   "execution_count": 2,
   "id": "2bc44b91",
   "metadata": {},
   "outputs": [
    {
     "name": "stdout",
     "output_type": "stream",
     "text": [
      "\n",
      " O-Zn\n",
      " N 941 R 1.2999991089415996 5.9999991089416 \n",
      "\n",
      " 1 1.2999991089415996 18.6733869381274 391.5424306774645\n",
      " 2 1.3049991089415995 16.74203855060834 380.99692432954544\n",
      " 3 1.3099991089415994 14.863417694838336 370.45141797784134\n",
      " 4 1.3149991089415993 13.037524370836312 359.9059116223522\n",
      " 5 1.3199991089415992 11.264358578621199 349.3604052630781\n",
      " 6 1.3249991089415991 9.543920318211915 338.814898900019\n"
     ]
    }
   ],
   "source": [
    "!head CCS.table"
   ]
  },
  {
   "cell_type": "code",
   "execution_count": 3,
   "id": "cfa76efd",
   "metadata": {},
   "outputs": [],
   "source": [
    "import json\n",
    "import copy\n",
    "import matplotlib.pyplot as plt\n",
    "\n",
    "from ase import Atoms\n",
    "from ase.calculators.lammpsrun import LAMMPS\n",
    "from ccs_fit.ase_calculator.ccs_ase_calculator import CCS\n",
    "from ase.io import read,write\n",
    "from ase.io.trajectory import Trajectory\n",
    "from ase.optimize import BFGS\n",
    "from sklearn.metrics import mean_squared_error\n",
    "import numpy as np\n",
    "\n",
    "\n",
    "with open ('CCS_params.json','r') as f:\n",
    "    CCS_params=json.load(f)\n",
    "\n",
    "\n",
    "# Parameters for LAMMPS \n",
    "parameters = {\n",
    "              'pair_style': 'table spline 1000',   # The number of elements chosen taken for pre-interpolation\n",
    "              'pair_coeff': ['1 1  CCS.table O-O 5.9999990640749274', # Specify Rcut for each pair\n",
    "                             '1 2  CCS.table O-Zn 5.9999991089416',\n",
    "                             '2 2  CCS.table Zn-Zn 5.999995708965134'],\n",
    "#              'pair_write': ['1 2 500 r  1.2999991089415996 5.9999991089416 table.txt table']\n",
    "              'command': '/usr/bin/lmp'   # Remove or change to your local lammps executable\n",
    "}\n",
    "\n"
   ]
  },
  {
   "cell_type": "markdown",
   "id": "a9139c56",
   "metadata": {},
   "source": [
    "# Single point evaluation"
   ]
  },
  {
   "cell_type": "code",
   "execution_count": 4,
   "id": "11ae9dcb-5e1a-4689-bb60-9e540307c355",
   "metadata": {},
   "outputs": [],
   "source": [
    "struct=read('TiO2.poscar')\n",
    "\n",
    "chem_symbs = struct.get_chemical_symbols()\n",
    "chem_symbs[0] = 'Zn'\n",
    "chem_symbs[1] = 'Zn'\n",
    "\n",
    "struct.set_chemical_symbols(chem_symbs)"
   ]
  },
  {
   "cell_type": "code",
   "execution_count": 5,
   "id": "d9ad5540-4b44-4f55-836c-eeea70d19379",
   "metadata": {},
   "outputs": [
    {
     "name": "stdout",
     "output_type": "stream",
     "text": [
      "['DISTANCE_TOLERANCE', 'REDIRECT', '__abstractmethods__', '__class__', '__class_getitem__', '__contains__', '__delattr__', '__delitem__', '__dict__', '__dir__', '__doc__', '__eq__', '__format__', '__ge__', '__get_validators__', '__getattribute__', '__getitem__', '__gt__', '__hash__', '__iadd__', '__init__', '__init_subclass__', '__iter__', '__le__', '__len__', '__lt__', '__modify_schema__', '__module__', '__mul__', '__ne__', '__new__', '__reduce__', '__reduce_ex__', '__repr__', '__reversed__', '__rmul__', '__setattr__', '__setitem__', '__sizeof__', '__slots__', '__str__', '__subclasshook__', '__weakref__', '_abc_impl', '_charge', '_get_neighbor_list_py', '_lattice', '_sites', 'add_oxidation_state_by_element', 'add_oxidation_state_by_guess', 'add_oxidation_state_by_site', 'add_site_property', 'add_spin_by_element', 'add_spin_by_site', 'append', 'apply_operation', 'apply_strain', 'as_dataframe', 'as_dict', 'atomic_numbers', 'cart_coords', 'charge', 'clear', 'composition', 'copy', 'count', 'density', 'distance_matrix', 'extend', 'extract_cluster', 'formula', 'frac_coords', 'from_dict', 'from_file', 'from_magnetic_spacegroup', 'from_prototype', 'from_sites', 'from_spacegroup', 'from_str', 'get_all_neighbors', 'get_all_neighbors_old', 'get_all_neighbors_py', 'get_angle', 'get_dihedral', 'get_distance', 'get_miller_index_from_site_indexes', 'get_neighbor_list', 'get_neighbors', 'get_neighbors_in_shell', 'get_neighbors_old', 'get_orderings', 'get_primitive_structure', 'get_reduced_structure', 'get_sites_in_sphere', 'get_sorted_structure', 'get_space_group_info', 'get_symmetric_neighbor_list', 'group_by_types', 'index', 'indices_from_symbol', 'insert', 'interpolate', 'is_3d_periodic', 'is_ordered', 'is_valid', 'lattice', 'make_supercell', 'matches', 'merge_sites', 'ntypesp', 'num_sites', 'pbc', 'perturb', 'pop', 'relax', 'remove', 'remove_oxidation_states', 'remove_site_property', 'remove_sites', 'remove_species', 'remove_spin', 'replace', 'replace_species', 'reverse', 'rotate_sites', 'scale_lattice', 'set_charge', 'site_properties', 'sites', 'sort', 'species', 'species_and_occu', 'substitute', 'symbol_set', 'to', 'to_json', 'translate_sites', 'types_of_specie', 'types_of_species', 'unsafe_hash', 'unset_charge', 'validate_monty', 'volume']\n",
      "('P4_2/mnm', 136)\n"
     ]
    }
   ],
   "source": [
    "from pymatgen.core import Structure\n",
    "\n",
    "struc_pmg = Structure.from_file(\"TiO2.POSCAR\")\n",
    "\n",
    "print(dir(struc_pmg))\n",
    "\n",
    "print(struc_pmg.get_space_group_info())"
   ]
  },
  {
   "cell_type": "code",
   "execution_count": 6,
   "id": "14cd32ac",
   "metadata": {},
   "outputs": [
    {
     "name": "stderr",
     "output_type": "stream",
     "text": [
      "/home/thism292/anaconda3/envs/CCS_fit/lib/python3.9/site-packages/ase/calculators/lammpsrun.py:191: UserWarning: You are using an old syntax to set 'parameters'.\n",
      "Please use LAMMPSRUN.set().\n",
      "  warnings.warn(self.legacy_warn_string.format(\"parameters\"))\n"
     ]
    },
    {
     "name": "stdout",
     "output_type": "stream",
     "text": [
      "Energy from LAMMPS  pre optmization:  -10.40607858103671\n",
      "Energy from CCS calculator pre optmization: -10.406102645641965\n",
      "MSE on energy between ase calc and LAMMPS: 5.791052261298848e-10\n",
      "MSE on forces between ase calc and LAMMPS: 3.610305740347139e-08\n"
     ]
    },
    {
     "name": "stderr",
     "output_type": "stream",
     "text": [
      "/home/thism292/anaconda3/envs/CCS_fit/lib/python3.9/site-packages/ase/utils/__init__.py:62: FutureWarning: Please use atoms.cell.rank instead\n",
      "  warnings.warn(warning)\n"
     ]
    }
   ],
   "source": [
    "# struct=read('POSCAR')\n",
    "lammps = LAMMPS(parameters=parameters,keep_tmp_files=False)\n",
    "ccs= CCS(CCS_params)\n",
    "\n",
    "\n",
    "struct_ase=copy.deepcopy(struct)\n",
    "\n",
    "struct.calc = lammps\n",
    "print(\"Energy from LAMMPS  pre optmization: \", struct.get_potential_energy())\n",
    "struct_ase.calc=ccs\n",
    "print(\"Energy from CCS calculator pre optmization:\", struct_ase.get_potential_energy())\n",
    "\n",
    "print (\"MSE on energy between ase calc and LAMMPS: {}\".format((struct_ase.get_potential_energy()-struct.get_potential_energy())**2))\n",
    "print (\"MSE on forces between ase calc and LAMMPS: {}\".format(mean_squared_error(struct.get_forces(),struct_ase.get_forces())))\n",
    "\n",
    "\n"
   ]
  },
  {
   "cell_type": "markdown",
   "id": "d9b50704",
   "metadata": {},
   "source": [
    "# Optimization"
   ]
  },
  {
   "cell_type": "code",
   "execution_count": 7,
   "id": "448d58e6",
   "metadata": {},
   "outputs": [
    {
     "name": "stdout",
     "output_type": "stream",
     "text": [
      "      Step     Time          Energy         fmax\n",
      "BFGS:    0 13:14:39      -10.406079        1.8709\n",
      "BFGS:    1 13:14:39      -10.529349        0.4050\n",
      "BFGS:    2 13:14:39      -10.534953        0.0251\n",
      "BFGS:    3 13:14:39      -10.534973        0.0003\n",
      "Energy from LAMMPS after optimization:  -10.53497273922022\n",
      "      Step     Time          Energy         fmax\n",
      "BFGS:    0 13:14:39      -10.406103        1.8705\n",
      "BFGS:    1 13:14:39      -10.529348        0.4055\n",
      "BFGS:    2 13:14:39      -10.534951        0.0256\n",
      "BFGS:    3 13:14:39      -10.534974        0.0003\n",
      "Energy from CCS calculator after optimization: -10.53497420618288\n",
      "MSE on energy between ase calc and LAMMPS: 2.151979445220317e-12\n",
      "MSE on forces between ase calc and LAMMPS: 1.5276948768853066e-09\n"
     ]
    },
    {
     "name": "stderr",
     "output_type": "stream",
     "text": [
      "/home/thism292/anaconda3/envs/CCS_fit/lib/python3.9/site-packages/ase/utils/__init__.py:62: FutureWarning: Please use atoms.cell.rank instead\n",
      "  warnings.warn(warning)\n"
     ]
    }
   ],
   "source": [
    "traj = Trajectory('LAMMPS.traj', 'w', struct)\n",
    "dyn=BFGS(struct)\n",
    "dyn.attach(traj)\n",
    "dyn.run(fmax=0.005)\n",
    "print(\"Energy from LAMMPS after optimization: \", struct.get_potential_energy())\n",
    "\n",
    "\n",
    "traj = Trajectory('CCS.traj', 'w', struct_ase)\n",
    "dyn=BFGS(struct_ase)\n",
    "dyn.attach(traj)\n",
    "dyn.run(fmax=0.005)\n",
    "print(\"Energy from CCS calculator after optimization:\", struct_ase.get_potential_energy())\n",
    "\n",
    "print (\"MSE on energy between ase calc and LAMMPS: {}\".format((struct_ase.get_potential_energy()-struct.get_potential_energy())**2))\n",
    "print (\"MSE on forces between ase calc and LAMMPS: {}\".format(mean_squared_error(struct.get_forces(),struct_ase.get_forces())))\n",
    "\n"
   ]
  },
  {
   "cell_type": "markdown",
   "id": "6a5d8533",
   "metadata": {},
   "source": [
    "**Note** : \n",
    "* Onebody energy contributons in CCS_params file was set to 0 for easy comparison"
   ]
  },
  {
   "cell_type": "markdown",
   "id": "feff4b7a-9e67-479c-a666-16f69e1d2c91",
   "metadata": {},
   "source": [
    "### Adding cell optimisation"
   ]
  },
  {
   "cell_type": "code",
   "execution_count": 8,
   "id": "93c9e1b1-fdbe-437b-9e76-7526575c0667",
   "metadata": {},
   "outputs": [],
   "source": [
    "from ase.constraints import StrainFilter\n",
    "from ase.io import read"
   ]
  },
  {
   "cell_type": "code",
   "execution_count": 13,
   "id": "85aab954-1fbf-46ef-8089-a2eaa5f42e17",
   "metadata": {},
   "outputs": [
    {
     "name": "stdout",
     "output_type": "stream",
     "text": [
      "[-1.58149341e+00 -1.58149341e+00 -1.16619126e+00 -4.70736975e-16\n",
      "  8.46881731e-17 -4.25081798e-16]\n",
      "      Step     Time          Energy         fmax\n",
      "BFGS:    0 09:38:30      -10.534973      157.9307\n",
      "BFGS:    1 09:38:30      -31.201993       75.3388\n",
      "BFGS:    2 09:38:30      -42.494719       78.3581\n",
      "BFGS:    3 09:38:30      -52.638107       80.7954\n",
      "BFGS:    4 09:38:30      -60.163204       45.1199\n",
      "BFGS:    5 09:38:30      -66.646994       44.1823\n",
      "BFGS:    6 09:38:30      -70.531264       34.6771\n",
      "BFGS:    7 09:38:30      -71.835801       23.3584\n",
      "BFGS:    8 09:38:30      -72.643322        6.0235\n",
      "BFGS:    9 09:38:30      -72.722339        3.3311\n",
      "BFGS:   10 09:38:30      -72.761553        0.2820\n",
      "BFGS:   11 09:38:30      -72.761937        0.0224\n",
      "BFGS:   12 09:38:30      -72.761939        0.0004\n",
      "BFGS:   13 09:38:30      -72.761939        0.0000\n",
      "Volume change of 276.0441279733187 %, as a result of the following lattice parameter changes:\n",
      "[54.55774912085602, 54.55774912076761, 57.41903391072035]\n"
     ]
    }
   ],
   "source": [
    "opt_struct = read('LAMMPS.traj')\n",
    "opt_struct.calc = lammps\n",
    "\n",
    "print(opt_struct.get_stress())\n",
    "\n",
    "orig_cell = opt_struct.cell.copy()\n",
    "\n",
    "sf = StrainFilter(opt_struct)\n",
    "opt = BFGS(sf, trajectory='LAMMPS_strain.traj')\n",
    "opt.run(fmax=1e-4)\n",
    "alat = opt_struct.cell[0][1] - opt_struct.cell[0][0]\n",
    "\n",
    "LAMMPS_strain_opt = read('LAMMPS_strain.traj')\n",
    "LAMMPS_strain_opt_cell = LAMMPS_strain_opt.cell\n",
    "\n",
    "old_vol = np.prod(np.diag(orig_cell))\n",
    "new_vol = np.prod(np.diag(LAMMPS_strain_opt_cell))\n",
    "\n",
    "print(\"Volume change of {} %, as a result of the following lattice parameter changes:\".format((new_vol-old_vol)/old_vol*100))\n",
    "print([np.diag(LAMMPS_strain_opt_cell-orig_cell)[i]/np.diag(orig_cell)[i]*100 for i in range(3)])"
   ]
  },
  {
   "cell_type": "code",
   "execution_count": 14,
   "id": "b9c1afbb-1434-4c67-94be-7518e7b1d137",
   "metadata": {},
   "outputs": [
    {
     "name": "stdout",
     "output_type": "stream",
     "text": [
      "[-1.58150180e+00 -1.58150180e+00 -1.16619344e+00  2.63065528e-16\n",
      "  1.81991438e-16  9.50416058e-16]\n",
      "      Step     Time          Energy         fmax\n",
      "BFGS:    0 09:38:45      -10.534974      157.9314\n",
      "BFGS:    1 09:38:45      -31.201994       75.3398\n",
      "BFGS:    2 09:38:45      -42.494789       78.3584\n",
      "BFGS:    3 09:38:45      -52.638099       80.7956\n",
      "BFGS:    4 09:38:45      -60.163193       45.1199\n",
      "BFGS:    5 09:38:45      -66.647390       44.1810\n",
      "BFGS:    6 09:38:45      -70.531592       34.6746\n",
      "BFGS:    7 09:38:45      -71.836017       23.3555\n",
      "BFGS:    8 09:38:45      -72.643331        6.0235\n",
      "BFGS:    9 09:38:45      -72.722348        3.3309\n",
      "BFGS:   10 09:38:45      -72.761559        0.2820\n",
      "BFGS:   11 09:38:45      -72.761943        0.0223\n",
      "BFGS:   12 09:38:45      -72.761945        0.0004\n",
      "BFGS:   13 09:38:45      -72.761945        0.0000\n",
      "Volume change of 276.04455743665795 %, as a result of the following lattice parameter changes:\n",
      "[54.55790938145649, 54.557909381428715, 57.418887237177074]\n",
      "[7.1094124  7.1094124  4.65836106]\n"
     ]
    }
   ],
   "source": [
    "from ase.io import write, read\n",
    "\n",
    "opt_struct = read('CCS.traj')\n",
    "opt_struct.calc = ccs\n",
    "\n",
    "print(opt_struct.get_stress())\n",
    "\n",
    "orig_cell = opt_struct.cell.copy()\n",
    "\n",
    "sf = StrainFilter(opt_struct)\n",
    "opt = BFGS(sf, trajectory='CCS_strain.traj')\n",
    "opt.run(fmax=1e-4)\n",
    "alat = opt_struct.cell[0][1] - opt_struct.cell[0][0]\n",
    "\n",
    "CCS_strain_opt = read('CCS_strain.traj')\n",
    "CCS_strain_opt_cell = CCS_strain_opt.cell\n",
    "\n",
    "old_vol = np.prod(np.diag(orig_cell))\n",
    "new_vol = np.prod(np.diag(CCS_strain_opt_cell))\n",
    "\n",
    "write(\"TiO2_opt_ccs.POSCAR\", CCS_strain_opt)\n",
    "\n",
    "print(\"Volume change of {} %, as a result of the following lattice parameter changes:\".format((new_vol-old_vol)/old_vol*100))\n",
    "print([np.diag(CCS_strain_opt_cell-orig_cell)[i]/np.diag(orig_cell)[i]*100 for i in range(3)])\n",
    "\n",
    "print(np.diag(CCS_strain_opt_cell))"
   ]
  },
  {
   "cell_type": "code",
   "execution_count": 11,
   "id": "41df960e-903d-47e5-b532-92d3b298be5a",
   "metadata": {},
   "outputs": [
    {
     "name": "stdout",
     "output_type": "stream",
     "text": [
      "Traceback (most recent call last):\n",
      "  File \"/usr/lib/python3.10/runpy.py\", line 196, in _run_module_as_main\n",
      "    return _run_code(code, main_globals, None,\n",
      "  File \"/usr/lib/python3.10/runpy.py\", line 86, in _run_code\n",
      "    exec(code, run_globals)\n",
      "  File \"/home/thism292/.local/lib/python3.10/site-packages/ase/gui/pipe.py\", line 32, in <module>\n",
      "    main()\n",
      "  File \"/home/thism292/.local/lib/python3.10/site-packages/ase/gui/pipe.py\", line 19, in main\n",
      "    make_plot(show=False, *data)\n",
      "  File \"/home/thism292/.local/lib/python3.10/site-packages/ase/gui/graphs.py\", line 78, in make_plot\n",
      "    plt.figure(figsize=(basesize * 2.5**0.5, basesize))\n",
      "  File \"/home/thism292/.local/lib/python3.10/site-packages/matplotlib/_api/deprecation.py\", line 454, in wrapper\n",
      "    return func(*args, **kwargs)\n",
      "  File \"/home/thism292/.local/lib/python3.10/site-packages/matplotlib/pyplot.py\", line 783, in figure\n",
      "    manager = new_figure_manager(\n",
      "  File \"/home/thism292/.local/lib/python3.10/site-packages/matplotlib/pyplot.py\", line 358, in new_figure_manager\n",
      "    _warn_if_gui_out_of_main_thread()\n",
      "  File \"/home/thism292/.local/lib/python3.10/site-packages/matplotlib/pyplot.py\", line 336, in _warn_if_gui_out_of_main_thread\n",
      "    if _get_required_interactive_framework(_get_backend_mod()):\n",
      "  File \"/home/thism292/.local/lib/python3.10/site-packages/matplotlib/pyplot.py\", line 207, in _get_backend_mod\n",
      "    switch_backend(dict.__getitem__(rcParams, \"backend\"))\n",
      "  File \"/home/thism292/.local/lib/python3.10/site-packages/matplotlib/pyplot.py\", line 265, in switch_backend\n",
      "    backend_mod = importlib.import_module(\n",
      "  File \"/usr/lib/python3.10/importlib/__init__.py\", line 126, in import_module\n",
      "    return _bootstrap._gcd_import(name[level:], package, level)\n",
      "  File \"<frozen importlib._bootstrap>\", line 1050, in _gcd_import\n",
      "  File \"<frozen importlib._bootstrap>\", line 1027, in _find_and_load\n",
      "  File \"<frozen importlib._bootstrap>\", line 992, in _find_and_load_unlocked\n",
      "  File \"<frozen importlib._bootstrap>\", line 241, in _call_with_frames_removed\n",
      "  File \"<frozen importlib._bootstrap>\", line 1050, in _gcd_import\n",
      "  File \"<frozen importlib._bootstrap>\", line 1027, in _find_and_load\n",
      "  File \"<frozen importlib._bootstrap>\", line 1004, in _find_and_load_unlocked\n",
      "ModuleNotFoundError: No module named 'matplotlib_inline'\n"
     ]
    }
   ],
   "source": [
    "!ase gui LAMMPS.traj"
   ]
  },
  {
   "cell_type": "code",
   "execution_count": 12,
   "id": "f992172a-8cf4-491b-be78-4464c7403f07",
   "metadata": {},
   "outputs": [
    {
     "name": "stdout",
     "output_type": "stream",
     "text": [
      "Traceback (most recent call last):\n",
      "  File \"/usr/lib/python3.10/runpy.py\", line 196, in _run_module_as_main\n",
      "    return _run_code(code, main_globals, None,\n",
      "  File \"/usr/lib/python3.10/runpy.py\", line 86, in _run_code\n",
      "    exec(code, run_globals)\n",
      "  File \"/home/thism292/.local/lib/python3.10/site-packages/ase/gui/pipe.py\", line 32, in <module>\n",
      "    main()\n",
      "  File \"/home/thism292/.local/lib/python3.10/site-packages/ase/gui/pipe.py\", line 19, in main\n",
      "    make_plot(show=False, *data)\n",
      "  File \"/home/thism292/.local/lib/python3.10/site-packages/ase/gui/graphs.py\", line 78, in make_plot\n",
      "    plt.figure(figsize=(basesize * 2.5**0.5, basesize))\n",
      "  File \"/home/thism292/.local/lib/python3.10/site-packages/matplotlib/_api/deprecation.py\", line 454, in wrapper\n",
      "    return func(*args, **kwargs)\n",
      "  File \"/home/thism292/.local/lib/python3.10/site-packages/matplotlib/pyplot.py\", line 783, in figure\n",
      "    manager = new_figure_manager(\n",
      "  File \"/home/thism292/.local/lib/python3.10/site-packages/matplotlib/pyplot.py\", line 358, in new_figure_manager\n",
      "    _warn_if_gui_out_of_main_thread()\n",
      "  File \"/home/thism292/.local/lib/python3.10/site-packages/matplotlib/pyplot.py\", line 336, in _warn_if_gui_out_of_main_thread\n",
      "    if _get_required_interactive_framework(_get_backend_mod()):\n",
      "  File \"/home/thism292/.local/lib/python3.10/site-packages/matplotlib/pyplot.py\", line 207, in _get_backend_mod\n",
      "    switch_backend(dict.__getitem__(rcParams, \"backend\"))\n",
      "  File \"/home/thism292/.local/lib/python3.10/site-packages/matplotlib/pyplot.py\", line 265, in switch_backend\n",
      "    backend_mod = importlib.import_module(\n",
      "  File \"/usr/lib/python3.10/importlib/__init__.py\", line 126, in import_module\n",
      "    return _bootstrap._gcd_import(name[level:], package, level)\n",
      "  File \"<frozen importlib._bootstrap>\", line 1050, in _gcd_import\n",
      "  File \"<frozen importlib._bootstrap>\", line 1027, in _find_and_load\n",
      "  File \"<frozen importlib._bootstrap>\", line 992, in _find_and_load_unlocked\n",
      "  File \"<frozen importlib._bootstrap>\", line 241, in _call_with_frames_removed\n",
      "  File \"<frozen importlib._bootstrap>\", line 1050, in _gcd_import\n",
      "  File \"<frozen importlib._bootstrap>\", line 1027, in _find_and_load\n",
      "  File \"<frozen importlib._bootstrap>\", line 1004, in _find_and_load_unlocked\n",
      "ModuleNotFoundError: No module named 'matplotlib_inline'\n"
     ]
    }
   ],
   "source": [
    "!ase gui LAMMPS_strain.traj"
   ]
  },
  {
   "cell_type": "code",
   "execution_count": 1,
   "id": "725303a6-5762-4b06-8733-7d649cab3cae",
   "metadata": {},
   "outputs": [
    {
     "name": "stdout",
     "output_type": "stream",
     "text": [
      "Writing LAMMPS and GULP splines.\n"
     ]
    },
    {
     "name": "stderr",
     "output_type": "stream",
     "text": [
      "/home/thism292/anaconda3/envs/CCS_fit/lib/python3.9/site-packages/scipy/optimize/_minpack_py.py:881: OptimizeWarning: Covariance of the parameters could not be estimated\n",
      "  warnings.warn('Covariance of the parameters could not be estimated',\n",
      "/home/thism292/Documents/repos/CCS_fit/src/ccs_fit/scripts/ccs_export_FF.py:25: RuntimeWarning: overflow encountered in square\n",
      "  return De*((1-np.exp(-a*(r-re)))**2-1)\n"
     ]
    },
    {
     "ename": "RuntimeError",
     "evalue": "Optimal parameters not found: Number of calls to function has reached maxfev = 5000.",
     "output_type": "error",
     "traceback": [
      "\u001b[0;31m---------------------------------------------------------------------------\u001b[0m",
      "\u001b[0;31mRuntimeError\u001b[0m                              Traceback (most recent call last)",
      "Cell \u001b[0;32mIn[1], line 3\u001b[0m\n\u001b[1;32m      1\u001b[0m \u001b[38;5;28;01mfrom\u001b[39;00m \u001b[38;5;21;01mccs_fit\u001b[39;00m\u001b[38;5;21;01m.\u001b[39;00m\u001b[38;5;21;01mscripts\u001b[39;00m\u001b[38;5;21;01m.\u001b[39;00m\u001b[38;5;21;01mccs_export_FF\u001b[39;00m \u001b[38;5;28;01mimport\u001b[39;00m write_FF\n\u001b[0;32m----> 3\u001b[0m \u001b[43mwrite_FF\u001b[49m\u001b[43m(\u001b[49m\u001b[38;5;124;43m\"\u001b[39;49m\u001b[38;5;124;43mCCS_params.json\u001b[39;49m\u001b[38;5;124;43m\"\u001b[39;49m\u001b[43m)\u001b[49m\n",
      "File \u001b[0;32m~/Documents/repos/CCS_fit/src/ccs_fit/scripts/ccs_export_FF.py:183\u001b[0m, in \u001b[0;36mwrite_FF\u001b[0;34m(CCS_params_file)\u001b[0m\n\u001b[1;32m    181\u001b[0m \u001b[38;5;28;01mfor\u001b[39;00m pair \u001b[38;5;129;01min\u001b[39;00m CCS_params[\u001b[38;5;124m\"\u001b[39m\u001b[38;5;124mTwo_body\u001b[39m\u001b[38;5;124m\"\u001b[39m]:\n\u001b[1;32m    182\u001b[0m     elem \u001b[38;5;241m=\u001b[39m pair\u001b[38;5;241m.\u001b[39msplit(\u001b[38;5;124m\"\u001b[39m\u001b[38;5;124m-\u001b[39m\u001b[38;5;124m\"\u001b[39m)\n\u001b[0;32m--> 183\u001b[0m     \u001b[43m_write\u001b[49m\u001b[43m(\u001b[49m\u001b[43melem\u001b[49m\u001b[43m[\u001b[49m\u001b[38;5;241;43m0\u001b[39;49m\u001b[43m]\u001b[49m\u001b[43m,\u001b[49m\u001b[43m \u001b[49m\u001b[43melem\u001b[49m\u001b[43m[\u001b[49m\u001b[38;5;241;43m1\u001b[39;49m\u001b[43m]\u001b[49m\u001b[43m,\u001b[49m\u001b[43m \u001b[49m\u001b[43mCCS_params\u001b[49m\u001b[43m,\u001b[49m\u001b[43m \u001b[49m\u001b[43mexp\u001b[49m\u001b[38;5;241;43m=\u001b[39;49m\u001b[38;5;28;43;01mTrue\u001b[39;49;00m\u001b[43m,\u001b[49m\u001b[43m \u001b[49m\u001b[43mf_Buck\u001b[49m\u001b[38;5;241;43m=\u001b[39;49m\u001b[43mf_Buck\u001b[49m\u001b[43m,\u001b[49m\u001b[43m \u001b[49m\u001b[43mf_LJ\u001b[49m\u001b[38;5;241;43m=\u001b[39;49m\u001b[43mf_LJ\u001b[49m\u001b[43m,\u001b[49m\u001b[43m \u001b[49m\u001b[43mf_Mor\u001b[49m\u001b[38;5;241;43m=\u001b[39;49m\u001b[43mf_Mor\u001b[49m\u001b[43m,\u001b[49m\u001b[43m \u001b[49m\u001b[43mf_Ped\u001b[49m\u001b[38;5;241;43m=\u001b[39;49m\u001b[43mf_Ped\u001b[49m\u001b[43m)\u001b[49m\n",
      "File \u001b[0;32m~/Documents/repos/CCS_fit/src/ccs_fit/scripts/ccs_export_FF.py:78\u001b[0m, in \u001b[0;36m_write\u001b[0;34m(elem1, elem2, CCS_params, f_Buck, f_LJ, f_Mor, f_Ped, exp)\u001b[0m\n\u001b[1;32m     75\u001b[0m         spl_to_fit\u001b[38;5;241m.\u001b[39mappend(\u001b[38;5;241m0\u001b[39m)\n\u001b[1;32m     77\u001b[0m popt_Buck, pcov \u001b[38;5;241m=\u001b[39m curve_fit(Buckingham, r, spl_to_fit, maxfev\u001b[38;5;241m=\u001b[39m\u001b[38;5;241m5000\u001b[39m)\n\u001b[0;32m---> 78\u001b[0m popt_Mor, pcov \u001b[38;5;241m=\u001b[39m \u001b[43mcurve_fit\u001b[49m\u001b[43m(\u001b[49m\u001b[43mMorse\u001b[49m\u001b[43m,\u001b[49m\u001b[43m \u001b[49m\u001b[43mr\u001b[49m\u001b[43m,\u001b[49m\u001b[43m \u001b[49m\u001b[43mspl_to_fit\u001b[49m\u001b[43m,\u001b[49m\u001b[43m \u001b[49m\u001b[43mp0\u001b[49m\u001b[38;5;241;43m=\u001b[39;49m\u001b[43m[\u001b[49m\u001b[38;5;241;43m2\u001b[39;49m\u001b[43m,\u001b[49m\u001b[38;5;241;43m1\u001b[39;49m\u001b[43m,\u001b[49m\u001b[38;5;241;43m1\u001b[39;49m\u001b[43m]\u001b[49m\u001b[43m,\u001b[49m\u001b[43m \u001b[49m\u001b[43mmaxfev\u001b[49m\u001b[38;5;241;43m=\u001b[39;49m\u001b[38;5;241;43m5000\u001b[39;49m\u001b[43m)\u001b[49m\n\u001b[1;32m     79\u001b[0m popt_LJ, pcov \u001b[38;5;241m=\u001b[39m curve_fit(Lennard_Jones, r, spl_to_fit, p0\u001b[38;5;241m=\u001b[39m[\u001b[38;5;241m1\u001b[39m,\u001b[38;5;241m1\u001b[39m], maxfev\u001b[38;5;241m=\u001b[39m\u001b[38;5;241m5000\u001b[39m)\n\u001b[1;32m     80\u001b[0m popt_Ped, pcov \u001b[38;5;241m=\u001b[39m curve_fit(Pedone, r, spl_to_fit, p0\u001b[38;5;241m=\u001b[39m[popt_Mor[\u001b[38;5;241m0\u001b[39m], popt_Mor[\u001b[38;5;241m1\u001b[39m], popt_Mor[\u001b[38;5;241m2\u001b[39m], \u001b[38;5;241m1\u001b[39m], maxfev\u001b[38;5;241m=\u001b[39m\u001b[38;5;241m5000\u001b[39m)\n",
      "File \u001b[0;32m~/anaconda3/envs/CCS_fit/lib/python3.9/site-packages/scipy/optimize/_minpack_py.py:839\u001b[0m, in \u001b[0;36mcurve_fit\u001b[0;34m(f, xdata, ydata, p0, sigma, absolute_sigma, check_finite, bounds, method, jac, full_output, **kwargs)\u001b[0m\n\u001b[1;32m    837\u001b[0m     cost \u001b[38;5;241m=\u001b[39m np\u001b[38;5;241m.\u001b[39msum(infodict[\u001b[38;5;124m'\u001b[39m\u001b[38;5;124mfvec\u001b[39m\u001b[38;5;124m'\u001b[39m] \u001b[38;5;241m*\u001b[39m\u001b[38;5;241m*\u001b[39m \u001b[38;5;241m2\u001b[39m)\n\u001b[1;32m    838\u001b[0m     \u001b[38;5;28;01mif\u001b[39;00m ier \u001b[38;5;129;01mnot\u001b[39;00m \u001b[38;5;129;01min\u001b[39;00m [\u001b[38;5;241m1\u001b[39m, \u001b[38;5;241m2\u001b[39m, \u001b[38;5;241m3\u001b[39m, \u001b[38;5;241m4\u001b[39m]:\n\u001b[0;32m--> 839\u001b[0m         \u001b[38;5;28;01mraise\u001b[39;00m \u001b[38;5;167;01mRuntimeError\u001b[39;00m(\u001b[38;5;124m\"\u001b[39m\u001b[38;5;124mOptimal parameters not found: \u001b[39m\u001b[38;5;124m\"\u001b[39m \u001b[38;5;241m+\u001b[39m errmsg)\n\u001b[1;32m    840\u001b[0m \u001b[38;5;28;01melse\u001b[39;00m:\n\u001b[1;32m    841\u001b[0m     \u001b[38;5;66;03m# Rename maxfev (leastsq) to max_nfev (least_squares), if specified.\u001b[39;00m\n\u001b[1;32m    842\u001b[0m     \u001b[38;5;28;01mif\u001b[39;00m \u001b[38;5;124m'\u001b[39m\u001b[38;5;124mmax_nfev\u001b[39m\u001b[38;5;124m'\u001b[39m \u001b[38;5;129;01mnot\u001b[39;00m \u001b[38;5;129;01min\u001b[39;00m kwargs:\n",
      "\u001b[0;31mRuntimeError\u001b[0m: Optimal parameters not found: Number of calls to function has reached maxfev = 5000."
     ]
    }
   ],
   "source": [
    "from ccs_fit.scripts.ccs_export_FF import write_FF\n",
    "\n",
    "write_FF(\"CCS_params.json\")"
   ]
  },
  {
   "cell_type": "code",
   "execution_count": null,
   "id": "513e3a65-e64d-4050-9001-14a25fb6b381",
   "metadata": {},
   "outputs": [],
   "source": []
  }
 ],
 "metadata": {
  "kernelspec": {
   "display_name": "Python 3 (ipykernel)",
   "language": "python",
   "name": "python3"
  },
  "language_info": {
   "codemirror_mode": {
    "name": "ipython",
    "version": 3
   },
   "file_extension": ".py",
   "mimetype": "text/x-python",
   "name": "python",
   "nbconvert_exporter": "python",
   "pygments_lexer": "ipython3",
   "version": "3.9.15"
  },
  "vscode": {
   "interpreter": {
    "hash": "916dbcbb3f70747c44a77c7bcd40155683ae19c65e1c03b4aa3499c5328201f1"
   }
  }
 },
 "nbformat": 4,
 "nbformat_minor": 5
}
