{
 "cells": [
  {
   "cell_type": "code",
   "execution_count": null,
   "metadata": {},
   "outputs": [],
   "source": [
    "# Load in the relevant packages\n",
    "from ase.io import read,write\n",
    "from ase.build import bulk\n",
    "import numpy as np\n",
    "import ase.db as db\n",
    "from ase.visualize import view\n",
    "from ase.calculators.lj import LennardJones\n",
    "import matplotlib.pyplot as plt\n",
    "import json\n",
    "import sympy\n",
    "import matplotlib.pyplot as plt\n",
    "import os\n",
    "import sys\n",
    "\n",
    "# Get the absolute path of the parent directory\n",
    "parent_dir = os.path.abspath(os.path.join(os.getcwd(), \"..\"))\n",
    "\n",
    "# Add the parent directory to the sys.path list\n",
    "sys.path.insert(0, parent_dir)\n",
    "\n",
    "# Import the module from the parent directory\n",
    "from helper import fit_task\n",
    "\n",
    "# try:\n",
    "#     os.remove('G2B.db')\n",
    "# except:\n",
    "#     pass\n",
    "\n",
    "#SYSTEM\n",
    "damping=0.1 # Empirical damping parameter used in the rattleling, hard materials need a small value... \n",
    "            # Natural range problably around 0.25-5. \n",
    "Tm= 1975    # Melting point\n",
    "a0=3.238   # Cell paramter\n",
    "c0=5.176\n",
    "u0=0.3814\n",
    "\n",
    "crystal=bulk('ZnO','wurtzite',a=a0,c=c0,u=u0)\n",
    "\n",
    "#FORCE-FIELD\n",
    "# https://pubs.acs.org/doi/10.1021/jp411308z\n",
    "# \t\t\n",
    "r_cut=12.0\n",
    "CCS_res=0.1\n",
    "pairs=[\"Zn-Zn\",\"Zn-O\",\"O-O\"]\n",
    "charge_dict= {\"Zn\":1.14,\"O\":-1.14}\n",
    "V_ij=\"D_ij*( (1-exp(-a_ij*(r_ij-r_0)))**2 - 1) + C_ij*exp(-r_ij/rho)\"\n",
    "\n",
    "FF={\"Zn-Zn\": {\"D_ij\":0.0,     \"a_ij\":0.0, \"r_0\":0.0 ,\"C_ij\": 78.91    ,\"rho\":0.5177},\n",
    "    \"Zn-O\" : {\"D_ij\":0.0,     \"a_ij\":0.0, \"r_0\":0.0 ,\"C_ij\":257600.0  ,\"rho\":0.1396},\n",
    "    \"O-O\"  : {\"D_ij\": 0.1567, \"a_ij\":3.405 ,\"r_0\":1.164 ,\"C_ij\": 0.0 ,\"rho\":1.0}}\n",
    "\n",
    "\n",
    "FT=fit_task(pairs=pairs,\n",
    "            crystal=crystal,\n",
    "            Tm=Tm,\n",
    "            r_cut=r_cut,\n",
    "            V_ij=V_ij,\n",
    "            charge_dict=charge_dict,\n",
    "            damping=damping,\n",
    "            CCS_res=CCS_res\n",
    "            )\n",
    "\n",
    "FT.assign_params(FF)"
   ]
  },
  {
   "attachments": {},
   "cell_type": "markdown",
   "metadata": {},
   "source": [
    "# BUILD INITIAL TRAINING-SET\n",
    "We first deterimine the bounds for the volume and then try to fill up data uniformly accros the assible volume range."
   ]
  },
  {
   "cell_type": "code",
   "execution_count": null,
   "metadata": {},
   "outputs": [],
   "source": [
    "FT.init_training()"
   ]
  },
  {
   "attachments": {},
   "cell_type": "markdown",
   "metadata": {},
   "source": [
    "# BUILD SCARMBLED DATA SET"
   ]
  },
  {
   "cell_type": "code",
   "execution_count": null,
   "metadata": {},
   "outputs": [],
   "source": [
    "FT.scramble(size=1000,DB=\"G2B.db\",damping=0.25)"
   ]
  },
  {
   "attachments": {},
   "cell_type": "markdown",
   "metadata": {},
   "source": [
    "# Check sampling quality"
   ]
  },
  {
   "cell_type": "code",
   "execution_count": null,
   "metadata": {},
   "outputs": [],
   "source": [
    "FT.check_sampling()"
   ]
  },
  {
   "attachments": {},
   "cell_type": "markdown",
   "metadata": {},
   "source": [
    "# Fit and analyse"
   ]
  },
  {
   "cell_type": "code",
   "execution_count": null,
   "metadata": {},
   "outputs": [],
   "source": [
    "import pandas as pd\n",
    "df=pd.DataFrame()"
   ]
  },
  {
   "cell_type": "code",
   "execution_count": null,
   "metadata": {},
   "outputs": [],
   "source": [
    "from ccs_fit.scripts.ccs_fetch import ccs_fetch\n",
    "from ccs_fit import ccs_fit\n",
    "import pandas as pd\n",
    "import seaborn as sns\n",
    "\n",
    "for Ns in [1,2,4,8,16,32]:\n",
    "    i=0\n",
    "    while i < 10:\n",
    "        ccs_fetch(mode=\"CCS+Q\",DFT_DB=\"G2B.db\",include_forces=True,charge_dict=charge_dict,R_c=r_cut,Ns=Ns)\n",
    "        ccs_fit(\"CCS_input.json\")\n",
    "        Overlap = float( FT.calculate_overlap_rmse()['Total'] )\n",
    "        q_err=FT.compare_q()\n",
    "        tmp=pd.DataFrame([{\"Method\":\"CCS\", \"No_samples\":Ns,\"Overlap\":Overlap,\"q_error\":q_err }])\n",
    "        df=pd.concat([df,tmp],ignore_index=True)\n",
    "        Overlap = float(FT.calculate_overlap_rmse(UNC=True)['Total'])\n",
    "        q_err=FT.compare_q(UNC=True)\n",
    "        tmp=pd.DataFrame([{\"Method\":\"UNC\", \"No_samples\":Ns,\"Overlap\":Overlap,\"q_error\":q_err }])\n",
    "        df=pd.concat([df,tmp],ignore_index=True)\n",
    "        i += 1    \n",
    "\n",
    "         \n",
    "    sns.lineplot(x='No_samples', y='Overlap', hue='Method', data=df)\n",
    "    plt.show()\n",
    "    sns.lineplot(x='No_samples', y='q_error', hue='Method', data=df)\n",
    "    plt.show()\n",
    "\n"
   ]
  },
  {
   "cell_type": "code",
   "execution_count": null,
   "metadata": {},
   "outputs": [],
   "source": [
    "import pandas as pd\n",
    "df_NoF=pd.DataFrame()"
   ]
  },
  {
   "cell_type": "code",
   "execution_count": null,
   "metadata": {},
   "outputs": [],
   "source": [
    "from ccs_fit.scripts.ccs_fetch import ccs_fetch\n",
    "from ccs_fit import ccs_fit\n",
    "import pandas as pd\n",
    "import seaborn as sns\n",
    "\n",
    "for Ns in [8,16,32]:\n",
    "    i=0\n",
    "    while i < 10:\n",
    "        ccs_fetch(mode=\"CCS+Q\",DFT_DB=\"G2B.db\",include_forces=False,charge_dict=charge_dict,R_c=r_cut,Ns=Ns)\n",
    "        ccs_fit(\"CCS_input.json\")\n",
    "        Overlap = float( FT.calculate_overlap_rmse()['Total'] )\n",
    "        q_err=FT.compare_q()\n",
    "        tmp=pd.DataFrame([{\"Method\":\"CCS\", \"No_samples\":Ns,\"Overlap\":Overlap,\"q_error\":q_err }])\n",
    "        df_NoF=pd.concat([df_NoF,tmp],ignore_index=True)\n",
    "        Overlap = float(FT.calculate_overlap_rmse(UNC=True)['Total'])\n",
    "        q_err=FT.compare_q(UNC=True)\n",
    "        tmp=pd.DataFrame([{\"Method\":\"UNC\", \"No_samples\":Ns,\"Overlap\":Overlap,\"q_error\":q_err }])\n",
    "        df_NoF=pd.concat([df_NoF,tmp],ignore_index=True)\n",
    "        i += 1    \n",
    "\n",
    "         \n",
    "    sns.lineplot(x='No_samples', y='Overlap', hue='Method', data=df_NoF)\n",
    "    plt.show()\n",
    "    sns.lineplot(x='No_samples', y='q_error', hue='Method', data=df_NoF)\n",
    "    plt.show()"
   ]
  }
 ],
 "metadata": {
  "kernelspec": {
   "display_name": "Python 3",
   "language": "python",
   "name": "python3"
  },
  "language_info": {
   "codemirror_mode": {
    "name": "ipython",
    "version": 3
   },
   "file_extension": ".py",
   "mimetype": "text/x-python",
   "name": "python",
   "nbconvert_exporter": "python",
   "pygments_lexer": "ipython3",
   "version": "3.10.9"
  },
  "orig_nbformat": 4
 },
 "nbformat": 4,
 "nbformat_minor": 2
}
