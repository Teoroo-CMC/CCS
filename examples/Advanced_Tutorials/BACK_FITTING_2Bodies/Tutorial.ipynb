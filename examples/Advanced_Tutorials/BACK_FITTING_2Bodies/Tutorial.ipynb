{
 "cells": [
  {
   "cell_type": "code",
   "execution_count": 12,
   "metadata": {},
   "outputs": [],
   "source": [
    "# Load in the relevant packages\n",
    "\n",
    "from ase.io import read,write\n",
    "from ase.build import bulk\n",
    "import numpy as np\n",
    "import ase.db as db\n",
    "from ase.visualize import view\n",
    "from ase.calculators.lj import LennardJones\n",
    "import matplotlib.pyplot as plt\n",
    "\n",
    "LJ=bulk('Ne','fcc',a=1.55)\n",
    "LJ=LJ*[2,2,2]\n",
    "\n",
    "### Generate input.json file\n",
    "import json\n",
    "\n",
    "input={\n",
    "        \"Charge scaling factor\": 0.0,\n",
    "        \"One_body\": {\n",
    "                \"Ne\": 0.01167963158958527\n",
    "        },\n",
    "        \"Two_body\": {\n",
    "                \"Ne-Ne\": {\n",
    "                        \"r_min\": 0.0,\n",
    "                        \"r_cut\": 12.0,\n",
    "                        \"V_func\" : \"20.0*exp(-2.0*(r_ij-2.0)) + (1/(r_ij**6))\"\n",
    "                }\n",
    "        }\n",
    "}\n",
    "#SAVE TO FILE\n",
    "with open('G2B_input.json', 'w') as f:\n",
    "    json.dump(input, f, indent=8)"
   ]
  },
  {
   "cell_type": "code",
   "execution_count": 13,
   "metadata": {},
   "outputs": [],
   "source": [
    "from ccs_fit.ase_calculator.ccs_ase_G2B import G2B\n",
    "calc = G2B(G2B_params=input)\n",
    "LJ.calc=calc"
   ]
  },
  {
   "cell_type": "code",
   "execution_count": 14,
   "metadata": {},
   "outputs": [
    {
     "name": "stderr",
     "output_type": "stream",
     "text": [
      "c:\\Users\\jolku587\\Anaconda3\\envs\\CCS_coding\\lib\\site-packages\\ase\\utils\\__init__.py:62: FutureWarning: Please use atoms.cell.rank instead\n",
      "  warnings.warn(warning)\n"
     ]
    },
    {
     "data": {
      "text/plain": [
       "0.09343705271668216"
      ]
     },
     "execution_count": 14,
     "metadata": {},
     "output_type": "execute_result"
    }
   ],
   "source": [
    "LJ.get_potential_energy()"
   ]
  },
  {
   "cell_type": "code",
   "execution_count": null,
   "metadata": {},
   "outputs": [],
   "source": []
  }
 ],
 "metadata": {
  "kernelspec": {
   "display_name": "Python 3",
   "language": "python",
   "name": "python3"
  },
  "language_info": {
   "codemirror_mode": {
    "name": "ipython",
    "version": 3
   },
   "file_extension": ".py",
   "mimetype": "text/x-python",
   "name": "python",
   "nbconvert_exporter": "python",
   "pygments_lexer": "ipython3",
   "version": "3.10.9"
  },
  "orig_nbformat": 4
 },
 "nbformat": 4,
 "nbformat_minor": 2
}
