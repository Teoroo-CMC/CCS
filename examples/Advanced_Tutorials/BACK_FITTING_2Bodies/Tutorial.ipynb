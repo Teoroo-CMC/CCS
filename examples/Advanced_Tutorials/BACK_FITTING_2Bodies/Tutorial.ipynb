{
 "cells": [
  {
   "cell_type": "code",
   "execution_count": 42,
   "metadata": {},
   "outputs": [],
   "source": [
    "# Load in the relevant packages\n",
    "#INTERESING COMPARISONS?\n",
    "# 1. Journal of Physics and Chemistry of Solids 65 (2004) 1077–1081\n",
    "# I doupt their units are correct...\n",
    "#\n",
    "# 2. Pedone\n",
    "# O-O 0.042395 1.379316 3.618701 22.0\n",
    "# Ba-O 0.065011 1.547596 3.393410 5.0\n",
    "\n",
    "\n",
    "\n",
    "from ase.io import read,write\n",
    "from ase.build import bulk\n",
    "import numpy as np\n",
    "import ase.db as db\n",
    "from ase.visualize import view\n",
    "from ase.calculators.lj import LennardJones\n",
    "import matplotlib.pyplot as plt\n",
    "\n",
    "LJ=bulk('BaO','rocksalt',cubic=True,a=5.55)\n",
    "\n",
    "### Generate input.json file\n",
    "import json\n",
    "\n",
    "input={\n",
    "        \"Charge scaling factor\": 1.0,\n",
    "        \"One_body\": {\n",
    "                \"Ba\": 0.0\n",
    "        },\n",
    "        \"Two_body\": {\n",
    "                \"Ba-O\": {\n",
    "                        \"r_min\": 0.0,\n",
    "                        \"r_cut\": 12.0,\n",
    "                        \"V_func\" : \"0.065011*(1-exp(1.547596*(r_ij-3.393410))**2 - 1) + 5.0/(r_ij**12)\"\n",
    "                },\n",
    "                \"O-O\": {\n",
    "                        \"r_min\": 0.0,\n",
    "                        \"r_cut\": 12.0,   \n",
    "                        \"V_func\" : \"0.042395*(1-exp(1.379316*(r_ij-3.618701))**2 - 1) + 22.0/(r_ij**12)\"\n",
    "                }\n",
    "        }\n",
    "}\n",
    "\n",
    "#SAVE TO FILE\n",
    "with open('G2B_input.json', 'w') as f:\n",
    "    json.dump(input, f, indent=8)"
   ]
  },
  {
   "cell_type": "code",
   "execution_count": 43,
   "metadata": {},
   "outputs": [],
   "source": [
    "from ccs_fit.ase_calculator.ccs_ase_G2B import G2B\n",
    "calc = G2B(G2B_params=input,charge=True,q={\"Ba\":1.2,\"O\":-0.6},charge_scaling=False)\n",
    "LJ.calc=calc"
   ]
  },
  {
   "cell_type": "code",
   "execution_count": 44,
   "metadata": {},
   "outputs": [
    {
     "data": {
      "text/plain": [
       "-30.024223649380342"
      ]
     },
     "execution_count": 44,
     "metadata": {},
     "output_type": "execute_result"
    }
   ],
   "source": [
    "LJ.get_potential_energy()"
   ]
  },
  {
   "cell_type": "code",
   "execution_count": null,
   "metadata": {},
   "outputs": [],
   "source": []
  }
 ],
 "metadata": {
  "kernelspec": {
   "display_name": "Python 3",
   "language": "python",
   "name": "python3"
  },
  "language_info": {
   "codemirror_mode": {
    "name": "ipython",
    "version": 3
   },
   "file_extension": ".py",
   "mimetype": "text/x-python",
   "name": "python",
   "nbconvert_exporter": "python",
   "pygments_lexer": "ipython3",
   "version": "3.10.9"
  },
  "orig_nbformat": 4
 },
 "nbformat": 4,
 "nbformat_minor": 2
}
