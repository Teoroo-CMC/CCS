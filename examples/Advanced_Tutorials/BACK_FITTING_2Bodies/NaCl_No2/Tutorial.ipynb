{
 "cells": [
  {
   "cell_type": "code",
   "execution_count": null,
   "metadata": {},
   "outputs": [],
   "source": [
    "# Load in the relevant packages\n",
    "from ase.io import read,write\n",
    "from ase.build import bulk\n",
    "import numpy as np\n",
    "import ase.db as db\n",
    "from ase.visualize import view\n",
    "from ase.calculators.lj import LennardJones\n",
    "import matplotlib.pyplot as plt\n",
    "import json\n",
    "import sympy\n",
    "import matplotlib.pyplot as plt\n",
    "import os\n",
    "import sys\n",
    "\n",
    "# Get the absolute path of the parent directory\n",
    "parent_dir = os.path.abspath(os.path.join(os.getcwd(), \"..\"))\n",
    "\n",
    "# Add the parent directory to the sys.path list\n",
    "sys.path.insert(0, parent_dir)\n",
    "\n",
    "# Import the module from the parent directory\n",
    "from helper import fit_task\n",
    "\n",
    "# try:\n",
    "#     os.remove('G2B.db')\n",
    "# except:\n",
    "#     pass\n",
    "\n",
    "#SYSTEM\n",
    "damping=0.1 # Empirical damping parameter used in the rattleling, hard materials need a small value... \n",
    "            # Natural range problably around 0.25-5. \n",
    "Tm= 1465    # Boiling point!\n",
    "a0=5.6   # Cell paramter\n",
    "\n",
    "crystal=bulk('NaCl','rocksalt',cubic=True,a=a0)\n",
    "\n",
    "#FORCE-FIELD\n",
    "# Comparison of Fixed Charge and Polarizable Models\n",
    "# for Predicting the Structural, Thermodynamic and Transport Properties of Molten\n",
    "# Alkali Chlorides\n",
    "#         ++      +-         --\n",
    "# A       6.081   4.865    3.649   0.317 \n",
    "# sigma   2.340   2.755    3.170 \n",
    "# C      24.181 161.205 1669.618 \n",
    "# D      11.515 200.066 3353.630\n",
    "E_conv= 0.0433641153087705\n",
    "\n",
    "r_cut=8.0\n",
    "CCS_res=0.1\n",
    "\n",
    "pairs=[\"Na-Na\",\"Na-Cl\",\"Cl-Cl\"]\n",
    "charge_dict= {\"Na\":1,\"Cl\":-1}\n",
    "\n",
    "V_ij=\" A_ij*exp( (sigma- r_ij) /rho)      -C_ij/(r_ij**6)-D_ij/(r_ij**8)\"\n",
    "FF= {\"Na-Na\": {\"A_ij\":6.081*E_conv, \"sigma\":2.340 ,\"rho\":0.317 , \"C_ij\":24.181*E_conv   , \"D_ij\":11.515*E_conv  }, \n",
    "     \"Na-Cl\": {\"A_ij\":4.865*E_conv, \"sigma\":2.755 ,\"rho\":0.317 , \"C_ij\":161.205*E_conv  , \"D_ij\":200.066*E_conv},\n",
    "     \"Cl-Cl\": {\"A_ij\":3.649*E_conv, \"sigma\":3.170 ,\"rho\":0.317 , \"C_ij\":1669.618*E_conv , \"D_ij\":3353.630*E_conv}}\n",
    "\n",
    "\n",
    "\n",
    "FT=fit_task(pairs=pairs,\n",
    "            crystal=crystal,\n",
    "            Tm=Tm,\n",
    "            r_cut=r_cut,\n",
    "            V_ij=V_ij,\n",
    "            charge_dict=charge_dict,\n",
    "            damping=damping,\n",
    "            CCS_res=CCS_res\n",
    "            )\n",
    "\n",
    "FT.assign_params(FF)"
   ]
  },
  {
   "attachments": {},
   "cell_type": "markdown",
   "metadata": {},
   "source": [
    "# BUILD INITIAL TRAINING-SET\n",
    "We first deterimine the bounds for the volume and then try to fill up data uniformly accros the assible volume range."
   ]
  },
  {
   "cell_type": "code",
   "execution_count": null,
   "metadata": {},
   "outputs": [],
   "source": [
    "FT.init_training()"
   ]
  },
  {
   "attachments": {},
   "cell_type": "markdown",
   "metadata": {},
   "source": [
    "# BUILD SCARMBLED DATA SET"
   ]
  },
  {
   "cell_type": "code",
   "execution_count": null,
   "metadata": {},
   "outputs": [],
   "source": [
    "FT.scramble(size=1000,DB=\"G2B.db\",damping=1.5)"
   ]
  },
  {
   "attachments": {},
   "cell_type": "markdown",
   "metadata": {},
   "source": [
    "# Check sampling quality"
   ]
  },
  {
   "cell_type": "code",
   "execution_count": null,
   "metadata": {},
   "outputs": [],
   "source": [
    "FT.check_sampling()"
   ]
  },
  {
   "cell_type": "markdown",
   "metadata": {},
   "source": [
    "# Fit and analyse"
   ]
  },
  {
   "cell_type": "code",
   "execution_count": null,
   "metadata": {},
   "outputs": [],
   "source": [
    "import pandas as pd\n",
    "df=pd.DataFrame()"
   ]
  },
  {
   "cell_type": "code",
   "execution_count": null,
   "metadata": {},
   "outputs": [],
   "source": [
    "from ccs_fit.scripts.ccs_fetch import ccs_fetch\n",
    "from ccs_fit import ccs_fit\n",
    "import pandas as pd\n",
    "import seaborn as sns\n",
    "\n",
    "for Ns in [1,2,4,8,16,32]:\n",
    "    i=0\n",
    "    while i < 10:\n",
    "        try:\n",
    "            ccs_fetch(mode=\"CCS+Q\",DFT_DB=\"G2B.db\",include_forces=True,charge_dict=charge_dict,R_c=r_cut,Ns=Ns)\n",
    "            ccs_fit(\"CCS_input.json\")\n",
    "            Overlap = float( FT.calculate_overlap_rmse()['Total'] )\n",
    "            q_err=FT.compare_q()\n",
    "            tmp=pd.DataFrame([{\"Method\":\"CCS\", \"No_samples\":Ns,\"Overlap\":Overlap,\"q_error\":q_err }])\n",
    "            df=pd.concat([df,tmp],ignore_index=True)\n",
    "            Overlap = float(FT.calculate_overlap_rmse(UNC=True)['Total'])\n",
    "            q_err=FT.compare_q(UNC=True)\n",
    "            tmp=pd.DataFrame([{\"Method\":\"UNC\", \"No_samples\":Ns,\"Overlap\":Overlap,\"q_error\":q_err }])\n",
    "            df=pd.concat([df,tmp],ignore_index=True)\n",
    "            i += 1    \n",
    "        except:\n",
    "            pass\n",
    "         \n",
    "    sns.lineplot(x='No_samples', y='Overlap', hue='Method', data=df)\n",
    "    plt.show()\n",
    "    sns.lineplot(x='No_samples', y='q_error', hue='Method', data=df)\n",
    "    plt.show()\n",
    "\n"
   ]
  },
  {
   "cell_type": "code",
   "execution_count": null,
   "metadata": {},
   "outputs": [],
   "source": [
    "import pandas as pd\n",
    "df_NoF=pd.DataFrame()\n"
   ]
  },
  {
   "cell_type": "code",
   "execution_count": null,
   "metadata": {},
   "outputs": [],
   "source": [
    "from ccs_fit.scripts.ccs_fetch import ccs_fetch\n",
    "from ccs_fit import ccs_fit\n",
    "import pandas as pd\n",
    "import seaborn as sns\n",
    "\n",
    "for Ns in [8,16,32]:\n",
    "    i=0\n",
    "    while i < 10:\n",
    "        ccs_fetch(mode=\"CCS+Q\",DFT_DB=\"G2B.db\",include_forces=False,charge_dict=charge_dict,R_c=r_cut,Ns=Ns)\n",
    "        ccs_fit(\"CCS_input.json\")\n",
    "        Overlap = float( FT.calculate_overlap_rmse()['Total'] )\n",
    "        q_err=FT.compare_q()\n",
    "        tmp=pd.DataFrame([{\"Method\":\"CCS\", \"No_samples\":Ns,\"Overlap\":Overlap,\"q_error\":q_err }])\n",
    "        df_NoF=pd.concat([df_NoF,tmp],ignore_index=True)\n",
    "        Overlap = float(FT.calculate_overlap_rmse(UNC=True)['Total'])\n",
    "        q_err=FT.compare_q(UNC=True)\n",
    "        tmp=pd.DataFrame([{\"Method\":\"UNC\", \"No_samples\":Ns,\"Overlap\":Overlap,\"q_error\":q_err }])\n",
    "        df_NoF=pd.concat([df_NoF,tmp],ignore_index=True)\n",
    "        i += 1    \n",
    "\n",
    "         \n",
    "    sns.lineplot(x='No_samples', y='Overlap', hue='Method', data=df_NoF)\n",
    "    plt.show()\n",
    "    sns.lineplot(x='No_samples', y='q_error', hue='Method', data=df_NoF)\n",
    "    plt.show()"
   ]
  }
 ],
 "metadata": {
  "kernelspec": {
   "display_name": "Python 3",
   "language": "python",
   "name": "python3"
  },
  "language_info": {
   "codemirror_mode": {
    "name": "ipython",
    "version": 3
   },
   "file_extension": ".py",
   "mimetype": "text/x-python",
   "name": "python",
   "nbconvert_exporter": "python",
   "pygments_lexer": "ipython3",
   "version": "3.10.9"
  },
  "orig_nbformat": 4
 },
 "nbformat": 4,
 "nbformat_minor": 2
}
