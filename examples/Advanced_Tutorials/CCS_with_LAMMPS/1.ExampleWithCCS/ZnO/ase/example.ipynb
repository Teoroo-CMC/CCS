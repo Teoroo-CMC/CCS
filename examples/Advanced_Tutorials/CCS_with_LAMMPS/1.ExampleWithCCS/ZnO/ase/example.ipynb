{
 "cells": [
  {
   "cell_type": "markdown",
   "id": "69f03dfb",
   "metadata": {},
   "source": [
    "# CCS potential with LAMMPS  for ZnO"
   ]
  },
  {
   "cell_type": "markdown",
   "id": "52758eb7",
   "metadata": {},
   "source": [
    "In this example, we will run CCS potentials with LAMMPS for multicomponent systems. ZnO  CCS potential is used for this illustration. Note that the exponential head part in **CCS_params.json** is ignored when LAMMPS spline tables are created. The exponential part is avoided because LAMMPS performs a pre-interpolation on the tabular data, and often pre-interpolation done with exponential head gives worse results. In general, a higher resolution should be used while generating spline table for LAMMPS. By default, the gridsize used for CCS is divided by 10.  "
   ]
  },
  {
   "cell_type": "code",
   "execution_count": 1,
   "id": "5e948b49",
   "metadata": {},
   "outputs": [
    {
     "data": {
      "text/plain": [
       "{'O-Zn': {'Rmin': 1.2999991089415996,\n",
       "  'Rcut': 5.9999991089416,\n",
       "  'dr': 0.005,\n",
       "  'N': 941},\n",
       " 'O-O': {'Rmin': 2.0999990640749275,\n",
       "  'Rcut': 5.9999990640749274,\n",
       "  'dr': 0.01,\n",
       "  'N': 391},\n",
       " 'Zn-Zn': {'Rmin': 1.9999957089651335,\n",
       "  'Rcut': 5.999995708965134,\n",
       "  'dr': 0.01,\n",
       "  'N': 401}}"
      ]
     },
     "execution_count": 1,
     "metadata": {},
     "output_type": "execute_result"
    }
   ],
   "source": [
    "# Generates CCS.table file readable by LAMMPS\n",
    "from ccs_fit.scripts.jsonTotable import asecalcTotable\n",
    "tags=asecalcTotable(\"CCS_params.json\",scale=10)  # Controls the resolution of the gridsize; gridsize=dr/scale.\n",
    "tags"
   ]
  },
  {
   "cell_type": "code",
   "execution_count": 2,
   "id": "2bc44b91",
   "metadata": {},
   "outputs": [
    {
     "name": "stdout",
     "output_type": "stream",
     "text": [
      "\n",
      " O-Zn\n",
      " N 941 R 1.2999991089415996 5.9999991089416 \n",
      "\n",
      " 1 1.2999991089415996 18.6733869381274 391.5424306774645\n",
      " 2 1.3049991089415995 16.74203855060834 380.99692432954544\n",
      " 3 1.3099991089415994 14.863417694838336 370.45141797784134\n",
      " 4 1.3149991089415993 13.037524370836312 359.9059116223522\n",
      " 5 1.3199991089415992 11.264358578621199 349.3604052630781\n",
      " 6 1.3249991089415991 9.543920318211915 338.814898900019\n"
     ]
    }
   ],
   "source": [
    "!head CCS.table"
   ]
  },
  {
   "cell_type": "code",
   "execution_count": 3,
   "id": "cfa76efd",
   "metadata": {},
   "outputs": [],
   "source": [
    "import json\n",
    "import copy\n",
    "import matplotlib.pyplot as plt\n",
    "\n",
    "from ase import Atoms\n",
    "from ase.calculators.lammpsrun import LAMMPS\n",
    "from ccs_fit.ase_calculator.ccs_ase_calculator import CCS\n",
    "from ase.io import read,write\n",
    "from ase.io.trajectory import Trajectory\n",
    "from ase.optimize import BFGS\n",
    "from sklearn.metrics import mean_squared_error\n",
    "\n",
    "\n",
    "with open ('CCS_params.json','r') as f:\n",
    "    CCS_params=json.load(f)\n",
    "\n",
    "\n",
    "# Parameters for LAMMPS \n",
    "parameters = {\n",
    "              'pair_style': 'table spline 1000',   # The number of elements chosen taken for pre-interpolation\n",
    "              'pair_coeff': ['1 1  CCS.table O-O 5.9999990640749274', # Specify Rcut for each pair\n",
    "                             '1 2  CCS.table O-Zn 5.9999991089416',\n",
    "                             '2 2  CCS.table Zn-Zn 5.999995708965134'],\n",
    "#              'pair_write': ['1 2 500 r  1.2999991089415996 5.9999991089416 table.txt table']\n",
    "              'command': '/usr/bin/lmp'   # Remove or change to your local lammps executable\n",
    "}\n",
    "\n"
   ]
  },
  {
   "cell_type": "markdown",
   "id": "a9139c56",
   "metadata": {},
   "source": [
    "# Single point evaluation"
   ]
  },
  {
   "cell_type": "code",
   "execution_count": 4,
   "id": "14cd32ac",
   "metadata": {},
   "outputs": [
    {
     "name": "stderr",
     "output_type": "stream",
     "text": [
      "/home/thism292/anaconda3/envs/CCS_fit/lib/python3.9/site-packages/ase/calculators/lammpsrun.py:191: UserWarning: You are using an old syntax to set 'parameters'.\n",
      "Please use LAMMPSRUN.set().\n",
      "  warnings.warn(self.legacy_warn_string.format(\"parameters\"))\n"
     ]
    },
    {
     "name": "stdout",
     "output_type": "stream",
     "text": [
      "Energy from LAMMPS  pre optmization:  -519.1112078503346\n",
      "Energy from CCS calculator pre optmization: -519.1112078626454\n",
      "MSE on energy between ase calc and LAMMPS: 1.5155595905299652e-16\n",
      "MSE on forces between ase calc and LAMMPS: 2.905083127909829e-11\n"
     ]
    },
    {
     "name": "stderr",
     "output_type": "stream",
     "text": [
      "/home/thism292/anaconda3/envs/CCS_fit/lib/python3.9/site-packages/ase/utils/__init__.py:62: FutureWarning: Please use atoms.cell.rank instead\n",
      "  warnings.warn(warning)\n"
     ]
    }
   ],
   "source": [
    "struct=read('POSCAR')\n",
    "lammps = LAMMPS(parameters=parameters,keep_tmp_files=False)\n",
    "ccs= CCS(CCS_params)\n",
    "\n",
    "\n",
    "struct_ase=copy.deepcopy(struct)\n",
    "\n",
    "struct.calc = lammps\n",
    "print(\"Energy from LAMMPS  pre optmization: \", struct.get_potential_energy())\n",
    "struct_ase.calc=ccs\n",
    "print(\"Energy from CCS calculator pre optmization:\", struct_ase.get_potential_energy())\n",
    "\n",
    "print (\"MSE on energy between ase calc and LAMMPS: {}\".format((struct_ase.get_potential_energy()-struct.get_potential_energy())**2))\n",
    "print (\"MSE on forces between ase calc and LAMMPS: {}\".format(mean_squared_error(struct.get_forces(),struct_ase.get_forces())))\n",
    "\n",
    "\n"
   ]
  },
  {
   "cell_type": "markdown",
   "id": "d9b50704",
   "metadata": {},
   "source": [
    "# Optimization"
   ]
  },
  {
   "cell_type": "code",
   "execution_count": 5,
   "id": "448d58e6",
   "metadata": {},
   "outputs": [
    {
     "name": "stdout",
     "output_type": "stream",
     "text": [
      "      Step     Time          Energy         fmax\n",
      "BFGS:    0 09:39:09     -519.111208        2.4049\n",
      "BFGS:    1 09:39:09     -519.861091        2.3442\n",
      "BFGS:    2 09:39:09     -522.739661        4.2708\n",
      "BFGS:    3 09:39:09     -523.828807        4.4097\n",
      "BFGS:    4 09:39:09     -525.336034        4.3607\n",
      "BFGS:    5 09:39:09     -527.125758        4.2525\n",
      "BFGS:    6 09:39:09     -527.586885        6.0038\n",
      "BFGS:    7 09:39:09     -529.373394        1.8725\n",
      "BFGS:    8 09:39:09     -530.112725        1.9523\n",
      "BFGS:    9 09:39:09     -531.230579        2.7450\n",
      "BFGS:   10 09:39:09     -531.494644        1.7438\n",
      "BFGS:   11 09:39:09     -531.546575        1.6485\n",
      "BFGS:   12 09:39:09     -531.650559        0.3163\n",
      "BFGS:   13 09:39:09     -531.654912        0.1985\n",
      "BFGS:   14 09:39:09     -531.656742        0.0670\n",
      "BFGS:   15 09:39:09     -531.656984        0.0341\n",
      "Energy from LAMMPS after optimization:  -531.6569841018262\n",
      "      Step     Time          Energy         fmax\n",
      "BFGS:    0 09:39:09     -519.111208        2.4049\n",
      "BFGS:    1 09:39:09     -519.861091        2.3442\n",
      "BFGS:    2 09:39:09     -522.739669        4.2708\n",
      "BFGS:    3 09:39:09     -523.828763        4.4102\n",
      "BFGS:    4 09:39:09     -525.335752        4.3590\n",
      "BFGS:    5 09:39:09     -527.125674        4.2532\n",
      "BFGS:    6 09:39:09     -527.586229        6.0056\n",
      "BFGS:    7 09:39:09     -529.373466        1.8718\n"
     ]
    },
    {
     "name": "stderr",
     "output_type": "stream",
     "text": [
      "/home/thism292/anaconda3/envs/CCS_fit/lib/python3.9/site-packages/ase/utils/__init__.py:62: FutureWarning: Please use atoms.cell.rank instead\n",
      "  warnings.warn(warning)\n"
     ]
    },
    {
     "name": "stdout",
     "output_type": "stream",
     "text": [
      "BFGS:    8 09:39:09     -530.112682        1.9521\n",
      "BFGS:    9 09:39:09     -531.230655        2.7446\n",
      "BFGS:   10 09:39:09     -531.494997        1.7433\n",
      "BFGS:   11 09:39:09     -531.546192        1.6499\n",
      "BFGS:   12 09:39:09     -531.650564        0.3167\n",
      "BFGS:   13 09:39:09     -531.654920        0.1990\n",
      "BFGS:   14 09:39:09     -531.656755        0.0669\n",
      "BFGS:   15 09:39:09     -531.656999        0.0341\n",
      "Energy from CCS calculator after optimization: -531.6569988000888\n",
      "MSE on energy between ase calc and LAMMPS: 2.1603892314293773e-10\n",
      "MSE on forces between ase calc and LAMMPS: 2.385570490930619e-09\n"
     ]
    }
   ],
   "source": [
    "traj = Trajectory('LAMMPS.traj', 'w', struct)\n",
    "dyn=BFGS(struct)\n",
    "dyn.attach(traj)\n",
    "dyn.run(fmax=0.05)\n",
    "print(\"Energy from LAMMPS after optimization: \", struct.get_potential_energy())\n",
    "\n",
    "\n",
    "traj = Trajectory('CCS.traj', 'w', struct_ase)\n",
    "dyn=BFGS(struct_ase)\n",
    "dyn.attach(traj)\n",
    "dyn.run(fmax=0.05)\n",
    "print(\"Energy from CCS calculator after optimization:\", struct_ase.get_potential_energy())\n",
    "\n",
    "print (\"MSE on energy between ase calc and LAMMPS: {}\".format((struct_ase.get_potential_energy()-struct.get_potential_energy())**2))\n",
    "print (\"MSE on forces between ase calc and LAMMPS: {}\".format(mean_squared_error(struct.get_forces(),struct_ase.get_forces())))\n",
    "\n"
   ]
  },
  {
   "cell_type": "markdown",
   "id": "6a5d8533",
   "metadata": {},
   "source": [
    "**Note** : \n",
    "* Onebody energy contributons in CCS_params file was set to 0 for easy comparison"
   ]
  },
  {
   "cell_type": "code",
   "execution_count": null,
   "id": "f107b1a3",
   "metadata": {},
   "outputs": [],
   "source": []
  }
 ],
 "metadata": {
  "kernelspec": {
   "display_name": "Python 3 (ipykernel)",
   "language": "python",
   "name": "python3"
  },
  "language_info": {
   "codemirror_mode": {
    "name": "ipython",
    "version": 3
   },
   "file_extension": ".py",
   "mimetype": "text/x-python",
   "name": "python",
   "nbconvert_exporter": "python",
   "pygments_lexer": "ipython3",
   "version": "3.9.15"
  },
  "vscode": {
   "interpreter": {
    "hash": "e7370f93d1d0cde622a1f8e1c04877d8463912d04d973331ad4851f04de6915a"
   }
  }
 },
 "nbformat": 4,
 "nbformat_minor": 5
}
