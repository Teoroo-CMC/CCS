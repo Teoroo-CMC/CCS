{
 "cells": [
  {
   "cell_type": "markdown",
   "metadata": {},
   "source": [
    "# CCS+Q potentials with LAMMPS "
   ]
  },
  {
   "cell_type": "markdown",
   "metadata": {},
   "source": [
    "In the previous example, we have  shown the usage of CCS potential with pair_style table command with LAMMPS. This example demostrates the usage of CCS+Q potentials with LAMMPS. Here, we make use of the pair_style hybrid/overlay (https://docs.lammps.org/pair_hybrid.html). The goal is to use the efficient electrostatic implementation in LAMMPS to save computational time. In the original implementation of CCS+Q potential, the electrostatic contributions to the energy and forces are taken into account via ewald summation as implemented in PYMATGEN package.  \n",
    "\n",
    "If consistent settings are not used there could be discrepancy between ewald energies computed via LAMMPS and PYMATGEN. Nevertheless, it is indeed possible for the user to construct a training-set with ewald energies computed by LAMMPS. However, this feature is not yet included in the current version of the code CCS code.  Additionally, one needs to be careful when using Ewald summation for surfaces ( surface corrections should be used) and non-periodic systems (direct method should be used not Ewald). \n",
    "\n",
    "In this example we  only consider bulk  ZnO systems for training CCS+Q potential. The ewald energies in the training set are computed via PYMATGEN as implemeneted in CCS code. Firstly, we check the consistency between ewald energies  obtained by LAMMPS and PYMATGEN. Therafter, we check the optimization of structure with CCS calculator as implemented in ASE and CCS tabular potential in LAMMPS.   \n",
    "\n",
    "\n",
    "**Note:** \n",
    "* The LAMMPS must be complied with KSPACE package (https://docs.lammps.org/kspace_style.html) for ewald summation.\n",
    "* Due to constraints in LAMMPS, real space cut-off in ewald summation should equal the table cut-off for short range.\n",
    "* Install scikit-learn if it's not installed yet; \n",
    "https://scikit-learn.org/stable/install.html\n",
    "* Install pymatgen if it's not installed yet;\n",
    "https://pymatgen.org/installation.html#"
   ]
  },
  {
   "cell_type": "markdown",
   "metadata": {},
   "source": [
    "# 1. Test for ewald energy from PYMATGEN and LAMMPS"
   ]
  },
  {
   "cell_type": "code",
   "execution_count": 1,
   "metadata": {},
   "outputs": [],
   "source": [
    "import json\n",
    "import copy\n",
    "import numpy as np\n",
    "import ase.db as db\n",
    "\n",
    "from ase import Atoms\n",
    "from pymatgen.core import Lattice, Structure\n",
    "from pymatgen.analysis import ewald\n",
    "from ase.calculators.lammpsrun import LAMMPS\n",
    "from sklearn.metrics import mean_squared_error\n",
    "from ase.io import read\n",
    "from ase.io.trajectory import Trajectory\n",
    "from ase.optimize import BFGS\n",
    "from tqdm import tqdm\n",
    "\n",
    "from ccs_fit.ase_calculator.ccs_ase_calculator import ew, CCS\n",
    "from ccs_fit.scripts.jsonTotable import asecalcTotable\n",
    "from ccs_fit.fitting.main import twp_fit as ccs_fit\n"
   ]
  },
  {
   "cell_type": "code",
   "execution_count": 2,
   "metadata": {},
   "outputs": [
    {
     "name": "stderr",
     "output_type": "stream",
     "text": [
      "100%|█████████████████████████████████████████████████████████████| 5/5 [00:20<00:00,  4.06s/it]"
     ]
    },
    {
     "name": "stdout",
     "output_type": "stream",
     "text": [
      " Ewald energy from PYMATGEN:[-8170.758011429012, -8184.595515688825, -8186.09997270271, -8188.444604228178, -8213.698503604448]\n",
      "\n"
     ]
    }
   ],
   "source": [
    "q={\"Zn\":2.0,\"O\":-2.0}  # intial charges \n",
    "\n",
    "data = db.connect('DFT.db')\n",
    "\n",
    "structures= list(data.select(limit=5))  # select 5 structures\n",
    "\n",
    "pymat_ene=[]\n",
    "pymat_force=[]\n",
    "\n",
    "\n",
    "for config in tqdm(structures):\n",
    "    struct = config.toatoms()\n",
    "    ewald = ew(struct,q)\n",
    "    pymat_ene.append(ewald.total_energy)\n",
    "    pymat_force.append(np.ravel(ewald.forces))\n",
    "    \n",
    "print(\" Ewald energy from PYMATGEN:{}\".format(pymat_ene))"
   ]
  },
  {
   "cell_type": "code",
   "execution_count": 3,
   "metadata": {},
   "outputs": [
    {
     "name": "stdout",
     "output_type": "stream",
     "text": [
      "\n",
      " Ewald energy from PYMATGEN:[-8170.758011429012, -8184.595515688825, -8186.09997270271, -8188.444604228178, -8213.698503604448]\n",
      " Ewald energy from LAMMPS:[-8170.760324043839, -8184.59774675683, -8186.102158114385, -8188.446804101816, -8213.70067096901]\n",
      "MSE on ewald energies between PYMATGEN and LAMMPS: 4.927757828389627e-06\n",
      "MSE on ewald forces between PYMATGEN and LAMMPS:  7.653966845525828e-11\n"
     ]
    }
   ],
   "source": [
    "# Parameters for LAMMPS \n",
    "parameters = {\n",
    "              \n",
    "              'atom_style': 'charge',                      # atomic system with charges so atom_style: charge     \n",
    "              'pair_style': 'coul/long 5.99',              # Real space cut-off for ewald (close to PYMATGEN value but not exact)\n",
    "              'pair_coeff': ['* *'],\n",
    "              'kspace_style': 'ewald 0.000001',            # Precision for ewald calculation\n",
    "              'command': '/usr/bin/lmp'                    # Remove or update based on location of your own lammps executable\n",
    "\n",
    "}\n",
    "\n",
    "\n",
    "lammps_ene=[]\n",
    "lammps_force=[]\n",
    "\n",
    "lammps = LAMMPS(parameters=parameters,keep_tmp_files=False)\n",
    "\n",
    "\n",
    "for config in structures:\n",
    "    struct = config.toatoms()\n",
    "    atomic_charges=[]\n",
    "    for a in struct.get_chemical_symbols():                          \n",
    "        atomic_charges.append(q[a])\n",
    "    struct.set_initial_charges(atomic_charges)\n",
    "    struct.calc = lammps   \n",
    "    lammps_ene.append(struct.get_potential_energy())\n",
    "    lammps_force.append(np.ravel(struct.get_forces()))\n",
    "    \n",
    "    \n",
    "print(\" Ewald energy from PYMATGEN:{}\".format(pymat_ene))\n",
    "print(\" Ewald energy from LAMMPS:{}\".format(lammps_ene))\n",
    "print(\"MSE on ewald energies between PYMATGEN and LAMMPS: {}\".format(mean_squared_error(np.array(lammps_ene),np.array(pymat_ene))))\n",
    "print(\"MSE on ewald forces between PYMATGEN and LAMMPS:  {}\".format(mean_squared_error(np.array(lammps_force),np.array(pymat_force))))"
   ]
  },
  {
   "cell_type": "markdown",
   "metadata": {},
   "source": [
    "# 2. Fit CCS+Q potential to trainset\n"
   ]
  },
  {
   "cell_type": "code",
   "execution_count": 4,
   "metadata": {},
   "outputs": [
    {
     "name": "stdout",
     "output_type": "stream",
     "text": [
      "    Generating one-body information from training-set.\n",
      "        Added elements:  ['O', 'Zn']\n",
      "    Applying monotonous constraints for pair:  O-Zn\n",
      "    Applying monotonous constraints for pair:  O-O\n",
      "    Applying monotonous constraints for pair:  Zn-Zn\n",
      "    There is linear dependence in stochiometry matrix!\n",
      "    Removing onebody term: Zn\n"
     ]
    },
    {
     "name": "stderr",
     "output_type": "stream",
     "text": [
      "    Finding optimum switch: 100%|\u001b[38;2;128;0;128m███████████████████████████████\u001b[0m| 90/90 [00:01<00:00, 47.58it/s]\u001b[0m\n"
     ]
    },
    {
     "name": "stdout",
     "output_type": "stream",
     "text": [
      "    The best switch is (33, 36, 37) wtih mse: 4.7749e-11 \n",
      "    Final root mean square error in fit:  1.9194553239849493e-08  (eV/atoms) [NOTE: Only elements specified in Onebody are considered!]\n"
     ]
    }
   ],
   "source": [
    "input ={\n",
    "        \"General\": {\n",
    "                \"interface\": \"CCS+Q\"\n",
    "        },\n",
    "        \"Twobody\": {\n",
    "                \"O-Zn\": {\n",
    "                        \"Rcut\": 6.0,\n",
    "                        \"Resolution\": 0.05,\n",
    "\t\t\t\t\t\t\"Swtype\":\"sw\"\n",
    "                },\n",
    "\t\t\t\t\"O-O\": {\n",
    "                        \"Rcut\": 6.0,\n",
    "                        \"Resolution\": 0.1,\n",
    "\t\t\t\t\t\t\"Swtype\":\"rep\"\n",
    "                },\n",
    "\t\t\t\t\"Zn-Zn\": {\n",
    "                        \"Rcut\": 6.0,\n",
    "                        \"Resolution\": 0.1,\n",
    "\t\t\t\t\t\t\"Swtype\":\"rep\"\n",
    "                }\n",
    "        }\n",
    "}\n",
    "\n",
    "#SAVE TO FILE\n",
    "with open('CCS_input.json', 'w') as f:\n",
    "    json.dump(input, f, indent=8)\n",
    "\n",
    "#RUN FIT\n",
    "ccs_fit(\"CCS_input.json\")"
   ]
  },
  {
   "cell_type": "code",
   "execution_count": 5,
   "metadata": {},
   "outputs": [
    {
     "data": {
      "text/plain": [
       "{'O-Zn': {'Rmin': 1.5489944133954232,\n",
       "  'Rcut': 6.048994413395423,\n",
       "  'dr': 0.005,\n",
       "  'N': 901},\n",
       " 'O-O': {'Rmin': 2.50061211721814,\n",
       "  'Rcut': 6.0006121172181395,\n",
       "  'dr': 0.01,\n",
       "  'N': 351},\n",
       " 'Zn-Zn': {'Rmin': 2.4982061142105443,\n",
       "  'Rcut': 6.098206114210544,\n",
       "  'dr': 0.01,\n",
       "  'N': 361}}"
      ]
     },
     "execution_count": 5,
     "metadata": {},
     "output_type": "execute_result"
    }
   ],
   "source": [
    "# Generate spline table for LAMMPS from json file\n",
    "tags=asecalcTotable(\"CCS_params.json\",scale=10)  # Controls the resolution of the gridsize; gridsize=dr/scale.\n",
    "tags"
   ]
  },
  {
   "cell_type": "markdown",
   "metadata": {},
   "source": [
    "# 3.Define the calculators"
   ]
  },
  {
   "cell_type": "code",
   "execution_count": 10,
   "metadata": {},
   "outputs": [
    {
     "name": "stdout",
     "output_type": "stream",
     "text": [
      "\n"
     ]
    }
   ],
   "source": [
    "# Optimize structure using CCS+Q ase caclulator\n",
    "\n",
    "charges={\"Zn\":2.0,\"O\":-2.0}     # intial charges\n",
    "\n",
    "with open ('CCS_params.json','r') as f:\n",
    "    CCS_params=json.load(f)\n",
    "\n",
    "CCS_params['One_body']['O']=0.0                           # Explicitly set the reference energies to 0.0\n",
    "CCS_params['One_body']['Zn']=0.0 \n",
    "\n",
    "#  CCS calculator\n",
    "ccs= CCS(CCS_params,charge=True,q=charges,charge_scaling=True)\n",
    "\n",
    "#  lAMMPS calculator\n",
    "scaled_q={\"Zn\":2.0*CCS_params[\"Charge scaling factor\"],\"O\":-2.0*CCS_params[\"Charge scaling factor\"]}\n",
    "\n",
    "parameters = {\n",
    "              'atom_style': 'charge',\n",
    "              'pair_style': 'hybrid/overlay table spline 1000  ewald coul/long 5.99',   \n",
    "              'pair_coeff': ['* * coul/long',\n",
    "                             '1 1  table CCS.table O-O 5.99',\n",
    "                             '1 2  table CCS.table O-Zn 5.99',\n",
    "                             '2 2  table CCS.table Zn-Zn 5.99'],\n",
    "              'kspace_style': 'ewald 0.000001',\n",
    "              'command': '/usr/bin/lmp'\n",
    "                \n",
    "}\n",
    "lammps = LAMMPS(parameters=parameters,keep_tmp_files=False)\n",
    "\n",
    "\n",
    "\n"
   ]
  },
  {
   "cell_type": "markdown",
   "metadata": {},
   "source": [
    "# 4. Single point calculation"
   ]
  },
  {
   "cell_type": "code",
   "execution_count": 11,
   "metadata": {},
   "outputs": [
    {
     "name": "stdout",
     "output_type": "stream",
     "text": [
      "Energy from LAMMPS  pre optmization:  -202.2431902666347\n",
      "Energy from CCS calculator pre optmization: -202.2430779132522\n",
      "MSE on energy between ase calc and LAMMPS: 1.2623282563541405e-08\n",
      "MSE on forces between ase calc and LAMMPS: 2.834896189130992e-11\n",
      "\n"
     ]
    }
   ],
   "source": [
    "struct=read('POSCAR')\n",
    "struct_ccs=copy.deepcopy(struct)\n",
    "\n",
    "struct_ccs.calc=ccs\n",
    "struct.calc=lammps\n",
    "\n",
    "# Set charges \n",
    "atomic_charges=[]\n",
    "for a in struct.get_chemical_symbols():                          \n",
    "    atomic_charges.append(scaled_q[a])\n",
    "    \n",
    "struct.set_initial_charges(atomic_charges)\n",
    "\n",
    "print(\"Energy from LAMMPS  pre optmization: \", struct.get_potential_energy())\n",
    "print(\"Energy from CCS calculator pre optmization:\", struct_ccs.get_potential_energy())\n",
    "\n",
    "print (\"MSE on energy between ase calc and LAMMPS: {}\".format((struct_ccs.get_potential_energy()-struct.get_potential_energy())**2))\n",
    "print (\"MSE on forces between ase calc and LAMMPS: {}\".format(mean_squared_error(struct.get_forces(),struct_ccs.get_forces())))\n"
   ]
  },
  {
   "cell_type": "markdown",
   "metadata": {},
   "source": [
    "# 5. Optimization\n"
   ]
  },
  {
   "cell_type": "code",
   "execution_count": 12,
   "metadata": {},
   "outputs": [
    {
     "name": "stdout",
     "output_type": "stream",
     "text": [
      "      Step     Time          Energy         fmax\n",
      "BFGS:    0 10:48:06     -202.243078        0.5762\n",
      "BFGS:    1 10:48:06     -202.269565        0.4659\n",
      "BFGS:    2 10:48:06     -202.319054        0.1869\n",
      "\n",
      "BFGS:    3 10:48:07     -202.323075        0.1864\n",
      "BFGS:    4 10:48:07     -202.337968        0.1295\n",
      "BFGS:    5 10:48:07     -202.340687        0.1131\n",
      "BFGS:    6 10:48:07     -202.346292        0.0896\n",
      "BFGS:    7 10:48:07     -202.348333        0.0662\n",
      "BFGS:    8 10:48:07     -202.349195        0.0414\n",
      "Energy from CCS calculator after optimization:  -202.34919482303442\n",
      "      Step     Time          Energy         fmax\n",
      "BFGS:    0 10:48:07     -202.243190        0.5761\n",
      "BFGS:    1 10:48:07     -202.269679        0.4659\n",
      "BFGS:    2 10:48:07     -202.319166        0.1869\n",
      "BFGS:    3 10:48:07     -202.323189        0.1864\n",
      "BFGS:    4 10:48:07     -202.338086        0.1295\n",
      "BFGS:    5 10:48:07     -202.340803        0.1131\n",
      "BFGS:    6 10:48:07     -202.346414        0.0895\n",
      "BFGS:    7 10:48:07     -202.348451        0.0662\n",
      "BFGS:    8 10:48:07     -202.349306        0.0414\n",
      "Energy from LAMMPS calculator after optimization: -202.3493059491902\n",
      "MSE on energy between CCS and LAMMPS calculator: 1.2349022499925091e-08\n",
      "MSE on forces between CCS  and LAMMPS calculator: 8.962566779535239e-10\n"
     ]
    }
   ],
   "source": [
    "traj = Trajectory('LAMMPS.traj', 'w', struct_ccs)\n",
    "dyn=BFGS(struct_ccs)\n",
    "dyn.attach(traj)\n",
    "dyn.run(fmax=0.05)\n",
    "print(\"Energy from CCS calculator after optimization: \", struct_ccs.get_potential_energy())\n",
    "\n",
    "traj = Trajectory('CCS.traj', 'w', struct)\n",
    "dyn=BFGS(struct)\n",
    "dyn.attach(traj)\n",
    "dyn.run(fmax=0.05)\n",
    "print(\"Energy from LAMMPS calculator after optimization:\", struct.get_potential_energy())\n",
    "\n",
    "print (\"MSE on energy between CCS and LAMMPS calculator: {}\".format((struct_ccs.get_potential_energy()-struct.get_potential_energy())**2))\n",
    "print (\"MSE on forces between CCS and LAMMPS calculator: {}\".format(mean_squared_error(struct.get_forces(),struct_ccs.get_forces())))\n"
   ]
  },
  {
   "cell_type": "markdown",
   "metadata": {},
   "source": [
    "**Things to consider**:\n",
    "* It is not possible to get exact same ewald energies in LAMMPS and PYMATGEN due to the differences in cut-offs and other hyper parameters used. \n",
    "* If LAMMPS needs to be used, its **advisable** that the training-set contains ewald energy contributions calculated from LAMMPS and not PYMATGEN. But, in certain cases the error might be negligible.\n",
    "* **In LAMMPS, the real space cut-off for ewald and cut-off for short ranged spline potential should match.** "
   ]
  },
  {
   "cell_type": "code",
   "execution_count": null,
   "metadata": {},
   "outputs": [],
   "source": []
  }
 ],
 "metadata": {
  "kernelspec": {
   "display_name": "CCS_fit_python_310",
   "language": "python",
   "name": "ccs_fit_python_310"
  },
  "language_info": {
   "codemirror_mode": {
    "name": "ipython",
    "version": 3
   },
   "file_extension": ".py",
   "mimetype": "text/x-python",
   "name": "python",
   "nbconvert_exporter": "python",
   "pygments_lexer": "ipython3",
   "version": "3.10.8"
  },
  "vscode": {
   "interpreter": {
    "hash": "916dbcbb3f70747c44a77c7bcd40155683ae19c65e1c03b4aa3499c5328201f1"
   }
  }
 },
 "nbformat": 4,
 "nbformat_minor": 4
}
