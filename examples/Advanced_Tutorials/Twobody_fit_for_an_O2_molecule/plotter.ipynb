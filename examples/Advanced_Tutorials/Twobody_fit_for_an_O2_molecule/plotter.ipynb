{
 "cells": [
  {
   "cell_type": "code",
   "execution_count": 1,
   "metadata": {},
   "outputs": [
    {
     "name": "stderr",
     "output_type": "stream",
     "text": [
      "C:\\Users\\jolku587\\PGMS\\CCS\\src\\ccs_fit\\fitting\\objective.py:157: FutureWarning: `rcond` parameter will change to the default of machine precision times ``max(M, N)`` where M and N are the input matrix dimensions.\n",
      "To use the future default and silence this warning we advise to pass `rcond=None`, to keep using the old, explicitly pass `rcond=-1`.\n",
      "  xx=np.linalg.lstsq(self.mm,self.ref)\n"
     ]
    },
    {
     "name": "stdout",
     "output_type": "stream",
     "text": [
      "    Applying monotonous constraints for pair:  O-O\n",
      "    Merging intervall for pair O-O. Number of knots reduced from 73 to 52. \n",
      "    Condition number is: 1.0386168295781078e+17 ( 52 204.46881510229963 5.999964597925784e-17)\n",
      "DEBUG. THE SIZES OF MATRIX:  (51, 53) (51,)\n",
      "DEBUG UNC MSE:  1.0654004226803205e-24\n",
      "    Final root mean square error in fit:  5.16091179608875e-13  (eV/atoms) [NOTE: Only elements specified in Onebody are considered!]\n"
     ]
    },
    {
     "name": "stderr",
     "output_type": "stream",
     "text": [
      "    Finding optimum switch: 100%|\u001b[38;2;128;0;128m██████████\u001b[0m| 52/52 [00:00<00:00, 304.93it/s]"
     ]
    },
    {
     "name": "stdout",
     "output_type": "stream",
     "text": [
      "    The best switch is (43,) wtih mse: 0.00077673 \n",
      "    Final root mean square error in fit:  0.013934927918946469  (eV/atoms) [NOTE: Only elements specified in Onebody are considered!]\n"
     ]
    },
    {
     "name": "stderr",
     "output_type": "stream",
     "text": [
      "\n"
     ]
    }
   ],
   "source": [
    "#RUN FIT\n",
    "from ccs_fit import ccs_fit\n",
    "\n",
    "ccs_fit(\"CCS_input.json\")"
   ]
  },
  {
   "cell_type": "code",
   "execution_count": 3,
   "metadata": {},
   "outputs": [],
   "source": [
    "import json\n",
    "import matplotlib.pyplot as plt\n",
    "import numpy as np\n",
    "err=np.loadtxt(\"CCS_error.out\")\n",
    "\n",
    "with open('CCS_params.json', \"r\") as f:\n",
    "    CCS_params = json.load(f)\n",
    "with open('UNC_params.json', \"r\") as f:\n",
    "    UNC_params = json.load(f)\n",
    "with open('structures.json', \"r\") as f:\n",
    "    structs = json.load(f)\n"
   ]
  },
  {
   "cell_type": "code",
   "execution_count": 2,
   "metadata": {},
   "outputs": [
    {
     "ename": "NameError",
     "evalue": "name 'CCS_params' is not defined",
     "output_type": "error",
     "traceback": [
      "\u001b[1;31m---------------------------------------------------------------------------\u001b[0m",
      "\u001b[1;31mNameError\u001b[0m                                 Traceback (most recent call last)",
      "Cell \u001b[1;32mIn[2], line 1\u001b[0m\n\u001b[1;32m----> 1\u001b[0m r\u001b[39m=\u001b[39mCCS_params[\u001b[39m'\u001b[39m\u001b[39mTwo_body\u001b[39m\u001b[39m'\u001b[39m][\u001b[39m'\u001b[39m\u001b[39mO-O\u001b[39m\u001b[39m'\u001b[39m][\u001b[39m'\u001b[39m\u001b[39mr\u001b[39m\u001b[39m'\u001b[39m]\n\u001b[0;32m      2\u001b[0m a\u001b[39m=\u001b[39mCCS_params[\u001b[39m'\u001b[39m\u001b[39mTwo_body\u001b[39m\u001b[39m'\u001b[39m][\u001b[39m'\u001b[39m\u001b[39mO-O\u001b[39m\u001b[39m'\u001b[39m][\u001b[39m'\u001b[39m\u001b[39mspl_a\u001b[39m\u001b[39m'\u001b[39m]\n\u001b[0;32m      3\u001b[0m e0\u001b[39m=\u001b[39mCCS_params[\u001b[39m'\u001b[39m\u001b[39mOne_body\u001b[39m\u001b[39m'\u001b[39m][\u001b[39m'\u001b[39m\u001b[39mO\u001b[39m\u001b[39m'\u001b[39m]\n",
      "\u001b[1;31mNameError\u001b[0m: name 'CCS_params' is not defined"
     ]
    }
   ],
   "source": [
    "r=CCS_params['Two_body']['O-O']['r']\n",
    "a=CCS_params['Two_body']['O-O']['spl_a']\n",
    "e0=CCS_params['One_body']['O']\n",
    "e0=np.array(e0)\n",
    "\n",
    "e_ref=[]\n",
    "r_ref=[]\n",
    "for s in structs['energies']:\n",
    "    e_ref.append( structs['energies'][s]['energy_dft'])\n",
    "    r_ref.append( *structs['energies'][s]['O-O'])\n",
    "e_ref=np.array(e_ref)\n",
    "\n",
    "plt.scatter(r_ref,e_ref)\n",
    "plt.plot(r,a+e0*2)\n"
   ]
  },
  {
   "cell_type": "code",
   "execution_count": null,
   "metadata": {},
   "outputs": [],
   "source": [
    "r=UNC_params['Two_body']['O-O']['r']\n",
    "a=UNC_params['Two_body']['O-O']['spl_a']\n",
    "e0=UNC_params['One_body']['O']\n",
    "e0=np.array(e0)\n",
    "\n",
    "e_ref=[]\n",
    "r_ref=[]\n",
    "for s in structs['energies']:\n",
    "    e_ref.append( structs['energies'][s]['energy_dft'])\n",
    "    r_ref.append( *structs['energies'][s]['O-O'])\n",
    "e_ref=np.array(e_ref)\n",
    "\n",
    "plt.scatter(r_ref,e_ref)\n",
    "plt.plot(r,a+e0*2)\n"
   ]
  }
 ],
 "metadata": {
  "kernelspec": {
   "display_name": "CCS_coding",
   "language": "python",
   "name": "python3"
  },
  "language_info": {
   "codemirror_mode": {
    "name": "ipython",
    "version": 3
   },
   "file_extension": ".py",
   "mimetype": "text/x-python",
   "name": "python",
   "nbconvert_exporter": "python",
   "pygments_lexer": "ipython3",
   "version": "3.10.9"
  },
  "vscode": {
   "interpreter": {
    "hash": "f9cf24ff20edf0aae28141210fc773ab63efd2a56eb4d7d08651373a5d8a7dcd"
   }
  }
 },
 "nbformat": 4,
 "nbformat_minor": 4
}
