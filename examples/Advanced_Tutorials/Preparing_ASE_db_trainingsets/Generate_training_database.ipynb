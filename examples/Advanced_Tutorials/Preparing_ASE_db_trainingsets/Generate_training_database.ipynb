{
 "cells": [
  {
   "cell_type": "markdown",
   "metadata": {},
   "source": [
    "# JUPYTER NOTEBOOK EXAMPLE: REPULSIVE FITTING FOR DFTB USING TWO ASE-DATABASES\n",
    "## 1. Import modules\n",
    "Import the modules needed to generate the training data."
   ]
  },
  {
   "cell_type": "code",
   "execution_count": null,
   "metadata": {},
   "outputs": [],
   "source": [
    "from ccs_fit.scripts.ccs_build_db import ccs_build_db as ccs_build_db"
   ]
  },
  {
   "cell_type": "markdown",
   "metadata": {},
   "source": [
    "## 2. Build ASE database(s)\n",
    "A training-set can be conveniently collected in an ASE database. In the case of DFTB repulsive fitting we can make two separate databases, one with the DFT-data and one with corresponding DFTB-data. The database(s) will contain forces and energies. A list ('file_list') specifying the folders where the DFT (and DFTB) outputs are stored should be provided. In the case of DFTB repulsive fitting each line of 'file_list' should contain two columns, the first giving the location of the DFT data and the second the corresponding DFTB data. At the moment, DFT output is assumed to be in the form of a VASP 'OUTCAR'-file, and the DFTB data in the form of a 'detailed.out' file."
   ]
  },
  {
   "cell_type": "code",
   "execution_count": null,
   "metadata": {},
   "outputs": [],
   "source": [
    "ccs_build_db(mode='DFTB', DFT_DB='DFT.db', DFTB_DB='DFTB.db',file_list='trainset.list',overwrite=True)"
   ]
  },
  {
   "cell_type": "markdown",
   "metadata": {
    "tags": []
   },
   "source": [
    "## 3. Inspecting the databases\n",
    "The database(s) can be inspected using the 'ase db' and ase gui' commands of ASE."
   ]
  },
  {
   "cell_type": "code",
   "execution_count": null,
   "metadata": {},
   "outputs": [],
   "source": [
    "!ase db DFT.db\n",
    "!ase gui DFTB.db"
   ]
  },
  {
   "cell_type": "markdown",
   "metadata": {},
   "source": [
    "# Reset the notebook"
   ]
  },
  {
   "cell_type": "code",
   "execution_count": null,
   "metadata": {},
   "outputs": [],
   "source": [
    "!rm *.db"
   ]
  }
 ],
 "metadata": {
  "interpreter": {
   "hash": "31f2aee4e71d21fbe5cf8b01ff0e069b9275f58929596ceb00d14d90e3e16cd6"
  },
  "kernelspec": {
   "display_name": "CCS_fit",
   "language": "python",
   "name": "python3"
  },
  "language_info": {
   "codemirror_mode": {
    "name": "ipython",
    "version": 3
   },
   "file_extension": ".py",
   "mimetype": "text/x-python",
   "name": "python",
   "nbconvert_exporter": "python",
   "pygments_lexer": "ipython3",
   "version": "3.8.10"
  }
 },
 "nbformat": 4,
 "nbformat_minor": 4
}
