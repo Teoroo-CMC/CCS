{
 "cells": [
  {
   "cell_type": "markdown",
   "metadata": {},
   "source": [
    "# JUPYTER NOTEBOOK EXAMPLE: REPULSIVE FITTING FOR DFTB USING TWO ASE-DATABASES\n",
    "## 1. Import modules\n",
    "Import the modules needed to generate the training data."
   ]
  },
  {
   "cell_type": "code",
   "execution_count": 3,
   "metadata": {},
   "outputs": [],
   "source": [
    "from ccs_fit.scripts.ccs_build_db import ccs_build_db as ccs_build_db"
   ]
  },
  {
   "cell_type": "markdown",
   "metadata": {},
   "source": [
    "## 2. Build ASE database(s)\n",
    "A training-set can be conveniently collected in an ASE database. In the case of DFTB repulsive fitting we can make two separate databases, one with the DFT-data and one with corresponding DFTB-data. The database(s) will contain forces and energies. A list ('file_list') specifying the folders where the DFT (and DFTB) outputs are stored should be provided. In the case of DFTB repulsive fitting each line of 'file_list' should contain two columns, the first giving the location of the DFT data and the second the corresponding DFTB data. At the moment, DFT output is assumed to be in the form of a VASP 'OUTCAR'-file, and the DFTB data in the form of a 'detailed.out' file."
   ]
  },
  {
   "cell_type": "code",
   "execution_count": 4,
   "metadata": {},
   "outputs": [
    {
     "name": "stderr",
     "output_type": "stream",
     "text": [
      "100%|█████████████████████████████████████████████████████████████████████████████████████| 3/3 [00:00<00:00, 18.89it/s]\n"
     ]
    }
   ],
   "source": [
    "ccs_build_db(mode='DFTB', DFT_DB='DFT.db', DFTB_DB='DFTB.db',file_list='trainset.list')"
   ]
  },
  {
   "cell_type": "markdown",
   "metadata": {
    "tags": []
   },
   "source": [
    "## 3. Inspecting the databases\n",
    "The database(s) can be inspected using the 'ase db' and ase gui' commands of ASE."
   ]
  },
  {
   "cell_type": "code",
   "execution_count": 6,
   "metadata": {},
   "outputs": [
    {
     "name": "stdout",
     "output_type": "stream",
     "text": [
      "id| age|formula|calculator|  energy|natoms| fmax|pbc|  volume|charge|   mass| smax\n",
      " 1|141s|Si32   |unknown   |-142.214|    32|0.393|TTT|2199.839| 0.000|898.720|0.066\n",
      " 2|141s|Si32   |unknown   |-146.004|    32|0.085|TTT|2873.267| 0.000|898.720|0.021\n",
      " 3|141s|Si32   |unknown   |-140.007|    32|0.013|TTT|3117.690| 0.000|898.720|0.030\n",
      "Rows: 3\n",
      "Keys: PBE, key\n"
     ]
    },
    {
     "name": "stderr",
     "output_type": "stream",
     "text": [
      "Traceback (most recent call last):\n",
      "  File \"C:\\Users\\thism292\\Anaconda3\\envs\\CCS_fit\\lib\\runpy.py\", line 197, in _run_module_as_main\n",
      "    return _run_code(code, main_globals, None,\n",
      "  File \"C:\\Users\\thism292\\Anaconda3\\envs\\CCS_fit\\lib\\runpy.py\", line 87, in _run_code\n",
      "    exec(code, run_globals)\n",
      "  File \"C:\\Users\\thism292\\Anaconda3\\envs\\CCS_fit\\lib\\site-packages\\ase\\gui\\pipe.py\", line 32, in <module>\n",
      "    main()\n",
      "  File \"C:\\Users\\thism292\\Anaconda3\\envs\\CCS_fit\\lib\\site-packages\\ase\\gui\\pipe.py\", line 28, in main\n",
      "    plt.show()\n",
      "  File \"C:\\Users\\thism292\\Anaconda3\\envs\\CCS_fit\\lib\\site-packages\\matplotlib\\pyplot.py\", line 421, in show\n",
      "    return _get_backend_mod().show(*args, **kwargs)\n",
      "  File \"C:\\Users\\thism292\\Anaconda3\\envs\\CCS_fit\\lib\\site-packages\\matplotlib_inline\\backend_inline.py\", line 90, in show\n",
      "    display(\n",
      "  File \"C:\\Users\\thism292\\Anaconda3\\envs\\CCS_fit\\lib\\site-packages\\IPython\\core\\display_functions.py\", line 265, in display\n",
      "    print(*objs)\n",
      "ValueError: I/O operation on closed file.\n"
     ]
    }
   ],
   "source": [
    "!ase db DFT.db\n",
    "!ase gui DFTB.db"
   ]
  },
  {
   "cell_type": "markdown",
   "metadata": {},
   "source": [
    "# Reset the notebook"
   ]
  },
  {
   "cell_type": "code",
   "execution_count": 8,
   "metadata": {},
   "outputs": [
    {
     "name": "stderr",
     "output_type": "stream",
     "text": [
      "'rm' is not recognized as an internal or external command,\n",
      "operable program or batch file.\n"
     ]
    }
   ],
   "source": [
    "!rm *.db"
   ]
  }
 ],
 "metadata": {
  "interpreter": {
   "hash": "31f2aee4e71d21fbe5cf8b01ff0e069b9275f58929596ceb00d14d90e3e16cd6"
  },
  "kernelspec": {
   "display_name": "CCS_fit",
   "language": "python",
   "name": "ccs_fit"
  },
  "language_info": {
   "codemirror_mode": {
    "name": "ipython",
    "version": 3
   },
   "file_extension": ".py",
   "mimetype": "text/x-python",
   "name": "python",
   "nbconvert_exporter": "python",
   "pygments_lexer": "ipython3",
   "version": "3.9.15"
  }
 },
 "nbformat": 4,
 "nbformat_minor": 4
}
