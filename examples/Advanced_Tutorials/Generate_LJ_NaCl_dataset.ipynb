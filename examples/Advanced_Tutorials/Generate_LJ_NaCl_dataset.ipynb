{
 "cells": [
  {
   "cell_type": "code",
   "execution_count": 9,
   "id": "d88f1c57-aa71-4a19-9b6b-e9ada91bb1e6",
   "metadata": {},
   "outputs": [],
   "source": [
    "from ase.io import read"
   ]
  },
  {
   "cell_type": "code",
   "execution_count": 10,
   "id": "88c079dc-c6c1-4146-bc55-6a537bea3452",
   "metadata": {},
   "outputs": [],
   "source": [
    "NaCl = read(\"C:/Users/thism292/Downloads/NaCl.cif\")"
   ]
  },
  {
   "cell_type": "code",
   "execution_count": 15,
   "id": "50c22f69-dbf5-4a30-b2e9-8dc69a4603dd",
   "metadata": {},
   "outputs": [],
   "source": [
    "from ase.calculators.lj import LennardJones as lj"
   ]
  },
  {
   "cell_type": "code",
   "execution_count": 12,
   "id": "551c7522-8783-47e7-a9e2-5d4388bd80f0",
   "metadata": {},
   "outputs": [
    {
     "name": "stdout",
     "output_type": "stream",
     "text": [
      "['__add__', '__class__', '__delattr__', '__delitem__', '__dict__', '__dir__', '__doc__', '__eq__', '__format__', '__ge__', '__getattribute__', '__getitem__', '__gt__', '__hash__', '__iadd__', '__imul__', '__init__', '__init_subclass__', '__iter__', '__le__', '__len__', '__lt__', '__module__', '__mul__', '__ne__', '__new__', '__reduce__', '__reduce_ex__', '__repr__', '__setattr__', '__sizeof__', '__str__', '__subclasshook__', '__weakref__', '_ase_handles_dynamic_stress', '_calc', '_celldisp', '_cellobj', '_centering_as_array', '_constraints', '_del_constraints', '_get_atomic_numbers', '_get_constraints', '_get_positions', '_masked_rotate', '_pbc', '_set_positions', 'append', 'arrays', 'ase_objtype', 'calc', 'cell', 'center', 'constraints', 'copy', 'edit', 'euler_rotate', 'extend', 'fromdict', 'get_all_distances', 'get_angle', 'get_angles', 'get_angular_momentum', 'get_array', 'get_atomic_numbers', 'get_calculator', 'get_cell', 'get_cell_lengths_and_angles', 'get_celldisp', 'get_center_of_mass', 'get_charges', 'get_chemical_formula', 'get_chemical_symbols', 'get_dihedral', 'get_dihedrals', 'get_dipole_moment', 'get_distance', 'get_distances', 'get_forces', 'get_global_number_of_atoms', 'get_initial_charges', 'get_initial_magnetic_moments', 'get_kinetic_energy', 'get_magnetic_moment', 'get_magnetic_moments', 'get_masses', 'get_momenta', 'get_moments_of_inertia', 'get_number_of_atoms', 'get_pbc', 'get_positions', 'get_potential_energies', 'get_potential_energy', 'get_properties', 'get_reciprocal_cell', 'get_scaled_positions', 'get_stress', 'get_stresses', 'get_tags', 'get_temperature', 'get_total_energy', 'get_velocities', 'get_volume', 'has', 'info', 'iterimages', 'new_array', 'number_of_lattice_vectors', 'numbers', 'pbc', 'pop', 'positions', 'rattle', 'repeat', 'rotate', 'rotate_dihedral', 'set_angle', 'set_array', 'set_atomic_numbers', 'set_calculator', 'set_cell', 'set_celldisp', 'set_center_of_mass', 'set_chemical_symbols', 'set_constraint', 'set_dihedral', 'set_distance', 'set_initial_charges', 'set_initial_magnetic_moments', 'set_masses', 'set_momenta', 'set_pbc', 'set_positions', 'set_scaled_positions', 'set_tags', 'set_velocities', 'symbols', 'todict', 'translate', 'wrap', 'write']\n"
     ]
    }
   ],
   "source": [
    "print(dir(NaCl))"
   ]
  },
  {
   "cell_type": "code",
   "execution_count": 16,
   "id": "f30eeb3d-ef32-4d3f-a301-4665301a0a75",
   "metadata": {},
   "outputs": [],
   "source": [
    "calc = lj()"
   ]
  },
  {
   "cell_type": "code",
   "execution_count": 17,
   "id": "f23e39bc-2b7a-48db-838f-9553a54bfd8a",
   "metadata": {},
   "outputs": [],
   "source": [
    "NaCl.calc = calc"
   ]
  },
  {
   "cell_type": "code",
   "execution_count": 29,
   "id": "16cf8943-479f-4215-b40e-863f22c69e1e",
   "metadata": {},
   "outputs": [
    {
     "name": "stdout",
     "output_type": "stream",
     "text": [
      "Atoms(symbols='Na4Cl4', pbc=True, cell=[5.58812644, 5.58812644, 5.58812644], spacegroup_kinds=...)\n"
     ]
    }
   ],
   "source": [
    "orig_cell = NaCl.get_cell()\n",
    "orig_struc = NaCl.copy()\n",
    "\n",
    "print(orig_struc)"
   ]
  },
  {
   "cell_type": "code",
   "execution_count": 45,
   "id": "08462efc-3e68-413a-8f15-08d51af53223",
   "metadata": {},
   "outputs": [],
   "source": [
    "import numpy as np\n",
    "import ase.db as db\n",
    "\n",
    "LJ_DB = db.connect(\"Input_files/LJ.db\")\n",
    "\n",
    "counter = 1\n",
    "\n",
    "for scale in np.linspace(0.8, 1.2, 9):\n",
    "    new_cell = orig_cell*scale\n",
    "    new_struc = orig_struc.copy()\n",
    "    new_struc.set_cell(new_cell)\n",
    "    new_struc.calc = calc\n",
    "    nrg = new_struc.get_potential_energy()\n",
    "    # LJ_DB.write(new_struc, PBE=True, key=counter)\n",
    "    # counter += 1\n",
    "    for i in range(5):\n",
    "        rattle_struc = new_struc.copy()\n",
    "        rattle_struc.rattle(0.25*i)\n",
    "        rattle_struc.calc = calc\n",
    "        nrg = rattle_struc.get_potential_energy()\n",
    "        LJ_DB.write(rattle_struc, PBE=True, key=counter)\n",
    "        counter += 1"
   ]
  },
  {
   "cell_type": "code",
   "execution_count": 46,
   "id": "641b2db0-8ed2-475f-ad5d-b50e36411117",
   "metadata": {},
   "outputs": [
    {
     "name": "stdout",
     "output_type": "stream",
     "text": [
      "id|age|formula|calculator  |energy|natoms| fmax|pbc| volume|charge|   mass| smax\n",
      " 1| 2s|Na4Cl4 |lennardjones|-2.242|     8|1.137|TTT| 89.345| 0.000|233.759|0.053\n",
      " 2| 2s|Na4Cl4 |lennardjones|-2.673|     8|2.132|TTT| 89.345| 0.000|233.759|0.063\n",
      " 3| 2s|Na4Cl4 |lennardjones|-2.956|     8|1.343|TTT| 89.345| 0.000|233.759|0.040\n",
      " 4| 2s|Na4Cl4 |lennardjones|-2.662|     8|1.313|TTT| 89.345| 0.000|233.759|0.051\n",
      " 5| 2s|Na4Cl4 |lennardjones|-3.549|     8|2.397|TTT| 89.345| 0.000|233.759|0.107\n",
      " 6| 2s|Na4Cl4 |lennardjones|-0.853|     8|0.382|TTT|107.166| 0.000|233.759|0.019\n",
      " 7| 2s|Na4Cl4 |lennardjones|-1.103|     8|1.427|TTT|107.166| 0.000|233.759|0.030\n",
      " 8| 2s|Na4Cl4 |lennardjones|-1.747|     8|2.224|TTT|107.166| 0.000|233.759|0.037\n",
      " 9| 2s|Na4Cl4 |lennardjones|-1.835|     8|2.335|TTT|107.166| 0.000|233.759|0.043\n",
      "10| 2s|Na4Cl4 |lennardjones|-2.888|     8|2.154|TTT|107.166| 0.000|233.759|0.063\n",
      "11| 1s|Na4Cl4 |lennardjones|-0.351|     8|0.116|TTT|127.211| 0.000|233.759|0.008\n",
      "12| 1s|Na4Cl4 |lennardjones|-0.476|     8|0.499|TTT|127.211| 0.000|233.759|0.012\n",
      "13| 1s|Na4Cl4 |lennardjones|-0.928|     8|1.336|TTT|127.211| 0.000|233.759|0.017\n",
      "14| 1s|Na4Cl4 |lennardjones|-1.210|     8|1.231|TTT|127.211| 0.000|233.759|0.026\n",
      "15| 1s|Na4Cl4 |lennardjones|-2.168|     8|3.188|TTT|127.211| 0.000|233.759|0.015\n",
      "16| 1s|Na4Cl4 |lennardjones|-0.158|     8|0.034|TTT|149.613| 0.000|233.759|0.004\n",
      "17| 1s|Na4Cl4 |lennardjones|-0.238|     8|0.184|TTT|149.613| 0.000|233.759|0.005\n",
      "18| 1s|Na4Cl4 |lennardjones|-0.533|     8|0.607|TTT|149.613| 0.000|233.759|0.009\n",
      "19| 1s|Na4Cl4 |lennardjones|-0.838|     8|0.596|TTT|149.613| 0.000|233.759|0.015\n",
      "20| 1s|Na4Cl4 |lennardjones|-1.593|     8|7.369|TTT|149.613| 0.000|233.759|0.023\n",
      "Rows: 45 (showing first 20)\n",
      "Keys: PBE, key\n"
     ]
    }
   ],
   "source": [
    "!ase db Input_files/LJ.db"
   ]
  },
  {
   "cell_type": "code",
   "execution_count": null,
   "id": "387f54e1-dac6-4fc1-a0a9-b9ba8c045ec0",
   "metadata": {},
   "outputs": [],
   "source": []
  }
 ],
 "metadata": {
  "kernelspec": {
   "display_name": "CCS_fit",
   "language": "python",
   "name": "ccs_fit"
  },
  "language_info": {
   "codemirror_mode": {
    "name": "ipython",
    "version": 3
   },
   "file_extension": ".py",
   "mimetype": "text/x-python",
   "name": "python",
   "nbconvert_exporter": "python",
   "pygments_lexer": "ipython3",
   "version": "3.9.15"
  }
 },
 "nbformat": 4,
 "nbformat_minor": 5
}
