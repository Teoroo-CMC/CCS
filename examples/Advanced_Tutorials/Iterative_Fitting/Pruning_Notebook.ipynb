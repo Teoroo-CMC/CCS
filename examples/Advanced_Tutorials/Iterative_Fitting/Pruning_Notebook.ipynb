{
 "cells": [
  {
   "cell_type": "markdown",
   "id": "74f144dd",
   "metadata": {},
   "source": [
    "# Iterative fitting on Buckingham potential"
   ]
  },
  {
   "cell_type": "code",
   "execution_count": 1,
   "id": "d88f1c57-aa71-4a19-9b6b-e9ada91bb1e6",
   "metadata": {},
   "outputs": [],
   "source": [
    "# Load in the relevant packages\n",
    "\n",
    "from ase.io import read,write\n",
    "from ase.build import bulk\n",
    "import numpy as np\n",
    "import ase.db as db\n",
    "from ase.visualize import view\n",
    "from ccs_fit.ase_calculator.ccs_ase_calculator import CCS\n",
    "import matplotlib.pyplot as plt\n",
    "import json\n",
    "from ase.io import read\n",
    "\n",
    "from ccs_fit.ase_calculator.buck import Buck\n",
    "with open(\"CCS_params_reference.json\", \"r\") as f:\n",
    "    CCS_params_ref = json.load(f)\n",
    "calc = CCS(CCS_params=CCS_params_ref)\n",
    "\n",
    "Fit_on_forces=False  #Enable/disable option for fitting CCS potential to atomic forces. "
   ]
  },
  {
   "cell_type": "markdown",
   "id": "16cf8943-479f-4215-b40e-863f22c69e1e",
   "metadata": {},
   "source": [
    "### Generate training data\n",
    "Curvature Constrained Splines can be fitted to a reference data-set with energies (and optionally forces) of pre-calculated structures. In this example we generate the reference data-set using a Lennard-Jones potential. We use a LJ bulk structure that we randomly rattle and scale. \n"
   ]
  },
  {
   "cell_type": "code",
   "execution_count": 2,
   "id": "2e90a2f1-7051-4ff9-a637-2dbaf453e307",
   "metadata": {},
   "outputs": [
    {
     "name": "stderr",
     "output_type": "stream",
     "text": [
      "/home/thism292/anaconda3/envs/CCS_fiterative/lib/python3.9/site-packages/ase/utils/__init__.py:62: FutureWarning: Please use atoms.cell.rank instead\n",
      "  warnings.warn(warning)\n"
     ]
    },
    {
     "name": "stdout",
     "output_type": "stream",
     "text": [
      "8543.983900030871\n",
      "8542.568839655572\n",
      "9214.547495923325\n",
      "8875.98546779078\n",
      "10129.280985257185\n",
      "5600.999755541849\n",
      "5636.576235189189\n",
      "5871.259728834417\n",
      "5900.197355809587\n",
      "6178.984317770381\n",
      "4368.461843897309\n",
      "4397.215998134108\n",
      "4496.320683367927\n",
      "4694.553352637534\n",
      "4890.953141724345\n",
      "3787.3464772517314\n",
      "3819.8558419600827\n",
      "3892.0929959360337\n",
      "4071.143351904195\n",
      "4276.3902453768505\n",
      "3518.9439997794375\n",
      "3548.612304933414\n",
      "3613.6223826607084\n",
      "3789.89651977228\n",
      "4069.088688613752\n",
      "3405.091435169861\n",
      "3436.196558463347\n",
      "3502.3238656173403\n",
      "3672.367691407162\n",
      "3854.8298764514266\n",
      "8543.983900030871\n",
      "8433.53792563895\n",
      "8639.657897591733\n",
      "9010.293442198163\n",
      "10278.608193590215\n",
      "5600.999755541849\n",
      "5638.38509898656\n",
      "5738.452228621427\n",
      "5942.064588904559\n",
      "6528.126569778602\n",
      "4368.461843897309\n",
      "4396.768211586047\n",
      "4508.270427543008\n",
      "4686.604446559331\n",
      "4927.0344429740335\n",
      "3787.3464772517314\n",
      "3818.5278776284113\n",
      "3891.081938016311\n",
      "4076.8641649680217\n",
      "4358.566425440061\n",
      "3518.9439997794375\n",
      "3544.9709818473707\n",
      "3622.5460629658746\n",
      "3721.5472471329713\n",
      "4023.7610636851036\n",
      "3405.091435169861\n",
      "3433.5180147514984\n",
      "3519.9664391742635\n",
      "3667.882741393532\n",
      "3881.280805162775\n",
      "8543.983900030871\n",
      "8435.196264900169\n",
      "8873.435631379629\n",
      "8832.216244514499\n",
      "9330.183908871451\n",
      "5600.999755541849\n",
      "5636.274864139971\n",
      "5740.5209414323845\n",
      "5978.818424623858\n",
      "6371.69765073251\n",
      "4368.461843897309\n",
      "4398.684222307059\n",
      "4490.0386432410805\n",
      "4686.141177022972\n",
      "4890.936998047832\n",
      "3787.3464772517314\n",
      "3822.376939119227\n",
      "3923.0342872104466\n",
      "4026.681029520025\n",
      "4313.337068962447\n",
      "3518.9439997794375\n",
      "3547.2220246791853\n",
      "3633.245258907528\n",
      "3774.0489262883166\n",
      "4034.8468116601193\n",
      "3405.091435169861\n",
      "3428.639136185667\n",
      "3522.087059532531\n",
      "3653.557324796936\n",
      "3878.7886412578073\n",
      "8543.983900030871\n",
      "8771.263842896265\n",
      "8269.192277478402\n",
      "8949.216892726472\n",
      "9300.283272671444\n",
      "5600.999755541849\n",
      "5672.996229080877\n",
      "5802.726839463615\n",
      "5943.774116165101\n",
      "6094.918465932067\n",
      "4368.461843897309\n",
      "4402.594958950191\n",
      "4487.608605994155\n",
      "4652.2373139990095\n",
      "4936.781939456177\n",
      "3787.3464772517314\n",
      "3818.7943558790553\n",
      "3911.08816495416\n",
      "4074.23707578029\n",
      "4281.467978775038\n",
      "3518.9439997794375\n",
      "3547.2303045794565\n",
      "3626.9184490840325\n",
      "3796.3850538776687\n",
      "3940.228705959253\n",
      "3405.091435169861\n",
      "3430.264973401311\n",
      "3522.6263233446202\n",
      "3625.4376019769256\n",
      "3875.773487435267\n",
      "8543.983900030871\n",
      "8674.776410952938\n",
      "8618.030108645975\n",
      "8518.763502029622\n",
      "9739.75354764162\n",
      "5600.999755541849\n",
      "5665.672923968949\n",
      "5756.514521554785\n",
      "5917.003128504011\n",
      "6359.936883569168\n",
      "4368.461843897309\n",
      "4397.981014076866\n",
      "4506.38524359185\n",
      "4704.0212591205855\n",
      "4972.832764274593\n",
      "3787.3464772517314\n",
      "3812.0523872656686\n",
      "3904.7395925368874\n",
      "4092.1827363937205\n",
      "4308.634170444504\n",
      "3518.9439997794375\n",
      "3544.6164672797227\n",
      "3644.0471269434847\n",
      "3790.8624563643407\n",
      "3945.3848501298216\n",
      "3405.091435169861\n",
      "3423.3641205176145\n",
      "3510.6400515392306\n",
      "3636.292816375913\n",
      "3795.2286957404126\n"
     ]
    }
   ],
   "source": [
    "TiO2 = read('TiO2.poscar')\n",
    "TiO2 = TiO2 * [4,4,6]\n",
    "\n",
    "TiO2.calc = calc\n",
    "\n",
    "orig_cell = TiO2.get_cell()\n",
    "orig_struc = TiO2.copy()\n",
    "\n",
    "displacement_magnitude=0.03\n",
    "disp_steps=5\n",
    "rounds=5\n",
    "\n",
    "trainset_list=\"file_list\" # List of strucutres to include in the database (see below)\n",
    "f = open(trainset_list, \"w\")\n",
    "counter=1\n",
    "for round in range(rounds):\n",
    "    for scale in np.linspace(0.95, 1.05, 6):\n",
    "        new_cell = orig_cell*scale\n",
    "        new_struc = orig_struc.copy()\n",
    "        new_struc.set_cell(new_cell)\n",
    "        new_struc.calc = calc\n",
    "        nrg = new_struc.get_potential_energy()\n",
    "        for i in range(disp_steps):\n",
    "            rattle_struc = new_struc.copy()\n",
    "            rattle_struc.rattle(displacement_magnitude*i, seed=counter)\n",
    "            rattle_struc.calc = calc\n",
    "            nrg = rattle_struc.get_potential_energy()\n",
    "            print(nrg)\n",
    "            xyz_file=f\"CALCULATED_DATA/S{counter}.xyz\"\n",
    "            write(xyz_file,rattle_struc)\n",
    "            print(xyz_file,file=f)\n",
    "            counter += 1\n",
    "\n",
    "f.close()"
   ]
  },
  {
   "cell_type": "code",
   "execution_count": 3,
   "id": "387f54e1-dac6-4fc1-a0a9-b9ba8c045ec0",
   "metadata": {},
   "outputs": [
    {
     "name": "stderr",
     "output_type": "stream",
     "text": [
      "    Building data-bases: 100%|████████████████████████████████████████████████████████████████████████████████████████████████████████████████████████████████████████████████████████████████████████████████████████████████| 150/150 [00:01<00:00, 96.73it/s]\n"
     ]
    }
   ],
   "source": [
    "from ccs_fit.scripts.ccs_build_db import ccs_build_db\n",
    "\n",
    "ccs_build_db(mode=\"CCS\",DFT_DB=\"TiO2.db\",file_list=\"file_list\",overwrite=True)"
   ]
  },
  {
   "cell_type": "markdown",
   "id": "bdb9cdef",
   "metadata": {},
   "source": [
    "### Generate the CCS_fit input file; structures.json\n",
    "The next commands fetch the training set data from the ASE database containing the LJ structures and the corresponding energies. The reference data is called ``LJ.db`` since the reference energies and forces are obtained from a Lennard Jones potential."
   ]
  },
  {
   "cell_type": "code",
   "execution_count": 4,
   "id": "e096b5f0",
   "metadata": {},
   "outputs": [
    {
     "name": "stderr",
     "output_type": "stream",
     "text": [
      "    Fetching data: 100%|\u001b[38;2;0;128;128m██████████████████████████████████████████████████████████████████████████████████████████████████████████████████████████████████████████████████████████████████████████████████████████████████████\u001b[0m| 150/150 [00:32<00:00,  4.55it/s]\u001b[0m\n"
     ]
    }
   ],
   "source": [
    "from ccs_fit.scripts.ccs_fetch import ccs_fetch\n",
    "\n",
    "ccs_fetch(mode=\"CCS\",DFT_DB=\"TiO2.db\",include_forces=Fit_on_forces)"
   ]
  },
  {
   "cell_type": "markdown",
   "id": "59be3faa",
   "metadata": {},
   "source": [
    "### Fit training data to Curvature Constrained Splines\n",
    "Finally, the splines are fitted to the target defined in the structures.json input file. The splines can be restricted to be fully repulsive (\"rep\"), or have a turning point/switch (\"sw\"), which is defined by the \"Swtype\" key. A more comprehensive guide on the fitting options can be found in Advanced_Tutorials/Search_Mode.\n"
   ]
  },
  {
   "cell_type": "code",
   "execution_count": 5,
   "id": "8c3ac0c1",
   "metadata": {},
   "outputs": [],
   "source": [
    "### Generate input.json file\n",
    "import json\n",
    "\n",
    "input={\n",
    "    \"General\": {\n",
    "        \"interface\": \"CCS\",\n",
    "        \"merging\"  : \"True\"\n",
    "    },\n",
    "    \"Twobody\": {\n",
    "                \"O-O\": {\n",
    "                        \"Rcut\": 6.0,\n",
    "                        \"Resolution\": 0.05,\n",
    "                        \"Swtype\": \"sw\",\n",
    "                        \"const_type\" : \"Mono\"\n",
    "                },\n",
    "                \"O-Ti\": {\n",
    "                        \"Rcut\": 6.0,\n",
    "                        \"Resolution\": 0.05,\n",
    "                        \"Swtype\": \"rep\",\n",
    "                        \"const_type\" : \"Mono\"\n",
    "                }\n",
    "        }\n",
    "}\n",
    "#SAVE TO FILE\n",
    "with open('CCS_input.json', 'w') as f:\n",
    "    json.dump(input, f, indent=8)"
   ]
  },
  {
   "cell_type": "code",
   "execution_count": 6,
   "id": "df1f9f0f",
   "metadata": {},
   "outputs": [
    {
     "name": "stdout",
     "output_type": "stream",
     "text": [
      "    Generating one-body information from training-set.\n",
      "        Added elements:  ['O', 'Ti']\n",
      "    Applying monotonic constraints for pair:  O-O\n",
      "    Applying monotonic constraints for pair:  O-Ti\n",
      "    Merging intervals for pair O-O; number of intervals reduced from 105 to 103. \n",
      "    There is linear dependence in stochiometry matrix!\n",
      "    Removing onebody term: Ti\n"
     ]
    },
    {
     "name": "stderr",
     "output_type": "stream",
     "text": [
      "    Finding optimum switch: 100%|\u001b[38;2;128;0;128m█████████████████████████████████████████████████████████████████████████████████████████████████████████████████████████████████████████████████████████████████████████████████████████████\u001b[0m| 103/103 [00:03<00:00, 29.55it/s]\u001b[0m\n"
     ]
    },
    {
     "name": "stdout",
     "output_type": "stream",
     "text": [
      "    The best switch is (17, 114) with rmse: 0.005424665888328976, corresponding to distances of [1.7  6.05] Å for element pairs ['O-O', 'O-Ti'].\n"
     ]
    }
   ],
   "source": [
    "#RUN FIT\n",
    "from ccs_fit import ccs_fit\n",
    "\n",
    "ccs_fit(\"CCS_input.json\")"
   ]
  },
  {
   "cell_type": "code",
   "execution_count": 7,
   "id": "1f78cb84-620e-43f1-bcc0-b0a6b125de47",
   "metadata": {},
   "outputs": [
    {
     "data": {
      "text/plain": [
       "'CCS_params_pre_prune.json'"
      ]
     },
     "execution_count": 7,
     "metadata": {},
     "output_type": "execute_result"
    }
   ],
   "source": [
    "from shutil import copyfile\n",
    "copyfile(\"CCS_params.json\", \"CCS_params_pre_prune.json\")"
   ]
  },
  {
   "cell_type": "markdown",
   "id": "65b034f5-c9f9-4bb8-a7ad-e460a0d2d630",
   "metadata": {},
   "source": [
    "### Make CaTiO3 database"
   ]
  },
  {
   "cell_type": "code",
   "execution_count": 8,
   "id": "b1d22eab-2501-4a1d-9d6a-8d6ee4e7142b",
   "metadata": {},
   "outputs": [
    {
     "name": "stderr",
     "output_type": "stream",
     "text": [
      "/home/thism292/anaconda3/envs/CCS_fiterative/lib/python3.9/site-packages/ase/utils/__init__.py:62: FutureWarning: Please use atoms.cell.rank instead\n",
      "  warnings.warn(warning)\n"
     ]
    },
    {
     "name": "stdout",
     "output_type": "stream",
     "text": [
      "12546.360738273594\n",
      "12808.91038099444\n",
      "12802.789764662579\n",
      "12881.920442574916\n",
      "14161.763788187955\n",
      "7296.989226458699\n",
      "7373.403840008252\n",
      "7581.666610930285\n",
      "7894.171439335281\n",
      "8187.7241252015465\n",
      "5395.985794315111\n",
      "5436.513125053763\n",
      "5556.075333865607\n",
      "5812.027220236784\n",
      "6115.882835940606\n",
      "4636.169235668235\n",
      "4663.3741353023415\n",
      "4793.857250313465\n",
      "4967.351575885579\n",
      "5212.87809995717\n",
      "4289.755223656647\n",
      "4334.646046697029\n",
      "4431.46898756453\n",
      "4591.522911073281\n",
      "4864.215818887845\n",
      "4126.122953834948\n",
      "4164.797260960545\n",
      "4289.275951071471\n",
      "4431.272246860271\n",
      "4613.170164423337\n",
      "12546.360738273594\n",
      "12405.542910914497\n",
      "12596.616031699008\n",
      "13932.80450800562\n",
      "13080.888635394678\n",
      "7296.989226458699\n",
      "7331.563835427802\n",
      "7454.333729609996\n",
      "7842.887068530492\n",
      "8230.551153568998\n",
      "5395.985794315111\n",
      "5434.679922799185\n",
      "5559.514646857272\n",
      "5792.066503941056\n",
      "6087.621327653008\n",
      "4636.169235668235\n",
      "4671.56392975176\n",
      "4793.3778168533845\n",
      "4999.037364598759\n",
      "5314.372013334236\n",
      "4289.755223656647\n",
      "4325.887483826418\n",
      "4406.4740173756\n",
      "4628.414880189393\n",
      "4870.227578506521\n",
      "4126.122953834948\n",
      "4153.6046004680975\n",
      "4289.331337205958\n",
      "4383.088993857825\n",
      "4678.453630676145\n",
      "12546.360738273594\n",
      "12716.173414095389\n",
      "12473.358036576103\n",
      "13260.745050568528\n",
      "13841.58497436501\n",
      "7296.989226458699\n",
      "7330.6678624793785\n",
      "7575.173286361715\n",
      "7758.813987546156\n",
      "7937.498904055732\n",
      "5395.985794315111\n",
      "5443.420388987323\n",
      "5582.317359105835\n",
      "5771.626449684123\n",
      "5934.358740401111\n",
      "4636.169235668235\n",
      "4667.7567732599\n",
      "4790.074561694042\n",
      "4972.53359864094\n",
      "5258.187741784515\n",
      "4289.755223656647\n",
      "4325.07635606395\n",
      "4425.57604718514\n",
      "4607.102703056933\n",
      "4833.383307167012\n",
      "4126.122953834948\n",
      "4167.2583161502025\n",
      "4235.955674863695\n",
      "4436.792061915574\n",
      "4793.3442616681195\n",
      "12546.360738273594\n",
      "12684.501658534295\n",
      "13559.431788592703\n",
      "13575.502063316988\n",
      "13907.03712788516\n",
      "7296.989226458699\n",
      "7359.43450201097\n",
      "7483.3943630650165\n",
      "7738.512802799138\n",
      "8243.889726834946\n",
      "5395.985794315111\n",
      "5436.464096765438\n",
      "5554.6815712704\n",
      "5787.097760494404\n",
      "6023.779964842459\n",
      "4636.169235668235\n",
      "4673.62879053138\n",
      "4766.445567802435\n",
      "4983.426059805635\n",
      "5247.42997675447\n",
      "4289.755223656647\n",
      "4316.874368915341\n",
      "4424.030654440159\n",
      "4609.929027169764\n",
      "4856.631852934833\n",
      "4126.122953834948\n",
      "4161.024148063058\n",
      "4257.028572796723\n",
      "4388.205903399424\n",
      "4658.5636255574655\n",
      "12546.360738273594\n",
      "12737.900084003904\n",
      "12299.059227954183\n",
      "13764.753087878717\n",
      "13353.428245426094\n",
      "7296.989226458699\n",
      "7400.53891722809\n",
      "7389.091092708301\n",
      "8002.294186021868\n",
      "8056.634501649357\n",
      "5395.985794315111\n",
      "5430.534143615842\n",
      "5565.823159973489\n",
      "5787.667882849104\n",
      "6096.41001014261\n",
      "4636.169235668235\n",
      "4668.939980403538\n",
      "4774.790320601689\n",
      "4980.458406559378\n",
      "5259.577853074881\n",
      "4289.755223656647\n",
      "4319.3687954763855\n",
      "4422.846234529463\n",
      "4609.123916870095\n",
      "4849.634644247214\n",
      "4126.122953834948\n",
      "4172.878499800702\n",
      "4243.738488302603\n",
      "4431.155295249321\n",
      "4671.285047243343\n"
     ]
    }
   ],
   "source": [
    "CaTiO3 = read('CaTiO3.poscar')\n",
    "CaTiO3 = CaTiO3 * [4, 4, 3]\n",
    "\n",
    "CaTiO3.calc = calc\n",
    "\n",
    "orig_cell = CaTiO3.get_cell()\n",
    "orig_struc = CaTiO3.copy()\n",
    "\n",
    "displacement_magnitude=0.03\n",
    "disp_steps=5\n",
    "rounds=5\n",
    "\n",
    "trainset_list=\"file_list\" # List of strucutres to include in the database (see below)\n",
    "f = open(trainset_list, \"w\")\n",
    "counter=1\n",
    "for round in range(rounds):\n",
    "    for scale in np.linspace(0.95, 1.05, 6):\n",
    "        new_cell = orig_cell*scale\n",
    "        new_struc = orig_struc.copy()\n",
    "        new_struc.set_cell(new_cell)\n",
    "        new_struc.calc = calc\n",
    "        nrg = new_struc.get_potential_energy()\n",
    "        for i in range(disp_steps):\n",
    "            rattle_struc = new_struc.copy()\n",
    "            rattle_struc.rattle(displacement_magnitude*i, seed=counter)\n",
    "            rattle_struc.calc = calc\n",
    "            nrg = rattle_struc.get_potential_energy()\n",
    "            print(nrg)\n",
    "            xyz_file=f\"CALCULATED_DATA/S{counter}.xyz\"\n",
    "            write(xyz_file,rattle_struc)\n",
    "            print(xyz_file,file=f)\n",
    "            counter += 1\n",
    "\n",
    "f.close()"
   ]
  },
  {
   "cell_type": "code",
   "execution_count": 9,
   "id": "672593dd-8bec-4262-b964-a84329b45af8",
   "metadata": {},
   "outputs": [
    {
     "name": "stderr",
     "output_type": "stream",
     "text": [
      "    Building data-bases: 100%|████████████████████████████████████████████████████████████████████████████████████████████████████████████████████████████████████████████████████████████████████████████████████████████████| 150/150 [00:01<00:00, 89.80it/s]\n"
     ]
    }
   ],
   "source": [
    "from ccs_fit.scripts.ccs_build_db import ccs_build_db\n",
    "\n",
    "ccs_build_db(mode=\"CCS\",DFT_DB=\"CaTiO3.db\",file_list=\"file_list\",overwrite=True)"
   ]
  },
  {
   "cell_type": "code",
   "execution_count": 10,
   "id": "fa8116b3-022b-4665-9d36-765f7912cef9",
   "metadata": {},
   "outputs": [
    {
     "name": "stderr",
     "output_type": "stream",
     "text": [
      "    Fetching data: 100%|\u001b[38;2;0;128;128m██████████████████████████████████████████████████████████████████████████████████████████████████████████████████████████████████████████████████████████████████████████████████████████████████████\u001b[0m| 150/150 [01:24<00:00,  1.78it/s]\u001b[0m\n"
     ]
    }
   ],
   "source": [
    "from ccs_fit.scripts.ccs_fetch import ccs_fetch\n",
    "\n",
    "ccs_fetch(mode=\"CCS\",DFT_DB=\"CaTiO3.db\",include_forces=False)"
   ]
  },
  {
   "cell_type": "markdown",
   "id": "1a260339-2986-4f1f-b374-1abcd4507026",
   "metadata": {},
   "source": [
    "### Pruning"
   ]
  },
  {
   "cell_type": "code",
   "execution_count": 2,
   "id": "a3b1cd37-1ee0-420e-b971-babf06f636d9",
   "metadata": {},
   "outputs": [
    {
     "name": "stdout",
     "output_type": "stream",
     "text": [
      "\n",
      "--------------------------------------------------------------------------------\n",
      "  0%|\u001b[38;2;128;0;0m                                                   \u001b[0m| 0/150 [00:00<?, ?it/s]\u001b[0m/home/thism292/anaconda3/envs/CCS_fiterative/lib/python3.9/site-packages/ase/utils/__init__.py:62: FutureWarning: Please use atoms.cell.rank instead\n",
      "  warnings.warn(warning)\n",
      "100%|\u001b[38;2;128;0;0m█████████████████████████████████████████\u001b[0m| 150/150 [04:58<00:00,  1.99s/it]\u001b[0m\n",
      "    Fetching data: 100%|\u001b[38;2;0;128;128m██████████████████████\u001b[0m| 150/150 [01:28<00:00,  1.70it/s]\u001b[0m\n"
     ]
    }
   ],
   "source": [
    "!ccs_prune -d CaTiO3.db"
   ]
  },
  {
   "cell_type": "code",
   "execution_count": 3,
   "id": "016ec66f-774c-429c-be0c-309bb61b62a2",
   "metadata": {},
   "outputs": [],
   "source": [
    "### Generate input.json file\n",
    "import json\n",
    "\n",
    "input={\n",
    "    \"General\": {\n",
    "        \"interface\": \"DFTB\",\n",
    "        \"merging\"  : \"True\"\n",
    "    },\n",
    "    \"Twobody\": {\n",
    "                \"Ca-O\": {\n",
    "                        \"Rcut\": 6.0,\n",
    "                        \"Resolution\": 0.05,\n",
    "                        \"Swtype\": \"rep\",\n",
    "                        \"const_type\" : \"Mono\"\n",
    "                },\n",
    "                \"O-O\": {\n",
    "                        \"Rcut\": 6.0,\n",
    "                        \"Resolution\": 0.05,\n",
    "                        \"Swtype\": \"sw\",\n",
    "                        \"const_type\" : \"Mono\"\n",
    "                }\n",
    "        }\n",
    "}\n",
    "#SAVE TO FILE\n",
    "with open('CCS_input.json', 'w') as f:\n",
    "    json.dump(input, f, indent=8)"
   ]
  },
  {
   "cell_type": "code",
   "execution_count": 4,
   "id": "08462efc-3e68-413a-8f15-08d51af53223",
   "metadata": {},
   "outputs": [
    {
     "name": "stdout",
     "output_type": "stream",
     "text": [
      "    Generating one-body information from training-set.\n",
      "        Added elements:  ['Ca', 'O', 'Ti']\n",
      "    Applying monotonic constraints for pair:  Ca-O\n",
      "    Applying monotonic constraints for pair:  O-O\n",
      "    Merging intervals for pair Ca-O; number of intervals reduced from 106 to 104. \n",
      "    There is linear dependence in stochiometry matrix!\n",
      "    Removing onebody term: O\n",
      "    There is linear dependence in stochiometry matrix!\n",
      "    Removing onebody term: Ti\n"
     ]
    },
    {
     "name": "stderr",
     "output_type": "stream",
     "text": [
      "    Finding optimum switch: 100%|\u001b[38;2;128;0;128m███████████████████████████████████████████████████████████████████████████████████████████████████████████████████████████████████████████████████████████████████████████████████████████████\u001b[0m| 97/97 [00:03<00:00, 28.07it/s]\u001b[0m\n"
     ]
    },
    {
     "name": "stdout",
     "output_type": "stream",
     "text": [
      "    The best switch is (104, 30) with rmse: 0.1028153685010174, corresponding to distances of [5.99 2.73] Å for element pairs ['Ca-O', 'O-O'].\n"
     ]
    }
   ],
   "source": [
    "#RUN FIT\n",
    "from ccs_fit import ccs_fit\n",
    "\n",
    "ccs_fit(\"CCS_input.json\")"
   ]
  },
  {
   "cell_type": "code",
   "execution_count": 6,
   "id": "6ee8b989-202c-45ef-a477-0452372598e2",
   "metadata": {},
   "outputs": [
    {
     "data": {
      "image/png": "[encoded data removed]",
      "text/plain": [
       "<Figure size 640x480 with 1 Axes>"
      ]
     },
     "metadata": {},
     "output_type": "display_data"
    }
   ],
   "source": [
    "import numpy as np\n",
    "import matplotlib.pyplot as plt\n",
    "\n",
    "with open(\"CCS_params_reference.json\", \"r\") as f:\n",
    "    CCS_params_ref = json.load(f)\n",
    "\n",
    "with open(\"CCS_params.json\", \"r\") as f:\n",
    "    CCS_params = json.load(f)\n",
    "\n",
    "r_ref = np.array(CCS_params_ref[\"Two_body\"][\"Ca-O\"][\"r\"])\n",
    "e_ref = CCS_params_ref[\"Two_body\"][\"Ca-O\"][\"spl_a\"]\n",
    "\n",
    "r = np.array(CCS_params[\"Two_body\"][\"Ca-O\"][\"r\"])\n",
    "e = CCS_params[\"Two_body\"][\"Ca-O\"][\"spl_a\"]\n",
    "\n",
    "plt.xlim(1.,4)\n",
    "plt.ylim(-1,3)\n",
    "plt.xlabel('Distance (Å)')\n",
    "plt.ylabel('Potential (eV)')\n",
    "plt.plot(r_ref,e_ref,color='black',label=\"Ref. CCS potential\")\n",
    "plt.plot(r,e,'--',color='red',label=\"Fitted potential\")\n",
    "plt.legend()\n",
    "plt.show()"
   ]
  },
  {
   "cell_type": "code",
   "execution_count": 7,
   "id": "09507444-4e43-4dc7-8b68-c3e3dd7c86a7",
   "metadata": {},
   "outputs": [
    {
     "data": {
      "image/png": "[encoded data removed]",
      "text/plain": [
       "<Figure size 640x480 with 1 Axes>"
      ]
     },
     "metadata": {},
     "output_type": "display_data"
    }
   ],
   "source": [
    "import numpy as np\n",
    "import matplotlib.pyplot as plt\n",
    "\n",
    "with open(\"CCS_params_reference.json\", \"r\") as f:\n",
    "    CCS_params_ref = json.load(f)\n",
    "\n",
    "with open(\"CCS_params_pre_prune.json\", \"r\") as f:\n",
    "    CCS_params = json.load(f)\n",
    "\n",
    "r_ref = np.array(CCS_params_ref[\"Two_body\"][\"O-O\"][\"r\"])\n",
    "e_ref = CCS_params_ref[\"Two_body\"][\"O-O\"][\"spl_a\"]\n",
    "\n",
    "r = np.array(CCS_params[\"Two_body\"][\"O-O\"][\"r\"])\n",
    "e = CCS_params[\"Two_body\"][\"O-O\"][\"spl_a\"]\n",
    "\n",
    "plt.xlim(0.75,3)\n",
    "plt.ylim(-2,1.5)\n",
    "plt.xlabel('Distance (Å)')\n",
    "plt.ylabel('Potential (eV)')\n",
    "plt.plot(r_ref,e_ref,color='black',label=\"Ref. CCS potential\")\n",
    "plt.plot(r,e,'--',color='red',label=\"Fitted potential\")\n",
    "plt.legend()\n",
    "plt.show()"
   ]
  },
  {
   "cell_type": "code",
   "execution_count": 9,
   "id": "d16655a0-0368-4c94-abcf-40ba84f7aa46",
   "metadata": {},
   "outputs": [
    {
     "data": {
      "image/png": "[encoded data removed]",
      "text/plain": [
       "<Figure size 640x480 with 1 Axes>"
      ]
     },
     "metadata": {},
     "output_type": "display_data"
    }
   ],
   "source": [
    "import numpy as np\n",
    "import matplotlib.pyplot as plt\n",
    "\n",
    "with open(\"CCS_params_reference.json\", \"r\") as f:\n",
    "    CCS_params_ref = json.load(f)\n",
    "\n",
    "with open(\"CCS_params.json\", \"r\") as f:\n",
    "    CCS_params = json.load(f)\n",
    "\n",
    "r_ref = np.array(CCS_params_ref[\"Two_body\"][\"O-O\"][\"r\"])\n",
    "e_ref = CCS_params_ref[\"Two_body\"][\"O-O\"][\"spl_a\"]\n",
    "\n",
    "r = np.array(CCS_params[\"Two_body\"][\"O-O\"][\"r\"])\n",
    "e = CCS_params[\"Two_body\"][\"O-O\"][\"spl_a\"]\n",
    "\n",
    "plt.xlim(0.75,3)\n",
    "plt.ylim(-2,1.5)\n",
    "plt.xlabel('Distance (Å)')\n",
    "plt.ylabel('Potential (eV)')\n",
    "plt.plot(r_ref,e_ref,color='black',label=\"Ref. CCS potential\")\n",
    "plt.plot(r,e,'--',color='red',label=\"Fitted potential\")\n",
    "plt.legend()\n",
    "plt.show()"
   ]
  },
  {
   "cell_type": "code",
   "execution_count": 8,
   "id": "a2cf3dc5-5a89-43d2-9761-127afdc9e9e7",
   "metadata": {},
   "outputs": [
    {
     "data": {
      "image/png": "[encoded data removed]",
      "text/plain": [
       "<Figure size 640x480 with 1 Axes>"
      ]
     },
     "metadata": {},
     "output_type": "display_data"
    }
   ],
   "source": [
    "import numpy as np\n",
    "import matplotlib.pyplot as plt\n",
    "\n",
    "with open(\"CCS_params_reference.json\", \"r\") as f:\n",
    "    CCS_params_ref = json.load(f)\n",
    "\n",
    "with open(\"CCS_params_pre_prune.json\", \"r\") as f:\n",
    "    CCS_params = json.load(f)\n",
    "\n",
    "r_ref = np.array(CCS_params_ref[\"Two_body\"][\"Ti-O\"][\"r\"])\n",
    "e_ref = CCS_params_ref[\"Two_body\"][\"Ti-O\"][\"spl_a\"]\n",
    "\n",
    "r = np.array(CCS_params[\"Two_body\"][\"O-Ti\"][\"r\"])\n",
    "e = CCS_params[\"Two_body\"][\"O-Ti\"][\"spl_a\"]\n",
    "\n",
    "plt.xlim(1.,4)\n",
    "plt.ylim(-1,3)\n",
    "plt.xlabel('Distance (Å)')\n",
    "plt.ylabel('Potential (eV)')\n",
    "plt.plot(r_ref,e_ref,color='black',label=\"Ref. CCS potential\")\n",
    "plt.plot(r,e,'--',color='red',label=\"Fitted potential\")\n",
    "plt.legend()\n",
    "plt.show()"
   ]
  },
  {
   "cell_type": "code",
   "execution_count": 21,
   "id": "7b675cf6-1c71-46be-941b-6cd789e786a9",
   "metadata": {},
   "outputs": [
    {
     "data": {
      "image/png": "[encoded data removed]",
      "text/plain": [
       "<Figure size 640x480 with 1 Axes>"
      ]
     },
     "metadata": {},
     "output_type": "display_data"
    }
   ],
   "source": [
    "import numpy as np\n",
    "import matplotlib.pyplot as plt\n",
    "\n",
    "with open(\"CCS_params_reference.json\", \"r\") as f:\n",
    "    CCS_params_ref = json.load(f)\n",
    "\n",
    "with open(\"CCS_params_pre_prune.json\", \"r\") as f:\n",
    "    CCS_params = json.load(f)\n",
    "\n",
    "r_ref = np.array(CCS_params_ref[\"Two_body\"][\"Ti-O\"][\"r\"])\n",
    "e_ref = CCS_params_ref[\"Two_body\"][\"Ti-O\"][\"spl_a\"]\n",
    "\n",
    "r = np.array(CCS_params_ref[\"Two_body\"][\"Ca-O\"][\"r\"])\n",
    "e = CCS_params_ref[\"Two_body\"][\"Ca-O\"][\"spl_a\"]\n",
    "\n",
    "plt.xlim(1.,4)\n",
    "plt.ylim(-1,3)\n",
    "plt.xlabel('Distance (Å)')\n",
    "plt.ylabel('Potential (eV)')\n",
    "plt.plot(r_ref,e_ref,color='black',label=\"Ref. CCS potential\")\n",
    "plt.plot(r,e,'--',color='red',label=\"Fitted potential\")\n",
    "plt.legend()\n",
    "plt.show()"
   ]
  },
  {
   "cell_type": "markdown",
   "id": "34edf9a9",
   "metadata": {},
   "source": [
    "### Cleaning up"
   ]
  },
  {
   "cell_type": "code",
   "execution_count": 10,
   "id": "d9e91016-9d41-4a7d-813d-526f803fd6ac",
   "metadata": {},
   "outputs": [],
   "source": [
    "import glob\n",
    "import os\n",
    "\n",
    "def rm(file):\n",
    "    try:\n",
    "        os.remove(file)\n",
    "    except OSError:\n",
    "        pass\n",
    "\n",
    "\n",
    "list=glob.glob(\"CALCULATED_DATA/*\")\n",
    "for file in list:\n",
    "    rm(file)\n",
    "list=glob.glob(\"CCS_*\")\n",
    "for file in list:\n",
    "    rm(file)\n",
    "rm(\"structures.json\")\n",
    "rm(\"file_list\")\n",
    "rm(\"LJ.db\")\n",
    "rm(\"ccs.spl\")\n",
    "rm(\"Buckingham.dat\")\n",
    "rm(\"Lennard_Jones.dat\")\n",
    "rm(\"Morse.dat\")"
   ]
  }
 ],
 "metadata": {
  "kernelspec": {
   "display_name": "CCS_fiterative",
   "language": "python",
   "name": "ccs_fiterative"
  },
  "language_info": {
   "codemirror_mode": {
    "name": "ipython",
    "version": 3
   },
   "file_extension": ".py",
   "mimetype": "text/x-python",
   "name": "python",
   "nbconvert_exporter": "python",
   "pygments_lexer": "ipython3",
   "version": "3.9.16"
  },
  "vscode": {
   "interpreter": {
    "hash": "f9cf24ff20edf0aae28141210fc773ab63efd2a56eb4d7d08651373a5d8a7dcd"
   }
  }
 },
 "nbformat": 4,
 "nbformat_minor": 5
}
