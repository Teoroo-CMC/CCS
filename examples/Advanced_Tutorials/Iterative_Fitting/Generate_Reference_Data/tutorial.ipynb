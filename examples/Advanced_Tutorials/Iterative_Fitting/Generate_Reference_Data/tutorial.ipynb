{
 "cells": [
  {
   "cell_type": "markdown",
   "id": "74f144dd",
   "metadata": {},
   "source": [
    "# Iterative fitting on Buckingham potential"
   ]
  },
  {
   "cell_type": "code",
   "execution_count": 2,
   "id": "dbf6d425-3119-45b7-a3e7-233e15f71ed9",
   "metadata": {},
   "outputs": [],
   "source": [
    "import os\n",
    "os.chdir(\"/home/thism292/Documents/repos/CCS_fit/examples/Advanced_Tutorials/Iterative_Fitting/Generate_Reference_Data/\")"
   ]
  },
  {
   "cell_type": "code",
   "execution_count": 3,
   "id": "d88f1c57-aa71-4a19-9b6b-e9ada91bb1e6",
   "metadata": {},
   "outputs": [],
   "source": [
    "# Load in the relevant packages\n",
    "\n",
    "from ase.io import read,write\n",
    "from ase.build import bulk\n",
    "import numpy as np\n",
    "import ase.db as db\n",
    "from ase.visualize import view\n",
    "from ase.calculators.lj import LennardJones\n",
    "import matplotlib.pyplot as plt\n",
    "import json\n",
    "\n",
    "from ccs_fit.ase_calculator.buck import Buck\n",
    "with open(\"Buck_params.json\", \"r\") as f: # From Calleja 2003 / https://iopscience.iop.org/article/10.1088/0953-8984/15/14/305/pdf\n",
    "    Buck_params = json.load(f)\n",
    "\n",
    "from ase.io import read\n",
    "\n",
    "Fit_on_forces=False  #Enable/disable option for fitting CCS potential to atomic forces. "
   ]
  },
  {
   "cell_type": "markdown",
   "id": "16cf8943-479f-4215-b40e-863f22c69e1e",
   "metadata": {},
   "source": [
    "### Generate training data\n",
    "Curvature Constrained Splines can be fitted to a reference data-set with energies (and optionally forces) of pre-calculated structures. In this example we generate the reference data-set using a Lennard-Jones potential. We use a LJ bulk structure that we randomly rattle and scale. \n"
   ]
  },
  {
   "cell_type": "code",
   "execution_count": 6,
   "id": "4bb67a05-70d0-4899-86fe-76c69593334c",
   "metadata": {},
   "outputs": [
    {
     "name": "stdout",
     "output_type": "stream",
     "text": [
      "12546.360759021092\n",
      "12808.910296457905\n",
      "12802.789671708042\n",
      "12881.920280195303\n",
      "14161.763665346878\n",
      "7296.989214311916\n",
      "7373.403800753854\n",
      "7581.666523449209\n",
      "7894.171337854036\n",
      "8187.723997356813\n",
      "5395.985716527156\n",
      "5436.513051162852\n",
      "5556.075255551225\n",
      "5812.027108912518\n",
      "6115.882701756425\n",
      "4636.1692147342865\n",
      "4663.374071279288\n",
      "4793.857097610353\n",
      "4967.351421941416\n",
      "5212.8779582066045\n",
      "4289.755215688891\n",
      "4334.646007988459\n",
      "4431.468914756558\n",
      "4591.52280023188\n",
      "4864.215695341181\n",
      "4126.122937479025\n",
      "4164.797232817886\n",
      "4289.275861004553\n",
      "4431.272142977646\n",
      "4613.170049895938\n",
      "12546.360759021092\n",
      "12405.542825437726\n",
      "12596.61591090148\n",
      "13932.804322469063\n",
      "13080.888487890023\n",
      "7296.989214311916\n",
      "7331.563778411622\n",
      "7454.333651559037\n",
      "7842.886946277381\n",
      "8230.55103256549\n",
      "5395.985716527156\n",
      "5434.679854391927\n",
      "5559.514539956003\n",
      "5792.066374971323\n",
      "6087.621213817829\n",
      "4636.1692147342865\n",
      "4671.563849009286\n",
      "4793.377661327943\n",
      "4999.037186787964\n",
      "5314.371818238511\n",
      "4289.755215688891\n",
      "4325.887447459358\n",
      "4406.4739373893\n",
      "4628.414749910102\n",
      "4870.227445541399\n",
      "4126.122937479025\n",
      "4153.604571926694\n",
      "4289.331253806693\n",
      "4383.088877831117\n",
      "4678.453519226017\n",
      "12546.360759021092\n",
      "12716.173344990866\n",
      "12473.357918858062\n",
      "13260.744917038066\n",
      "13841.58480998623\n",
      "7296.989214311916\n",
      "7330.667815830948\n",
      "7575.1731739215\n",
      "7758.813888495479\n",
      "7937.498740678813\n",
      "5395.985716527156\n",
      "5443.420308695213\n",
      "5582.317263381879\n",
      "5771.626334007678\n",
      "5934.3585959489665\n",
      "4636.1692147342865\n",
      "4667.756704515919\n",
      "4790.0744176195985\n",
      "4972.533457127946\n",
      "5258.1875708318\n",
      "4289.755215688891\n",
      "4325.076317185\n",
      "4425.575962099547\n",
      "4607.10259038673\n",
      "4833.38318129307\n",
      "4126.122937479025\n",
      "4167.258288087049\n",
      "4235.955597390473\n",
      "4436.791966164815\n",
      "4793.344153334824\n"
     ]
    }
   ],
   "source": [
    "CaTiO3 = read('CaTiO3.poscar')\n",
    "CaTiO3 = CaTiO3 * [4, 4, 3]\n",
    "\n",
    "calc = Buck(Buck_params)\n",
    "CaTiO3.calc = calc\n",
    "\n",
    "orig_cell = CaTiO3.get_cell()\n",
    "orig_struc = CaTiO3.copy()\n",
    "\n",
    "displacement_magnitude=0.03\n",
    "disp_steps=5\n",
    "rounds=3\n",
    "\n",
    "trainset_list=\"file_list\" # List of strucutres to include in the database (see below)\n",
    "f = open(trainset_list, \"w\")\n",
    "counter=1\n",
    "for round in range(rounds):\n",
    "    for scale in np.linspace(0.95, 1.05, 6):\n",
    "        new_cell = orig_cell*scale\n",
    "        new_struc = orig_struc.copy()\n",
    "        new_struc.set_cell(new_cell)\n",
    "        new_struc.calc = calc\n",
    "        nrg = new_struc.get_potential_energy()\n",
    "        for i in range(disp_steps):\n",
    "            rattle_struc = new_struc.copy()\n",
    "            rattle_struc.rattle(displacement_magnitude*i, seed=counter)\n",
    "            rattle_struc.calc = calc\n",
    "            nrg = rattle_struc.get_potential_energy()\n",
    "            print(nrg)\n",
    "            xyz_file=f\"CALCULATED_DATA/S{counter}.xyz\"\n",
    "            write(xyz_file,rattle_struc)\n",
    "            print(xyz_file,file=f)\n",
    "            counter += 1\n",
    "\n",
    "f.close()\n",
    "       "
   ]
  },
  {
   "cell_type": "code",
   "execution_count": 7,
   "id": "387f54e1-dac6-4fc1-a0a9-b9ba8c045ec0",
   "metadata": {},
   "outputs": [
    {
     "name": "stderr",
     "output_type": "stream",
     "text": [
      "    Building data-bases: 100%|██████████████████████████████████| 90/90 [00:01<00:00, 86.90it/s]\n"
     ]
    }
   ],
   "source": [
    "from ccs_fit.scripts.ccs_build_db import ccs_build_db\n",
    "\n",
    "ccs_build_db(mode=\"CCS\",DFT_DB=\"CaTiO3.db\",file_list=\"file_list\",overwrite=True)"
   ]
  },
  {
   "cell_type": "markdown",
   "id": "bdb9cdef",
   "metadata": {},
   "source": [
    "### Generate the CCS_fit input file; structures.json\n",
    "The next commands fetch the training set data from the ASE database containing the LJ structures and the corresponding energies. The reference data is called ``LJ.db`` since the reference energies and forces are obtained from a Lennard Jones potential."
   ]
  },
  {
   "cell_type": "code",
   "execution_count": 8,
   "id": "e096b5f0",
   "metadata": {},
   "outputs": [
    {
     "name": "stderr",
     "output_type": "stream",
     "text": [
      "    Fetching data: 100%|\u001b[38;2;0;128;128m████████████████████████████████████████\u001b[0m| 90/90 [00:51<00:00,  1.76it/s]\u001b[0m\n"
     ]
    }
   ],
   "source": [
    "from ccs_fit.scripts.ccs_fetch import ccs_fetch\n",
    "\n",
    "ccs_fetch(mode=\"CCS\",DFT_DB=\"CaTiO3.db\",include_forces=Fit_on_forces)"
   ]
  },
  {
   "cell_type": "markdown",
   "id": "59be3faa",
   "metadata": {},
   "source": [
    "### Fit training data to Curvature Constrained Splines\n",
    "Finally, the splines are fitted to the target defined in the structures.json input file. The splines can be restricted to be fully repulsive (\"rep\"), or have a turning point/switch (\"sw\"), which is defined by the \"Swtype\" key. A more comprehensive guide on the fitting options can be found in Advanced_Tutorials/Search_Mode.\n"
   ]
  },
  {
   "cell_type": "code",
   "execution_count": 9,
   "id": "8c3ac0c1",
   "metadata": {},
   "outputs": [],
   "source": [
    "### Generate input.json file\n",
    "import json\n",
    "\n",
    "input={\n",
    "    \"General\": {\n",
    "        \"interface\": \"CCS\",\n",
    "        \"merging\"  : \"True\"\n",
    "    },\n",
    "    \"Twobody\": {\n",
    "                \"O-O\": {\n",
    "                        \"Rcut\": 6.0,\n",
    "                        \"Resolution\": 0.01,\n",
    "                        \"Swtype\": \"sw\",\n",
    "                        \"const_type\" : \"Mono\"\n",
    "                },\n",
    "                \"O-Ti\": {\n",
    "                        \"Rcut\": 6.0,\n",
    "                        \"Resolution\": 0.01,\n",
    "                        \"Swtype\": \"rep\",\n",
    "                        \"const_type\" : \"Mono\"\n",
    "                },\n",
    "                \"Ti-Ti\": {\n",
    "                        \"Rcut\": 6.0,\n",
    "                        \"Resolution\": 0.01,\n",
    "                        \"Swtype\": \"rep\",\n",
    "                        \"const_type\" : \"Mono\"\n",
    "                }\n",
    "        }\n",
    "}\n",
    "#SAVE TO FILE\n",
    "with open('CCS_input.json', 'w') as f:\n",
    "    json.dump(input, f, indent=8)"
   ]
  },
  {
   "cell_type": "code",
   "execution_count": 10,
   "id": "abec50a8-6393-402c-a180-46cea0ad3f5d",
   "metadata": {
    "tags": []
   },
   "outputs": [],
   "source": [
    "### Generate input.json file\n",
    "import json\n",
    "\n",
    "input={\n",
    "    \"General\": {\n",
    "        \"interface\": \"CCS\",\n",
    "        \"merging\"  : \"True\"\n",
    "    },\n",
    "    \"Twobody\": {\n",
    "                \"Ca-O\": {\n",
    "                        \"Rcut\": 6.0,\n",
    "                        \"Resolution\": 0.05,\n",
    "                        \"Swtype\": \"rep\",\n",
    "                        \"const_type\" : \"Mono\"\n",
    "                },\n",
    "                \"O-O\": {\n",
    "                        \"Rcut\": 6.0,\n",
    "                        \"Resolution\": 0.05,\n",
    "                        \"Swtype\": \"sw\",\n",
    "                        \"const_type\" : \"Mono\"\n",
    "                },\n",
    "                \"Ti-O\": {\n",
    "                        \"Rcut\": 6.0,\n",
    "                        \"Resolution\": 0.05,\n",
    "                        \"Swtype\": \"rep\",\n",
    "                        \"const_type\" : \"Mono\"\n",
    "                }\n",
    "        }\n",
    "}\n",
    "\n",
    "#SAVE TO FILE\n",
    "with open('CCS_input.json', 'w') as f:\n",
    "    json.dump(input, f, indent=8)"
   ]
  },
  {
   "cell_type": "code",
   "execution_count": 11,
   "id": "df1f9f0f",
   "metadata": {},
   "outputs": [
    {
     "name": "stdout",
     "output_type": "stream",
     "text": [
      "    Generating one-body information from training-set.\n",
      "        Added elements:  ['Ca', 'O', 'Ti']\n",
      "    Applying monotonic constraints for pair:  Ca-O\n",
      "    Applying monotonic constraints for pair:  O-O\n",
      "    Applying monotonic constraints for pair:  Ti-O\n",
      "    Merging intervals for pair Ca-O; number of intervals reduced from 106 to 104. \n",
      "    Merging intervals for pair Ti-O; number of intervals reduced from 114 to 113. \n",
      "    There is linear dependence in stochiometry matrix!\n",
      "    Removing onebody term: O\n",
      "    There is linear dependence in stochiometry matrix!\n",
      "    Removing onebody term: Ti\n"
     ]
    },
    {
     "name": "stderr",
     "output_type": "stream",
     "text": [
      "    Finding optimum switch: 100%|\u001b[38;2;128;0;128m███████████████████████████████\u001b[0m| 97/97 [00:07<00:00, 12.33it/s]\u001b[0m\n"
     ]
    },
    {
     "name": "stdout",
     "output_type": "stream",
     "text": [
      "    The best switch is (104, 16, 113) with rmse: 7.69499837556838e-08, corresponding to distances of [5.99 2.04 6.04] Å for element pairs ['Ca-O', 'O-O', 'Ti-O'].\n"
     ]
    }
   ],
   "source": [
    "#RUN FIT\n",
    "from ccs_fit import ccs_fit\n",
    "\n",
    "ccs_fit(\"CCS_input.json\")"
   ]
  },
  {
   "cell_type": "markdown",
   "id": "2ce06ae5",
   "metadata": {},
   "source": [
    "### Validate your potential\n",
    "Make sure your potential (at least) reproduce the data points in your training-set. Performing further tests on strucutres not included in the training set is recomended but not included in the tutorial."
   ]
  },
  {
   "cell_type": "code",
   "execution_count": null,
   "id": "7e429885",
   "metadata": {},
   "outputs": [],
   "source": [
    "from ccs_fit.scripts.ccs_validate import ccs_validate\n",
    "ccs_validate(mode=\"CCS\",CCS_params=\"CCS_params.json\",DFT_DB=\"CaTiO3.db\")"
   ]
  },
  {
   "cell_type": "code",
   "execution_count": null,
   "id": "610cb7a9",
   "metadata": {},
   "outputs": [],
   "source": [
    "with open(\"CCS_params.json\", \"r\") as f:\n",
    "    CCS_params = json.load(f)\n",
    "\n",
    "with open(\"structures.json\", \"r\") as f:\n",
    "    training_set = json.load(f)\n",
    "\n",
    "r=np.array(CCS_params[\"Two_body\"][\"O-O\"][\"r\"])\n",
    "e=CCS_params[\"Two_body\"][\"O-O\"][\"spl_a\"]\n",
    "A = 22764 # 3242.124\n",
    "B = 6.7114 # 3.4626\n",
    "C = 27.88 # 0.\n",
    "e_Buck = A*np.exp(-B*r) - C/r**6\n",
    "plt.xlim(1.,3)\n",
    "plt.ylim(-3,1)\n",
    "plt.xlabel('Distance (Å)')\n",
    "plt.ylabel('Potential (eV)')\n",
    "plt.plot(r,e_Buck,color='black',label=\"Ref. Lennard-Jones potential\")\n",
    "plt.plot(r,e,'--',color='red',label=\"Fitted potential\")\n",
    "plt.legend()\n",
    "plt.show()\n",
    "\n",
    "err=np.loadtxt(\"CCS_validate.dat\")\n",
    "plt.xlabel('Reference energy (eV)')\n",
    "plt.ylabel('Validation energy (eV)')\n",
    "plt.plot( [min(err[:,0]),max(err[:,0])],[min(err[:,0]),max(err[:,0])],'--',color='black'  )\n",
    "plt.scatter(err[:,0],err[:,1],facecolors='none', edgecolors='red')\n",
    "plt.show()\n",
    "plt.xlabel('Reference energy (eV)')\n",
    "plt.ylabel('Error in fit (eV)')\n",
    "plt.scatter(err[:,0],err[:,2],facecolors='none', edgecolors='red')\n",
    "plt.show()\n",
    "\n",
    "try:\n",
    "    err_F=np.loadtxt(\"CCS_error_forces.out\")\n",
    "    plt.xlabel('Reference force (eV/Å)')\n",
    "    plt.ylabel('Fitted force (eV/Å)')\n",
    "    plt.plot( [min(err_F[:,0]),max(err_F[:,0])],[min(err_F[:,0]),max(err_F[:,0])],'--',color='black')\n",
    "    plt.scatter(err_F[:,0],err_F[:,1],facecolors='none', edgecolors='red',alpha=0.1 )\n",
    "    plt.show()\n",
    "except:\n",
    "    pass\n",
    "\n",
    "d=[]\n",
    "for t in training_set[\"energies\"]:\n",
    "    d.extend(training_set[\"energies\"][t][\"O-O\"])\n",
    "    \n",
    "plt.hist(d)\n",
    "plt.show()"
   ]
  },
  {
   "cell_type": "code",
   "execution_count": null,
   "id": "9e4e5558-2e1a-4117-a2e0-d7fb6f936f7a",
   "metadata": {},
   "outputs": [],
   "source": [
    "from ccs_fit.scripts.ccs_export_FF import write_FF\n",
    "\n",
    "write_FF(\"CCS_params.json\")"
   ]
  },
  {
   "cell_type": "markdown",
   "id": "1a260339-2986-4f1f-b374-1abcd4507026",
   "metadata": {},
   "source": [
    "### Pruning"
   ]
  },
  {
   "cell_type": "code",
   "execution_count": 12,
   "id": "ff1cb9a9-07a6-40e4-9dd5-6c0acd56d1af",
   "metadata": {},
   "outputs": [
    {
     "data": {
      "text/plain": [
       "'CCS_params_reference.json'"
      ]
     },
     "execution_count": 12,
     "metadata": {},
     "output_type": "execute_result"
    }
   ],
   "source": [
    "from shutil import copyfile\n",
    "copyfile(\"CCS_params.json\", \"CCS_params_reference.json\")"
   ]
  },
  {
   "cell_type": "code",
   "execution_count": 15,
   "id": "a3b1cd37-1ee0-420e-b971-babf06f636d9",
   "metadata": {},
   "outputs": [
    {
     "name": "stdout",
     "output_type": "stream",
     "text": [
      "\n",
      "--------------------------------------------------------------------------------\n",
      "Traceback (most recent call last):\n",
      "  File \"/home/thism292/anaconda3/envs/CCS_fiterative/bin/ccs_prune\", line 6, in <module>\n",
      "    sys.exit(main())\n",
      "  File \"/home/thism292/Documents/repos/CCS_fit/src/ccs_fit/scripts/ccs_prune.py\", line 169, in main\n",
      "    ccs_prune(**vars(args))\n",
      "  File \"/home/thism292/Documents/repos/CCS_fit/src/ccs_fit/scripts/ccs_prune.py\", line 60, in ccs_prune\n",
      "    with open(CCS_params, \"r\") as f:\n",
      "FileNotFoundError: [Errno 2] No such file or directory: 'CCS_params_pre_prune.json'\n"
     ]
    }
   ],
   "source": [
    "!ccs_prune -d \"CaTiO3.db\""
   ]
  },
  {
   "cell_type": "code",
   "execution_count": null,
   "id": "016ec66f-774c-429c-be0c-309bb61b62a2",
   "metadata": {},
   "outputs": [],
   "source": [
    "from ccs_fit.scripts.ccs_build_db import ccs_build_db\n",
    "\n",
    "ccs_build_db(mode=\"CCS\",DFT_DB=\"TiO2.db\",file_list=\"file_list\",overwrite=True)"
   ]
  },
  {
   "cell_type": "code",
   "execution_count": null,
   "id": "08462efc-3e68-413a-8f15-08d51af53223",
   "metadata": {},
   "outputs": [],
   "source": [
    "TiO2 = read('TiO2.poscar')\n",
    "TiO2 = TiO2 * [4,4,6]\n",
    "\n",
    "calc = Buck(Buck_params)\n",
    "TiO2.calc = calc\n",
    "\n",
    "orig_cell = TiO2.get_cell()\n",
    "orig_struc = TiO2.copy()\n",
    "\n",
    "displacement_magnitude=0.03\n",
    "disp_steps=5\n",
    "rounds=5\n",
    "\n",
    "trainset_list=\"file_list\" # List of strucutres to include in the database (see below)\n",
    "f = open(trainset_list, \"w\")\n",
    "counter=1\n",
    "for round in range(rounds):\n",
    "    for scale in np.linspace(0.95, 1.05, 6):\n",
    "        new_cell = orig_cell*scale\n",
    "        new_struc = orig_struc.copy()\n",
    "        new_struc.set_cell(new_cell)\n",
    "        new_struc.calc = calc\n",
    "        nrg = new_struc.get_potential_energy()\n",
    "        for i in range(disp_steps):\n",
    "            rattle_struc = new_struc.copy()\n",
    "            rattle_struc.rattle(displacement_magnitude*i, seed=counter)\n",
    "            rattle_struc.calc = calc\n",
    "            nrg = rattle_struc.get_potential_energy()\n",
    "            print(nrg)\n",
    "            xyz_file=f\"CALCULATED_DATA/S{counter}.xyz\"\n",
    "            write(xyz_file,rattle_struc)\n",
    "            print(xyz_file,file=f)\n",
    "            counter += 1\n",
    "\n",
    "f.close()"
   ]
  },
  {
   "cell_type": "markdown",
   "id": "34edf9a9",
   "metadata": {},
   "source": [
    "### Cleaning up"
   ]
  },
  {
   "cell_type": "code",
   "execution_count": null,
   "id": "d9e91016-9d41-4a7d-813d-526f803fd6ac",
   "metadata": {},
   "outputs": [],
   "source": [
    "import glob\n",
    "import os\n",
    "\n",
    "def rm(file):\n",
    "    try:\n",
    "        os.remove(file)\n",
    "    except OSError:\n",
    "        pass\n",
    "\n",
    "\n",
    "list=glob.glob(\"CALCULATED_DATA/*\")\n",
    "for file in list:\n",
    "    rm(file)\n",
    "list=glob.glob(\"CCS_*\")\n",
    "for file in list:\n",
    "    rm(file)\n",
    "rm(\"structures.json\")\n",
    "rm(\"file_list\")\n",
    "rm(\"LJ.db\")\n",
    "rm(\"ccs.spl\")\n",
    "rm(\"Buckingham.dat\")\n",
    "rm(\"Lennard_Jones.dat\")\n",
    "rm(\"Morse.dat\")\n",
    "rm(\"Pedone.dat\")\n",
    "rm(\"CCS.lammps\")"
   ]
  },
  {
   "cell_type": "code",
   "execution_count": null,
   "id": "0895fcd2-6ecb-4c0c-ae6d-2e6032771d15",
   "metadata": {},
   "outputs": [],
   "source": []
  }
 ],
 "metadata": {
  "kernelspec": {
   "display_name": "CCS_fiterative",
   "language": "python",
   "name": "ccs_fiterative"
  },
  "language_info": {
   "codemirror_mode": {
    "name": "ipython",
    "version": 3
   },
   "file_extension": ".py",
   "mimetype": "text/x-python",
   "name": "python",
   "nbconvert_exporter": "python",
   "pygments_lexer": "ipython3",
   "version": "3.9.16"
  },
  "vscode": {
   "interpreter": {
    "hash": "f9cf24ff20edf0aae28141210fc773ab63efd2a56eb4d7d08651373a5d8a7dcd"
   }
  }
 },
 "nbformat": 4,
 "nbformat_minor": 5
}
